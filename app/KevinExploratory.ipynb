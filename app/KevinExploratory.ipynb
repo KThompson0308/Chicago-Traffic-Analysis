{
 "cells": [
  {
   "cell_type": "code",
   "execution_count": 26,
   "metadata": {},
   "outputs": [],
   "source": [
    "import pandas as pd\n",
    "import numpy as np\n",
    "from pandas_profiling import ProfileReport\n",
    "import matplotlib.pyplot as plt"
   ]
  },
  {
   "cell_type": "code",
   "execution_count": 56,
   "metadata": {},
   "outputs": [],
   "source": [
    "dtypes = {'CRASH_DATE_EST_I': 'category', 'TRAFFIC_CONTROL_DEVICE': 'category', 'DEVICE_CONDITION': 'category',\n",
    "         'WEATHER_CONDITION': 'category', 'LIGHTING_CONDITION': 'category', 'FIRST_CRASH_TYPE': 'category',\n",
    "         'TRAFFICWAY_TYPE': 'category', 'ROADWAY_SURFACE_COND': 'category', 'ROAD_DEFECT': 'category',\n",
    "         'REPORT_TYPE': 'category', 'CRASH_TYPE': 'category', 'INTERSECTION_RELATED_I': 'category',\n",
    "         'NOT_RIGHT_OF_WAY_I': 'category', 'HIT_AND_RUN_I': 'category', 'DAMAGE': 'category', \n",
    "         'PRIM_CONTRIBUTORY_CAUSE': 'category', 'SEC_CONTRIBUTORY_CAUSE': 'category', 'STREET_DIRECTION': 'category',\n",
    "         'STREET_NAME': 'category', 'PHOTOS_TAKEN_I': 'category', 'STATEMENTS_TAKEN_I': 'category',\n",
    "         'DOORING_I': 'category', 'WORK_ZONE_I': 'category', 'WORK_ZONE_TYPE': 'category', 'WORKERS_PRESENT_I': 'category',\n",
    "         'MOST_SEVERE_INJURY': 'category'}"
   ]
  },
  {
   "cell_type": "code",
   "execution_count": 57,
   "metadata": {},
   "outputs": [],
   "source": [
    "crashes = pd.read_csv(\"../TrafficCrashesChicago.csv\", parse_dates=['CRASH_DATE', 'DATE_POLICE_NOTIFIED'],\n",
    "                      dtype=dtypes)"
   ]
  },
  {
   "cell_type": "code",
   "execution_count": 58,
   "metadata": {},
   "outputs": [
    {
     "name": "stdout",
     "output_type": "stream",
     "text": [
      "<class 'pandas.core.frame.DataFrame'>\n",
      "RangeIndex: 377630 entries, 0 to 377629\n",
      "Data columns (total 48 columns):\n",
      "RD_NO                            377630 non-null object\n",
      "CRASH_DATE_EST_I                 28062 non-null category\n",
      "CRASH_DATE                       377630 non-null datetime64[ns]\n",
      "POSTED_SPEED_LIMIT               377630 non-null int64\n",
      "TRAFFIC_CONTROL_DEVICE           377630 non-null category\n",
      "DEVICE_CONDITION                 377630 non-null category\n",
      "WEATHER_CONDITION                377630 non-null category\n",
      "LIGHTING_CONDITION               377630 non-null category\n",
      "FIRST_CRASH_TYPE                 377630 non-null category\n",
      "TRAFFICWAY_TYPE                  377630 non-null category\n",
      "LANE_CNT                         198549 non-null float64\n",
      "ALIGNMENT                        377630 non-null object\n",
      "ROADWAY_SURFACE_COND             377630 non-null category\n",
      "ROAD_DEFECT                      377630 non-null category\n",
      "REPORT_TYPE                      368884 non-null category\n",
      "CRASH_TYPE                       377630 non-null category\n",
      "INTERSECTION_RELATED_I           83409 non-null category\n",
      "NOT_RIGHT_OF_WAY_I               17401 non-null category\n",
      "HIT_AND_RUN_I                    104899 non-null category\n",
      "DAMAGE                           377630 non-null category\n",
      "DATE_POLICE_NOTIFIED             377630 non-null datetime64[ns]\n",
      "PRIM_CONTRIBUTORY_CAUSE          377630 non-null category\n",
      "SEC_CONTRIBUTORY_CAUSE           377630 non-null category\n",
      "STREET_NO                        377630 non-null int64\n",
      "STREET_DIRECTION                 377628 non-null category\n",
      "STREET_NAME                      377629 non-null category\n",
      "BEAT_OF_OCCURRENCE               377626 non-null float64\n",
      "PHOTOS_TAKEN_I                   4781 non-null category\n",
      "STATEMENTS_TAKEN_I               7624 non-null category\n",
      "DOORING_I                        1264 non-null category\n",
      "WORK_ZONE_I                      2646 non-null category\n",
      "WORK_ZONE_TYPE                   2100 non-null category\n",
      "WORKERS_PRESENT_I                617 non-null category\n",
      "NUM_UNITS                        376172 non-null float64\n",
      "MOST_SEVERE_INJURY               375396 non-null category\n",
      "INJURIES_TOTAL                   375403 non-null float64\n",
      "INJURIES_FATAL                   375403 non-null float64\n",
      "INJURIES_INCAPACITATING          375403 non-null float64\n",
      "INJURIES_NON_INCAPACITATING      375403 non-null float64\n",
      "INJURIES_REPORTED_NOT_EVIDENT    375403 non-null float64\n",
      "INJURIES_NO_INDICATION           375403 non-null float64\n",
      "INJURIES_UNKNOWN                 375403 non-null float64\n",
      "CRASH_HOUR                       377630 non-null int64\n",
      "CRASH_DAY_OF_WEEK                377630 non-null int64\n",
      "CRASH_MONTH                      377630 non-null int64\n",
      "LATITUDE                         375627 non-null float64\n",
      "LONGITUDE                        375627 non-null float64\n",
      "LOCATION                         375627 non-null object\n",
      "dtypes: category(26), datetime64[ns](2), float64(12), int64(5), object(3)\n",
      "memory usage: 73.2+ MB\n"
     ]
    }
   ],
   "source": [
    "crashes.info()"
   ]
  },
  {
   "cell_type": "code",
   "execution_count": 55,
   "metadata": {},
   "outputs": [
    {
     "data": {
      "text/html": [
       "<div>\n",
       "<style scoped>\n",
       "    .dataframe tbody tr th:only-of-type {\n",
       "        vertical-align: middle;\n",
       "    }\n",
       "\n",
       "    .dataframe tbody tr th {\n",
       "        vertical-align: top;\n",
       "    }\n",
       "\n",
       "    .dataframe thead th {\n",
       "        text-align: right;\n",
       "    }\n",
       "</style>\n",
       "<table border=\"1\" class=\"dataframe\">\n",
       "  <thead>\n",
       "    <tr style=\"text-align: right;\">\n",
       "      <th></th>\n",
       "      <th>LATITUDE</th>\n",
       "      <th>LONGITUDE</th>\n",
       "      <th>LOCATION</th>\n",
       "    </tr>\n",
       "  </thead>\n",
       "  <tbody>\n",
       "    <tr>\n",
       "      <th>0</th>\n",
       "      <td>41.886140</td>\n",
       "      <td>-87.614274</td>\n",
       "      <td>POINT (-87.614274106164 41.8861404879)</td>\n",
       "    </tr>\n",
       "    <tr>\n",
       "      <th>1</th>\n",
       "      <td>41.745549</td>\n",
       "      <td>-87.614670</td>\n",
       "      <td>POINT (-87.614669906271 41.745549113377)</td>\n",
       "    </tr>\n",
       "    <tr>\n",
       "      <th>2</th>\n",
       "      <td>41.772004</td>\n",
       "      <td>-87.581234</td>\n",
       "      <td>POINT (-87.58123401629 41.772004323752)</td>\n",
       "    </tr>\n",
       "    <tr>\n",
       "      <th>3</th>\n",
       "      <td>41.892327</td>\n",
       "      <td>-87.635742</td>\n",
       "      <td>POINT (-87.635741843096 41.89232650689)</td>\n",
       "    </tr>\n",
       "    <tr>\n",
       "      <th>4</th>\n",
       "      <td>41.948637</td>\n",
       "      <td>-87.688458</td>\n",
       "      <td>POINT (-87.688457506457 41.948636883802)</td>\n",
       "    </tr>\n",
       "  </tbody>\n",
       "</table>\n",
       "</div>"
      ],
      "text/plain": [
       "    LATITUDE  LONGITUDE                                  LOCATION\n",
       "0  41.886140 -87.614274    POINT (-87.614274106164 41.8861404879)\n",
       "1  41.745549 -87.614670  POINT (-87.614669906271 41.745549113377)\n",
       "2  41.772004 -87.581234   POINT (-87.58123401629 41.772004323752)\n",
       "3  41.892327 -87.635742   POINT (-87.635741843096 41.89232650689)\n",
       "4  41.948637 -87.688458  POINT (-87.688457506457 41.948636883802)"
      ]
     },
     "execution_count": 55,
     "metadata": {},
     "output_type": "execute_result"
    }
   ],
   "source": [
    "crashes[['LATITUDE', 'LONGITUDE', 'LOCATION']].head()"
   ]
  },
  {
   "cell_type": "code",
   "execution_count": 32,
   "metadata": {},
   "outputs": [
    {
     "data": {
      "text/plain": [
       "array(['2019', '2015', '2018', '2016', '2020', '2017', '2014', '2013'],\n",
       "      dtype=object)"
      ]
     },
     "execution_count": 32,
     "metadata": {},
     "output_type": "execute_result"
    }
   ],
   "source": []
  },
  {
   "cell_type": "code",
   "execution_count": null,
   "metadata": {},
   "outputs": [],
   "source": []
  }
 ],
 "metadata": {
  "kernelspec": {
   "display_name": "Python 3",
   "language": "python",
   "name": "python3"
  },
  "language_info": {
   "codemirror_mode": {
    "name": "ipython",
    "version": 3
   },
   "file_extension": ".py",
   "mimetype": "text/x-python",
   "name": "python",
   "nbconvert_exporter": "python",
   "pygments_lexer": "ipython3",
   "version": "3.6.8"
  }
 },
 "nbformat": 4,
 "nbformat_minor": 4
}
