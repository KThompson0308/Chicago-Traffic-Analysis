{
 "cells": [
  {
   "cell_type": "code",
   "execution_count": 21,
   "metadata": {},
   "outputs": [],
   "source": [
    "import pandas as pd\n",
    "import numpy as np\n",
    "from pandas_profiling import ProfileReport\n",
    "import matplotlib.pyplot as plt"
   ]
  },
  {
   "cell_type": "code",
   "execution_count": 27,
   "metadata": {},
   "outputs": [],
   "source": [
    "dtypes = {'RD_NO':str}"
   ]
  },
  {
   "cell_type": "code",
   "execution_count": 28,
   "metadata": {},
   "outputs": [],
   "source": [
    "crashes = pd.read_csv(\"../TrafficCrashesChicago.csv\", parse_dates=['CRASH_DATE'])"
   ]
  },
  {
   "cell_type": "code",
   "execution_count": 29,
   "metadata": {},
   "outputs": [
    {
     "name": "stdout",
     "output_type": "stream",
     "text": [
      "<class 'pandas.core.frame.DataFrame'>\n",
      "RangeIndex: 377630 entries, 0 to 377629\n",
      "Data columns (total 48 columns):\n",
      "RD_NO                            377630 non-null object\n",
      "CRASH_DATE_EST_I                 28062 non-null object\n",
      "CRASH_DATE                       377630 non-null datetime64[ns]\n",
      "POSTED_SPEED_LIMIT               377630 non-null int64\n",
      "TRAFFIC_CONTROL_DEVICE           377630 non-null object\n",
      "DEVICE_CONDITION                 377630 non-null object\n",
      "WEATHER_CONDITION                377630 non-null object\n",
      "LIGHTING_CONDITION               377630 non-null object\n",
      "FIRST_CRASH_TYPE                 377630 non-null object\n",
      "TRAFFICWAY_TYPE                  377630 non-null object\n",
      "LANE_CNT                         198549 non-null float64\n",
      "ALIGNMENT                        377630 non-null object\n",
      "ROADWAY_SURFACE_COND             377630 non-null object\n",
      "ROAD_DEFECT                      377630 non-null object\n",
      "REPORT_TYPE                      368884 non-null object\n",
      "CRASH_TYPE                       377630 non-null object\n",
      "INTERSECTION_RELATED_I           83409 non-null object\n",
      "NOT_RIGHT_OF_WAY_I               17401 non-null object\n",
      "HIT_AND_RUN_I                    104899 non-null object\n",
      "DAMAGE                           377630 non-null object\n",
      "DATE_POLICE_NOTIFIED             377630 non-null object\n",
      "PRIM_CONTRIBUTORY_CAUSE          377630 non-null object\n",
      "SEC_CONTRIBUTORY_CAUSE           377630 non-null object\n",
      "STREET_NO                        377630 non-null int64\n",
      "STREET_DIRECTION                 377628 non-null object\n",
      "STREET_NAME                      377629 non-null object\n",
      "BEAT_OF_OCCURRENCE               377626 non-null float64\n",
      "PHOTOS_TAKEN_I                   4781 non-null object\n",
      "STATEMENTS_TAKEN_I               7624 non-null object\n",
      "DOORING_I                        1264 non-null object\n",
      "WORK_ZONE_I                      2646 non-null object\n",
      "WORK_ZONE_TYPE                   2100 non-null object\n",
      "WORKERS_PRESENT_I                617 non-null object\n",
      "NUM_UNITS                        376172 non-null float64\n",
      "MOST_SEVERE_INJURY               375396 non-null object\n",
      "INJURIES_TOTAL                   375403 non-null float64\n",
      "INJURIES_FATAL                   375403 non-null float64\n",
      "INJURIES_INCAPACITATING          375403 non-null float64\n",
      "INJURIES_NON_INCAPACITATING      375403 non-null float64\n",
      "INJURIES_REPORTED_NOT_EVIDENT    375403 non-null float64\n",
      "INJURIES_NO_INDICATION           375403 non-null float64\n",
      "INJURIES_UNKNOWN                 375403 non-null float64\n",
      "CRASH_HOUR                       377630 non-null int64\n",
      "CRASH_DAY_OF_WEEK                377630 non-null int64\n",
      "CRASH_MONTH                      377630 non-null int64\n",
      "LATITUDE                         375627 non-null float64\n",
      "LONGITUDE                        375627 non-null float64\n",
      "LOCATION                         375627 non-null object\n",
      "dtypes: datetime64[ns](1), float64(12), int64(5), object(30)\n",
      "memory usage: 138.3+ MB\n"
     ]
    }
   ],
   "source": [
    "crashes.info()"
   ]
  },
  {
   "cell_type": "code",
   "execution_count": 30,
   "metadata": {},
   "outputs": [],
   "source": [
    "crashes['year'] = crashes['CRASH_DATE'].dt.strftime('%Y')"
   ]
  },
  {
   "cell_type": "code",
   "execution_count": 32,
   "metadata": {},
   "outputs": [
    {
     "data": {
      "text/plain": [
       "array(['2019', '2015', '2018', '2016', '2020', '2017', '2014', '2013'],\n",
       "      dtype=object)"
      ]
     },
     "execution_count": 32,
     "metadata": {},
     "output_type": "execute_result"
    }
   ],
   "source": []
  },
  {
   "cell_type": "code",
   "execution_count": null,
   "metadata": {},
   "outputs": [],
   "source": []
  }
 ],
 "metadata": {
  "kernelspec": {
   "display_name": "Python 3",
   "language": "python",
   "name": "python3"
  },
  "language_info": {
   "codemirror_mode": {
    "name": "ipython",
    "version": 3
   },
   "file_extension": ".py",
   "mimetype": "text/x-python",
   "name": "python",
   "nbconvert_exporter": "python",
   "pygments_lexer": "ipython3",
   "version": "3.6.8"
  }
 },
 "nbformat": 4,
 "nbformat_minor": 4
}
