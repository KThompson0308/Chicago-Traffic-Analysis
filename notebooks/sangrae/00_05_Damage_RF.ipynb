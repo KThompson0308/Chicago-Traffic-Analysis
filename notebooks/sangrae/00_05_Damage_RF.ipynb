{
 "cells": [
  {
   "cell_type": "markdown",
   "metadata": {},
   "source": [
    "# Feature selection with Random Forest\n",
    "\n",
    "We are using the feature selection from feature importance of basic RF clf. \n"
   ]
  },
  {
   "cell_type": "code",
   "execution_count": 4,
   "metadata": {},
   "outputs": [],
   "source": [
    "# pandas and numpy for data manipulation\n",
    "import pandas as pd\n",
    "import numpy as np\n",
    "\n",
    "# featuretools for automated feature engineering\n",
    "import featuretools as ft\n",
    "\n",
    "# matplotlit and seaborn for visualizations\n",
    "import matplotlib.pyplot as plt\n",
    "plt.rcParams['font.size'] = 22\n",
    "import seaborn as sns\n",
    "\n",
    "# Suppress warnings from pandas\n",
    "import warnings\n",
    "warnings.filterwarnings('ignore')\n",
    "\n",
    "# modeling \n",
    "from sklearn.ensemble import RandomForestClassifier\n",
    "\n",
    "# utilities\n",
    "from sklearn.model_selection import train_test_split\n",
    "from sklearn.model_selection import KFold\n",
    "from sklearn.metrics import roc_auc_score\n",
    "from sklearn.preprocessing import LabelEncoder\n",
    "\n",
    "# memory management\n",
    "import gc\n",
    "\n",
    "# others\n",
    "import os\n"
   ]
  },
  {
   "cell_type": "code",
   "execution_count": 6,
   "metadata": {},
   "outputs": [
    {
     "name": "stdout",
     "output_type": "stream",
     "text": [
      "['00_injury_GBM_onehot_corr90_dropped.csv', '00_injury_GBM_onehot_corr90_dropped_special.csv', '00_injury_onehot_corr90_dropped_replace_missing.csv', '00_injury_onehot_corr90_dropped_replace_missing_special.csv', '00_injury_train_people_vehicle_corrs_removed.csv', '00_injury_train_people_vehicle_corrs_removed.zip', '00_injury_train_people_vehicle_missing_70.csv', 'cumsum.csv', 'injury_onehot_corr90_dropped.csv', 'injury_train_people_vehicle_corrs_removed.csv', 'injury_train_people_vehicle_corrs_removed.zip', 'injury_train_people_vehicle_raw.csv', 'Traffic_Crashes_-_Crashes.csv', 'Traffic_Crashes_-_People.csv', 'Traffic_Crashes_-_Vehicles.csv', 'train_control_damage.csv', 'train_new.csv', 'train_people_vehicle_corrs_removed.csv', 'train_people_vehicle_corrs_removed.zip', 'train_people_vehicle_raw.csv']\n"
     ]
    }
   ],
   "source": [
    "print(os.listdir(\"../../input\"))"
   ]
  },
  {
   "cell_type": "code",
   "execution_count": 8,
   "metadata": {},
   "outputs": [
    {
     "name": "stdout",
     "output_type": "stream",
     "text": [
      "<class 'pandas.core.frame.DataFrame'>\n",
      "RangeIndex: 207101 entries, 0 to 207100\n",
      "Columns: 129 entries, RD_NO to vehicle_VEHICLE_TYPE_VAN/MINI-VAN_count\n",
      "dtypes: float64(100), int64(3), object(26)\n",
      "memory usage: 203.8+ MB\n"
     ]
    },
    {
     "data": {
      "text/plain": [
       "(207101, 129)"
      ]
     },
     "execution_count": 8,
     "metadata": {},
     "output_type": "execute_result"
    }
   ],
   "source": [
    "#read in data\n",
    "categoricals = ['CRASH_DATE_EST_I', 'TRAFFIC_CONTROL_DEVICE', 'DEVICE_CONDITION',\n",
    "                'WEATHER_CONDITION', 'LIGHTING_CONDITION', 'TRAFFICWAY_TYPE',\n",
    "                'FIRST_CRASH_TYPE', 'TRAFFICWAY_TYPE', 'ROADWAY_SURFACE_COND',\n",
    "                'ROAD_DEFECT', 'REPORT_TYPE', 'CRASH_TYPE', 'INTERSECTION_RELATED_I',\n",
    "                'NOT_RIGHT_OF_WAY_I', 'HIT_AND_RUN_I', 'DAMAGE', 'PRIM_CONTRIBUTORY_CAUSE',\n",
    "                'SEC_CONTRIBUTORY_CAUSE', 'STREET_DIRECTION', 'STREET_NAME', 'PHOTOS_TAKEN_I',\n",
    "                'STATEMENTS_TAKEN_I', 'DOORING_I', 'WORK_ZONE_I', 'WORK_ZONE_TYPE', 'WORKERS_PRESENT_I',\n",
    "                'MOST_SEVERE_INJURY', 'BEAT_OF_OCCURRENCE','CRASH_HOUR','CRASH_MONTH','CRASH_DAY_OF_WEEK','YEAR']\n",
    "dtypes = dict.fromkeys(categoricals, 'object')\n",
    "\n",
    "\n",
    "train = pd.read_csv('../../input/train_people_vehicle_corrs_removed.csv', dtype = dtypes)\n",
    "train.info()\n",
    "train.shape"
   ]
  },
  {
   "cell_type": "markdown",
   "metadata": {},
   "source": [
    "There are 207,101 rows and 129 features in the dataset"
   ]
  },
  {
   "cell_type": "code",
   "execution_count": 9,
   "metadata": {},
   "outputs": [],
   "source": [
    "# save the ids and target\n",
    "train_labels = train['TARGET']\n",
    "train_ids = train['RD_NO']"
   ]
  },
  {
   "cell_type": "markdown",
   "metadata": {},
   "source": [
    "we are dropping some variables with date and IDs and location information which are not important for modeling."
   ]
  },
  {
   "cell_type": "code",
   "execution_count": 10,
   "metadata": {},
   "outputs": [
    {
     "data": {
      "text/plain": [
       "(207101, 120)"
      ]
     },
     "execution_count": 10,
     "metadata": {},
     "output_type": "execute_result"
    }
   ],
   "source": [
    "# drop variables \n",
    "drop_columns =  ['RD_NO','CRASH_DATE', 'DATE_POLICE_NOTIFIED', 'STREET_NAME','STREET_NO','BEAT_OF_OCCURRENCE','LATITUDE','LONGITUDE','LOCATION']\n",
    "train = train.drop(columns=drop_columns)\n",
    "train.shape"
   ]
  },
  {
   "cell_type": "code",
   "execution_count": 11,
   "metadata": {},
   "outputs": [
    {
     "data": {
      "text/plain": [
       "(207101, 120)"
      ]
     },
     "execution_count": 11,
     "metadata": {},
     "output_type": "execute_result"
    }
   ],
   "source": [
    "train.shape"
   ]
  },
  {
   "cell_type": "markdown",
   "metadata": {},
   "source": [
    "Our data set is composed of categorical variables the most. it will take some time to run the model due to the size of features. "
   ]
  },
  {
   "cell_type": "markdown",
   "metadata": {},
   "source": [
    "## Remove Collinear Variables\n",
    "\n",
    "Since we haved added some numrical features from other tables. We are checing collinearity.\n",
    "Collinear variables can decrease the model's availablility to learn, decrease model interpretability, and decrease generalization performance on the test set. Clearly, these are three things we want to increase, so removing collinear variables is a useful step. We will establish an admittedly arbitrary threshold for removing collinear variables, and then remove one out of any pair of variables that is above that threshold."
   ]
  },
  {
   "cell_type": "code",
   "execution_count": 12,
   "metadata": {},
   "outputs": [
    {
     "data": {
      "text/html": [
       "<div>\n",
       "<style scoped>\n",
       "    .dataframe tbody tr th:only-of-type {\n",
       "        vertical-align: middle;\n",
       "    }\n",
       "\n",
       "    .dataframe tbody tr th {\n",
       "        vertical-align: top;\n",
       "    }\n",
       "\n",
       "    .dataframe thead th {\n",
       "        text-align: right;\n",
       "    }\n",
       "</style>\n",
       "<table border=\"1\" class=\"dataframe\">\n",
       "  <thead>\n",
       "    <tr style=\"text-align: right;\">\n",
       "      <th></th>\n",
       "      <th>POSTED_SPEED_LIMIT</th>\n",
       "      <th>NUM_UNITS</th>\n",
       "      <th>INJURIES_TOTAL</th>\n",
       "      <th>INJURIES_FATAL</th>\n",
       "      <th>INJURIES_INCAPACITATING</th>\n",
       "      <th>INJURIES_NON_INCAPACITATING</th>\n",
       "      <th>INJURIES_REPORTED_NOT_EVIDENT</th>\n",
       "      <th>INJURIES_NO_INDICATION</th>\n",
       "      <th>INJURIES_UNKNOWN</th>\n",
       "      <th>TARGET</th>\n",
       "      <th>...</th>\n",
       "      <th>vehicle_VEHICLE_TYPE_OTHER VEHICLE WITH TRAILER_count</th>\n",
       "      <th>vehicle_VEHICLE_TYPE_PASSENGER_count</th>\n",
       "      <th>vehicle_VEHICLE_TYPE_PICKUP_count</th>\n",
       "      <th>vehicle_VEHICLE_TYPE_SNOWMOBILE_count</th>\n",
       "      <th>vehicle_VEHICLE_TYPE_SPORT UTILITY VEHICLE (SUV)_count</th>\n",
       "      <th>vehicle_VEHICLE_TYPE_TRACTOR W/ SEMI-TRAILER_count</th>\n",
       "      <th>vehicle_VEHICLE_TYPE_TRACTOR W/O SEMI-TRAILER_count</th>\n",
       "      <th>vehicle_VEHICLE_TYPE_TRUCK - SINGLE UNIT_count</th>\n",
       "      <th>vehicle_VEHICLE_TYPE_UNKNOWN/NA_count</th>\n",
       "      <th>vehicle_VEHICLE_TYPE_VAN/MINI-VAN_count</th>\n",
       "    </tr>\n",
       "  </thead>\n",
       "  <tbody>\n",
       "    <tr>\n",
       "      <th>POSTED_SPEED_LIMIT</th>\n",
       "      <td>1.000000</td>\n",
       "      <td>0.049491</td>\n",
       "      <td>0.068983</td>\n",
       "      <td>0.006308</td>\n",
       "      <td>0.027931</td>\n",
       "      <td>0.053116</td>\n",
       "      <td>0.036796</td>\n",
       "      <td>0.093795</td>\n",
       "      <td>NaN</td>\n",
       "      <td>0.031343</td>\n",
       "      <td>...</td>\n",
       "      <td>0.002673</td>\n",
       "      <td>0.072215</td>\n",
       "      <td>0.009332</td>\n",
       "      <td>0.001294</td>\n",
       "      <td>0.007552</td>\n",
       "      <td>0.008286</td>\n",
       "      <td>0.003318</td>\n",
       "      <td>0.016044</td>\n",
       "      <td>0.061501</td>\n",
       "      <td>0.009958</td>\n",
       "    </tr>\n",
       "    <tr>\n",
       "      <th>NUM_UNITS</th>\n",
       "      <td>0.049491</td>\n",
       "      <td>1.000000</td>\n",
       "      <td>0.102762</td>\n",
       "      <td>0.002373</td>\n",
       "      <td>0.039796</td>\n",
       "      <td>0.075840</td>\n",
       "      <td>0.060803</td>\n",
       "      <td>0.174629</td>\n",
       "      <td>NaN</td>\n",
       "      <td>0.074404</td>\n",
       "      <td>...</td>\n",
       "      <td>0.000756</td>\n",
       "      <td>0.398321</td>\n",
       "      <td>0.060508</td>\n",
       "      <td>0.000295</td>\n",
       "      <td>0.108460</td>\n",
       "      <td>0.040797</td>\n",
       "      <td>0.006118</td>\n",
       "      <td>0.011399</td>\n",
       "      <td>0.056225</td>\n",
       "      <td>0.075619</td>\n",
       "    </tr>\n",
       "    <tr>\n",
       "      <th>INJURIES_TOTAL</th>\n",
       "      <td>0.068983</td>\n",
       "      <td>0.102762</td>\n",
       "      <td>1.000000</td>\n",
       "      <td>0.097241</td>\n",
       "      <td>0.344159</td>\n",
       "      <td>0.756336</td>\n",
       "      <td>0.582305</td>\n",
       "      <td>0.176321</td>\n",
       "      <td>NaN</td>\n",
       "      <td>0.105215</td>\n",
       "      <td>...</td>\n",
       "      <td>0.005938</td>\n",
       "      <td>0.030276</td>\n",
       "      <td>0.004151</td>\n",
       "      <td>0.001599</td>\n",
       "      <td>0.000874</td>\n",
       "      <td>0.017818</td>\n",
       "      <td>0.003904</td>\n",
       "      <td>0.022661</td>\n",
       "      <td>0.080565</td>\n",
       "      <td>0.006614</td>\n",
       "    </tr>\n",
       "    <tr>\n",
       "      <th>INJURIES_FATAL</th>\n",
       "      <td>0.006308</td>\n",
       "      <td>0.002373</td>\n",
       "      <td>0.097241</td>\n",
       "      <td>1.000000</td>\n",
       "      <td>0.045003</td>\n",
       "      <td>0.018826</td>\n",
       "      <td>0.005692</td>\n",
       "      <td>0.030544</td>\n",
       "      <td>NaN</td>\n",
       "      <td>0.015745</td>\n",
       "      <td>...</td>\n",
       "      <td>0.001638</td>\n",
       "      <td>0.003834</td>\n",
       "      <td>0.001761</td>\n",
       "      <td>0.000144</td>\n",
       "      <td>0.003871</td>\n",
       "      <td>0.004269</td>\n",
       "      <td>0.011284</td>\n",
       "      <td>0.000339</td>\n",
       "      <td>0.007714</td>\n",
       "      <td>0.003099</td>\n",
       "    </tr>\n",
       "    <tr>\n",
       "      <th>INJURIES_INCAPACITATING</th>\n",
       "      <td>0.027931</td>\n",
       "      <td>0.039796</td>\n",
       "      <td>0.344159</td>\n",
       "      <td>0.045003</td>\n",
       "      <td>1.000000</td>\n",
       "      <td>0.047690</td>\n",
       "      <td>0.006683</td>\n",
       "      <td>0.080003</td>\n",
       "      <td>NaN</td>\n",
       "      <td>0.043203</td>\n",
       "      <td>...</td>\n",
       "      <td>0.003580</td>\n",
       "      <td>0.003333</td>\n",
       "      <td>0.002083</td>\n",
       "      <td>0.000588</td>\n",
       "      <td>0.004860</td>\n",
       "      <td>0.006834</td>\n",
       "      <td>0.001189</td>\n",
       "      <td>0.012257</td>\n",
       "      <td>0.029306</td>\n",
       "      <td>0.002417</td>\n",
       "    </tr>\n",
       "  </tbody>\n",
       "</table>\n",
       "<p>5 rows × 100 columns</p>\n",
       "</div>"
      ],
      "text/plain": [
       "                         POSTED_SPEED_LIMIT  NUM_UNITS  INJURIES_TOTAL  \\\n",
       "POSTED_SPEED_LIMIT                 1.000000   0.049491        0.068983   \n",
       "NUM_UNITS                          0.049491   1.000000        0.102762   \n",
       "INJURIES_TOTAL                     0.068983   0.102762        1.000000   \n",
       "INJURIES_FATAL                     0.006308   0.002373        0.097241   \n",
       "INJURIES_INCAPACITATING            0.027931   0.039796        0.344159   \n",
       "\n",
       "                         INJURIES_FATAL  INJURIES_INCAPACITATING  \\\n",
       "POSTED_SPEED_LIMIT             0.006308                 0.027931   \n",
       "NUM_UNITS                      0.002373                 0.039796   \n",
       "INJURIES_TOTAL                 0.097241                 0.344159   \n",
       "INJURIES_FATAL                 1.000000                 0.045003   \n",
       "INJURIES_INCAPACITATING        0.045003                 1.000000   \n",
       "\n",
       "                         INJURIES_NON_INCAPACITATING  \\\n",
       "POSTED_SPEED_LIMIT                          0.053116   \n",
       "NUM_UNITS                                   0.075840   \n",
       "INJURIES_TOTAL                              0.756336   \n",
       "INJURIES_FATAL                              0.018826   \n",
       "INJURIES_INCAPACITATING                     0.047690   \n",
       "\n",
       "                         INJURIES_REPORTED_NOT_EVIDENT  \\\n",
       "POSTED_SPEED_LIMIT                            0.036796   \n",
       "NUM_UNITS                                     0.060803   \n",
       "INJURIES_TOTAL                                0.582305   \n",
       "INJURIES_FATAL                                0.005692   \n",
       "INJURIES_INCAPACITATING                       0.006683   \n",
       "\n",
       "                         INJURIES_NO_INDICATION  INJURIES_UNKNOWN    TARGET  \\\n",
       "POSTED_SPEED_LIMIT                     0.093795               NaN  0.031343   \n",
       "NUM_UNITS                              0.174629               NaN  0.074404   \n",
       "INJURIES_TOTAL                         0.176321               NaN  0.105215   \n",
       "INJURIES_FATAL                         0.030544               NaN  0.015745   \n",
       "INJURIES_INCAPACITATING                0.080003               NaN  0.043203   \n",
       "\n",
       "                         ...  \\\n",
       "POSTED_SPEED_LIMIT       ...   \n",
       "NUM_UNITS                ...   \n",
       "INJURIES_TOTAL           ...   \n",
       "INJURIES_FATAL           ...   \n",
       "INJURIES_INCAPACITATING  ...   \n",
       "\n",
       "                         vehicle_VEHICLE_TYPE_OTHER VEHICLE WITH TRAILER_count  \\\n",
       "POSTED_SPEED_LIMIT                                                0.002673       \n",
       "NUM_UNITS                                                         0.000756       \n",
       "INJURIES_TOTAL                                                    0.005938       \n",
       "INJURIES_FATAL                                                    0.001638       \n",
       "INJURIES_INCAPACITATING                                           0.003580       \n",
       "\n",
       "                         vehicle_VEHICLE_TYPE_PASSENGER_count  \\\n",
       "POSTED_SPEED_LIMIT                                   0.072215   \n",
       "NUM_UNITS                                            0.398321   \n",
       "INJURIES_TOTAL                                       0.030276   \n",
       "INJURIES_FATAL                                       0.003834   \n",
       "INJURIES_INCAPACITATING                              0.003333   \n",
       "\n",
       "                         vehicle_VEHICLE_TYPE_PICKUP_count  \\\n",
       "POSTED_SPEED_LIMIT                                0.009332   \n",
       "NUM_UNITS                                         0.060508   \n",
       "INJURIES_TOTAL                                    0.004151   \n",
       "INJURIES_FATAL                                    0.001761   \n",
       "INJURIES_INCAPACITATING                           0.002083   \n",
       "\n",
       "                         vehicle_VEHICLE_TYPE_SNOWMOBILE_count  \\\n",
       "POSTED_SPEED_LIMIT                                    0.001294   \n",
       "NUM_UNITS                                             0.000295   \n",
       "INJURIES_TOTAL                                        0.001599   \n",
       "INJURIES_FATAL                                        0.000144   \n",
       "INJURIES_INCAPACITATING                               0.000588   \n",
       "\n",
       "                         vehicle_VEHICLE_TYPE_SPORT UTILITY VEHICLE (SUV)_count  \\\n",
       "POSTED_SPEED_LIMIT                                                0.007552        \n",
       "NUM_UNITS                                                         0.108460        \n",
       "INJURIES_TOTAL                                                    0.000874        \n",
       "INJURIES_FATAL                                                    0.003871        \n",
       "INJURIES_INCAPACITATING                                           0.004860        \n",
       "\n",
       "                         vehicle_VEHICLE_TYPE_TRACTOR W/ SEMI-TRAILER_count  \\\n",
       "POSTED_SPEED_LIMIT                                                0.008286    \n",
       "NUM_UNITS                                                         0.040797    \n",
       "INJURIES_TOTAL                                                    0.017818    \n",
       "INJURIES_FATAL                                                    0.004269    \n",
       "INJURIES_INCAPACITATING                                           0.006834    \n",
       "\n",
       "                         vehicle_VEHICLE_TYPE_TRACTOR W/O SEMI-TRAILER_count  \\\n",
       "POSTED_SPEED_LIMIT                                                0.003318     \n",
       "NUM_UNITS                                                         0.006118     \n",
       "INJURIES_TOTAL                                                    0.003904     \n",
       "INJURIES_FATAL                                                    0.011284     \n",
       "INJURIES_INCAPACITATING                                           0.001189     \n",
       "\n",
       "                         vehicle_VEHICLE_TYPE_TRUCK - SINGLE UNIT_count  \\\n",
       "POSTED_SPEED_LIMIT                                             0.016044   \n",
       "NUM_UNITS                                                      0.011399   \n",
       "INJURIES_TOTAL                                                 0.022661   \n",
       "INJURIES_FATAL                                                 0.000339   \n",
       "INJURIES_INCAPACITATING                                        0.012257   \n",
       "\n",
       "                         vehicle_VEHICLE_TYPE_UNKNOWN/NA_count  \\\n",
       "POSTED_SPEED_LIMIT                                    0.061501   \n",
       "NUM_UNITS                                             0.056225   \n",
       "INJURIES_TOTAL                                        0.080565   \n",
       "INJURIES_FATAL                                        0.007714   \n",
       "INJURIES_INCAPACITATING                               0.029306   \n",
       "\n",
       "                         vehicle_VEHICLE_TYPE_VAN/MINI-VAN_count  \n",
       "POSTED_SPEED_LIMIT                                      0.009958  \n",
       "NUM_UNITS                                               0.075619  \n",
       "INJURIES_TOTAL                                          0.006614  \n",
       "INJURIES_FATAL                                          0.003099  \n",
       "INJURIES_INCAPACITATING                                 0.002417  \n",
       "\n",
       "[5 rows x 100 columns]"
      ]
     },
     "execution_count": 12,
     "metadata": {},
     "output_type": "execute_result"
    }
   ],
   "source": [
    "# Threshold for removing correlated variables\n",
    "threshold = 0.9\n",
    "\n",
    "# Absolute value correlation matrix\n",
    "corr_matrix = train.corr().abs()\n",
    "corr_matrix.head()"
   ]
  },
  {
   "cell_type": "code",
   "execution_count": 13,
   "metadata": {},
   "outputs": [
    {
     "data": {
      "text/html": [
       "<div>\n",
       "<style scoped>\n",
       "    .dataframe tbody tr th:only-of-type {\n",
       "        vertical-align: middle;\n",
       "    }\n",
       "\n",
       "    .dataframe tbody tr th {\n",
       "        vertical-align: top;\n",
       "    }\n",
       "\n",
       "    .dataframe thead th {\n",
       "        text-align: right;\n",
       "    }\n",
       "</style>\n",
       "<table border=\"1\" class=\"dataframe\">\n",
       "  <thead>\n",
       "    <tr style=\"text-align: right;\">\n",
       "      <th></th>\n",
       "      <th>POSTED_SPEED_LIMIT</th>\n",
       "      <th>NUM_UNITS</th>\n",
       "      <th>INJURIES_TOTAL</th>\n",
       "      <th>INJURIES_FATAL</th>\n",
       "      <th>INJURIES_INCAPACITATING</th>\n",
       "      <th>INJURIES_NON_INCAPACITATING</th>\n",
       "      <th>INJURIES_REPORTED_NOT_EVIDENT</th>\n",
       "      <th>INJURIES_NO_INDICATION</th>\n",
       "      <th>INJURIES_UNKNOWN</th>\n",
       "      <th>TARGET</th>\n",
       "      <th>...</th>\n",
       "      <th>vehicle_VEHICLE_TYPE_OTHER VEHICLE WITH TRAILER_count</th>\n",
       "      <th>vehicle_VEHICLE_TYPE_PASSENGER_count</th>\n",
       "      <th>vehicle_VEHICLE_TYPE_PICKUP_count</th>\n",
       "      <th>vehicle_VEHICLE_TYPE_SNOWMOBILE_count</th>\n",
       "      <th>vehicle_VEHICLE_TYPE_SPORT UTILITY VEHICLE (SUV)_count</th>\n",
       "      <th>vehicle_VEHICLE_TYPE_TRACTOR W/ SEMI-TRAILER_count</th>\n",
       "      <th>vehicle_VEHICLE_TYPE_TRACTOR W/O SEMI-TRAILER_count</th>\n",
       "      <th>vehicle_VEHICLE_TYPE_TRUCK - SINGLE UNIT_count</th>\n",
       "      <th>vehicle_VEHICLE_TYPE_UNKNOWN/NA_count</th>\n",
       "      <th>vehicle_VEHICLE_TYPE_VAN/MINI-VAN_count</th>\n",
       "    </tr>\n",
       "  </thead>\n",
       "  <tbody>\n",
       "    <tr>\n",
       "      <th>POSTED_SPEED_LIMIT</th>\n",
       "      <td>NaN</td>\n",
       "      <td>0.049491</td>\n",
       "      <td>0.068983</td>\n",
       "      <td>0.006308</td>\n",
       "      <td>0.027931</td>\n",
       "      <td>0.053116</td>\n",
       "      <td>0.036796</td>\n",
       "      <td>0.093795</td>\n",
       "      <td>NaN</td>\n",
       "      <td>0.031343</td>\n",
       "      <td>...</td>\n",
       "      <td>0.002673</td>\n",
       "      <td>0.072215</td>\n",
       "      <td>0.009332</td>\n",
       "      <td>0.001294</td>\n",
       "      <td>0.007552</td>\n",
       "      <td>0.008286</td>\n",
       "      <td>0.003318</td>\n",
       "      <td>0.016044</td>\n",
       "      <td>0.061501</td>\n",
       "      <td>0.009958</td>\n",
       "    </tr>\n",
       "    <tr>\n",
       "      <th>NUM_UNITS</th>\n",
       "      <td>NaN</td>\n",
       "      <td>NaN</td>\n",
       "      <td>0.102762</td>\n",
       "      <td>0.002373</td>\n",
       "      <td>0.039796</td>\n",
       "      <td>0.075840</td>\n",
       "      <td>0.060803</td>\n",
       "      <td>0.174629</td>\n",
       "      <td>NaN</td>\n",
       "      <td>0.074404</td>\n",
       "      <td>...</td>\n",
       "      <td>0.000756</td>\n",
       "      <td>0.398321</td>\n",
       "      <td>0.060508</td>\n",
       "      <td>0.000295</td>\n",
       "      <td>0.108460</td>\n",
       "      <td>0.040797</td>\n",
       "      <td>0.006118</td>\n",
       "      <td>0.011399</td>\n",
       "      <td>0.056225</td>\n",
       "      <td>0.075619</td>\n",
       "    </tr>\n",
       "    <tr>\n",
       "      <th>INJURIES_TOTAL</th>\n",
       "      <td>NaN</td>\n",
       "      <td>NaN</td>\n",
       "      <td>NaN</td>\n",
       "      <td>0.097241</td>\n",
       "      <td>0.344159</td>\n",
       "      <td>0.756336</td>\n",
       "      <td>0.582305</td>\n",
       "      <td>0.176321</td>\n",
       "      <td>NaN</td>\n",
       "      <td>0.105215</td>\n",
       "      <td>...</td>\n",
       "      <td>0.005938</td>\n",
       "      <td>0.030276</td>\n",
       "      <td>0.004151</td>\n",
       "      <td>0.001599</td>\n",
       "      <td>0.000874</td>\n",
       "      <td>0.017818</td>\n",
       "      <td>0.003904</td>\n",
       "      <td>0.022661</td>\n",
       "      <td>0.080565</td>\n",
       "      <td>0.006614</td>\n",
       "    </tr>\n",
       "    <tr>\n",
       "      <th>INJURIES_FATAL</th>\n",
       "      <td>NaN</td>\n",
       "      <td>NaN</td>\n",
       "      <td>NaN</td>\n",
       "      <td>NaN</td>\n",
       "      <td>0.045003</td>\n",
       "      <td>0.018826</td>\n",
       "      <td>0.005692</td>\n",
       "      <td>0.030544</td>\n",
       "      <td>NaN</td>\n",
       "      <td>0.015745</td>\n",
       "      <td>...</td>\n",
       "      <td>0.001638</td>\n",
       "      <td>0.003834</td>\n",
       "      <td>0.001761</td>\n",
       "      <td>0.000144</td>\n",
       "      <td>0.003871</td>\n",
       "      <td>0.004269</td>\n",
       "      <td>0.011284</td>\n",
       "      <td>0.000339</td>\n",
       "      <td>0.007714</td>\n",
       "      <td>0.003099</td>\n",
       "    </tr>\n",
       "    <tr>\n",
       "      <th>INJURIES_INCAPACITATING</th>\n",
       "      <td>NaN</td>\n",
       "      <td>NaN</td>\n",
       "      <td>NaN</td>\n",
       "      <td>NaN</td>\n",
       "      <td>NaN</td>\n",
       "      <td>0.047690</td>\n",
       "      <td>0.006683</td>\n",
       "      <td>0.080003</td>\n",
       "      <td>NaN</td>\n",
       "      <td>0.043203</td>\n",
       "      <td>...</td>\n",
       "      <td>0.003580</td>\n",
       "      <td>0.003333</td>\n",
       "      <td>0.002083</td>\n",
       "      <td>0.000588</td>\n",
       "      <td>0.004860</td>\n",
       "      <td>0.006834</td>\n",
       "      <td>0.001189</td>\n",
       "      <td>0.012257</td>\n",
       "      <td>0.029306</td>\n",
       "      <td>0.002417</td>\n",
       "    </tr>\n",
       "  </tbody>\n",
       "</table>\n",
       "<p>5 rows × 100 columns</p>\n",
       "</div>"
      ],
      "text/plain": [
       "                         POSTED_SPEED_LIMIT  NUM_UNITS  INJURIES_TOTAL  \\\n",
       "POSTED_SPEED_LIMIT                      NaN   0.049491        0.068983   \n",
       "NUM_UNITS                               NaN        NaN        0.102762   \n",
       "INJURIES_TOTAL                          NaN        NaN             NaN   \n",
       "INJURIES_FATAL                          NaN        NaN             NaN   \n",
       "INJURIES_INCAPACITATING                 NaN        NaN             NaN   \n",
       "\n",
       "                         INJURIES_FATAL  INJURIES_INCAPACITATING  \\\n",
       "POSTED_SPEED_LIMIT             0.006308                 0.027931   \n",
       "NUM_UNITS                      0.002373                 0.039796   \n",
       "INJURIES_TOTAL                 0.097241                 0.344159   \n",
       "INJURIES_FATAL                      NaN                 0.045003   \n",
       "INJURIES_INCAPACITATING             NaN                      NaN   \n",
       "\n",
       "                         INJURIES_NON_INCAPACITATING  \\\n",
       "POSTED_SPEED_LIMIT                          0.053116   \n",
       "NUM_UNITS                                   0.075840   \n",
       "INJURIES_TOTAL                              0.756336   \n",
       "INJURIES_FATAL                              0.018826   \n",
       "INJURIES_INCAPACITATING                     0.047690   \n",
       "\n",
       "                         INJURIES_REPORTED_NOT_EVIDENT  \\\n",
       "POSTED_SPEED_LIMIT                            0.036796   \n",
       "NUM_UNITS                                     0.060803   \n",
       "INJURIES_TOTAL                                0.582305   \n",
       "INJURIES_FATAL                                0.005692   \n",
       "INJURIES_INCAPACITATING                       0.006683   \n",
       "\n",
       "                         INJURIES_NO_INDICATION  INJURIES_UNKNOWN    TARGET  \\\n",
       "POSTED_SPEED_LIMIT                     0.093795               NaN  0.031343   \n",
       "NUM_UNITS                              0.174629               NaN  0.074404   \n",
       "INJURIES_TOTAL                         0.176321               NaN  0.105215   \n",
       "INJURIES_FATAL                         0.030544               NaN  0.015745   \n",
       "INJURIES_INCAPACITATING                0.080003               NaN  0.043203   \n",
       "\n",
       "                         ...  \\\n",
       "POSTED_SPEED_LIMIT       ...   \n",
       "NUM_UNITS                ...   \n",
       "INJURIES_TOTAL           ...   \n",
       "INJURIES_FATAL           ...   \n",
       "INJURIES_INCAPACITATING  ...   \n",
       "\n",
       "                         vehicle_VEHICLE_TYPE_OTHER VEHICLE WITH TRAILER_count  \\\n",
       "POSTED_SPEED_LIMIT                                                0.002673       \n",
       "NUM_UNITS                                                         0.000756       \n",
       "INJURIES_TOTAL                                                    0.005938       \n",
       "INJURIES_FATAL                                                    0.001638       \n",
       "INJURIES_INCAPACITATING                                           0.003580       \n",
       "\n",
       "                         vehicle_VEHICLE_TYPE_PASSENGER_count  \\\n",
       "POSTED_SPEED_LIMIT                                   0.072215   \n",
       "NUM_UNITS                                            0.398321   \n",
       "INJURIES_TOTAL                                       0.030276   \n",
       "INJURIES_FATAL                                       0.003834   \n",
       "INJURIES_INCAPACITATING                              0.003333   \n",
       "\n",
       "                         vehicle_VEHICLE_TYPE_PICKUP_count  \\\n",
       "POSTED_SPEED_LIMIT                                0.009332   \n",
       "NUM_UNITS                                         0.060508   \n",
       "INJURIES_TOTAL                                    0.004151   \n",
       "INJURIES_FATAL                                    0.001761   \n",
       "INJURIES_INCAPACITATING                           0.002083   \n",
       "\n",
       "                         vehicle_VEHICLE_TYPE_SNOWMOBILE_count  \\\n",
       "POSTED_SPEED_LIMIT                                    0.001294   \n",
       "NUM_UNITS                                             0.000295   \n",
       "INJURIES_TOTAL                                        0.001599   \n",
       "INJURIES_FATAL                                        0.000144   \n",
       "INJURIES_INCAPACITATING                               0.000588   \n",
       "\n",
       "                         vehicle_VEHICLE_TYPE_SPORT UTILITY VEHICLE (SUV)_count  \\\n",
       "POSTED_SPEED_LIMIT                                                0.007552        \n",
       "NUM_UNITS                                                         0.108460        \n",
       "INJURIES_TOTAL                                                    0.000874        \n",
       "INJURIES_FATAL                                                    0.003871        \n",
       "INJURIES_INCAPACITATING                                           0.004860        \n",
       "\n",
       "                         vehicle_VEHICLE_TYPE_TRACTOR W/ SEMI-TRAILER_count  \\\n",
       "POSTED_SPEED_LIMIT                                                0.008286    \n",
       "NUM_UNITS                                                         0.040797    \n",
       "INJURIES_TOTAL                                                    0.017818    \n",
       "INJURIES_FATAL                                                    0.004269    \n",
       "INJURIES_INCAPACITATING                                           0.006834    \n",
       "\n",
       "                         vehicle_VEHICLE_TYPE_TRACTOR W/O SEMI-TRAILER_count  \\\n",
       "POSTED_SPEED_LIMIT                                                0.003318     \n",
       "NUM_UNITS                                                         0.006118     \n",
       "INJURIES_TOTAL                                                    0.003904     \n",
       "INJURIES_FATAL                                                    0.011284     \n",
       "INJURIES_INCAPACITATING                                           0.001189     \n",
       "\n",
       "                         vehicle_VEHICLE_TYPE_TRUCK - SINGLE UNIT_count  \\\n",
       "POSTED_SPEED_LIMIT                                             0.016044   \n",
       "NUM_UNITS                                                      0.011399   \n",
       "INJURIES_TOTAL                                                 0.022661   \n",
       "INJURIES_FATAL                                                 0.000339   \n",
       "INJURIES_INCAPACITATING                                        0.012257   \n",
       "\n",
       "                         vehicle_VEHICLE_TYPE_UNKNOWN/NA_count  \\\n",
       "POSTED_SPEED_LIMIT                                    0.061501   \n",
       "NUM_UNITS                                             0.056225   \n",
       "INJURIES_TOTAL                                        0.080565   \n",
       "INJURIES_FATAL                                        0.007714   \n",
       "INJURIES_INCAPACITATING                               0.029306   \n",
       "\n",
       "                         vehicle_VEHICLE_TYPE_VAN/MINI-VAN_count  \n",
       "POSTED_SPEED_LIMIT                                      0.009958  \n",
       "NUM_UNITS                                               0.075619  \n",
       "INJURIES_TOTAL                                          0.006614  \n",
       "INJURIES_FATAL                                          0.003099  \n",
       "INJURIES_INCAPACITATING                                 0.002417  \n",
       "\n",
       "[5 rows x 100 columns]"
      ]
     },
     "execution_count": 13,
     "metadata": {},
     "output_type": "execute_result"
    }
   ],
   "source": [
    "# Upper triangle of correlations\n",
    "upper = corr_matrix.where(np.triu(np.ones(corr_matrix.shape), k=1).astype(np.bool))\n",
    "upper.head()"
   ]
  },
  {
   "cell_type": "code",
   "execution_count": 14,
   "metadata": {},
   "outputs": [
    {
     "name": "stdout",
     "output_type": "stream",
     "text": [
      "There are 1 columns to remove.\n"
     ]
    }
   ],
   "source": [
    "# Select columns with correlations above threshold\n",
    "to_drop = [column for column in upper.columns if any(upper[column] > threshold)]\n",
    "\n",
    "print('There are %d columns to remove.' % (len(to_drop)))"
   ]
  },
  {
   "cell_type": "code",
   "execution_count": 15,
   "metadata": {},
   "outputs": [
    {
     "data": {
      "text/plain": [
       "['SAFETY_EQUIPMENT_USAGE UNKNOWN_count_norm']"
      ]
     },
     "execution_count": 15,
     "metadata": {},
     "output_type": "execute_result"
    }
   ],
   "source": [
    "to_drop"
   ]
  },
  {
   "cell_type": "code",
   "execution_count": 16,
   "metadata": {},
   "outputs": [
    {
     "name": "stdout",
     "output_type": "stream",
     "text": [
      "Training shape:  (207101, 119)\n"
     ]
    }
   ],
   "source": [
    "# Drop Correlated Variables\n",
    "train = train.drop(columns = to_drop)\n",
    "\n",
    "print('Training shape: ', train.shape)"
   ]
  },
  {
   "cell_type": "markdown",
   "metadata": {},
   "source": [
    "## Remove Missing Values\n",
    "There is no right way to choose the threshold for missing values.\n",
    "In this implementation, if any columns have greater than 70% missing values, they will be removed, which has been done on feature engineering process"
   ]
  },
  {
   "cell_type": "code",
   "execution_count": 17,
   "metadata": {},
   "outputs": [
    {
     "data": {
      "text/plain": [
       "LANE_CNT                                                  0.338627\n",
       "people_AGE_mean                                           0.176271\n",
       "REPORT_TYPE                                               0.022805\n",
       "SAFETY_EQUIPMENT_USAGE UNKNOWN_count                      0.015649\n",
       "SAFETY_EQUIPMENT_CHILD RESTRAINT USED IMPROPERLY_count    0.015649\n",
       "dtype: float64"
      ]
     },
     "execution_count": 17,
     "metadata": {},
     "output_type": "execute_result"
    }
   ],
   "source": [
    "# Train missing values (in percent)\n",
    "train_missing = (train.isnull().sum() / len(train)).sort_values(ascending = False)\n",
    "train_missing.head()"
   ]
  },
  {
   "cell_type": "code",
   "execution_count": 18,
   "metadata": {},
   "outputs": [],
   "source": [
    "# Identify missing values above threshold\n",
    "train_missing = train_missing.index[train_missing > 0.75]\n",
    "missing = list(set(train_missing))"
   ]
  },
  {
   "cell_type": "code",
   "execution_count": 19,
   "metadata": {},
   "outputs": [
    {
     "data": {
      "text/plain": [
       "'There are 0 columns with more than 75% missing values'"
      ]
     },
     "execution_count": 19,
     "metadata": {},
     "output_type": "execute_result"
    }
   ],
   "source": [
    "f'There are {len(missing)} columns with more than 75% missing values'"
   ]
  },
  {
   "cell_type": "code",
   "execution_count": 20,
   "metadata": {},
   "outputs": [
    {
     "data": {
      "text/plain": [
       "POSTED_SPEED_LIMIT                                       0\n",
       "TRAFFIC_CONTROL_DEVICE                                   0\n",
       "DEVICE_CONDITION                                         0\n",
       "WEATHER_CONDITION                                        0\n",
       "LIGHTING_CONDITION                                       0\n",
       "                                                      ... \n",
       "vehicle_VEHICLE_TYPE_TRACTOR W/ SEMI-TRAILER_count     391\n",
       "vehicle_VEHICLE_TYPE_TRACTOR W/O SEMI-TRAILER_count    391\n",
       "vehicle_VEHICLE_TYPE_TRUCK - SINGLE UNIT_count         391\n",
       "vehicle_VEHICLE_TYPE_UNKNOWN/NA_count                  391\n",
       "vehicle_VEHICLE_TYPE_VAN/MINI-VAN_count                391\n",
       "Length: 119, dtype: int64"
      ]
     },
     "execution_count": 20,
     "metadata": {},
     "output_type": "execute_result"
    }
   ],
   "source": [
    "train.isnull().sum()"
   ]
  },
  {
   "cell_type": "markdown",
   "metadata": {},
   "source": [
    "There are some variables with NaN value. Random Forest cannot handle the missing data, We are going to replace NaN value with median or most frequent values."
   ]
  },
  {
   "cell_type": "code",
   "execution_count": 21,
   "metadata": {},
   "outputs": [],
   "source": [
    "# One Hot Encoding\n",
    "features = pd.get_dummies(train)\n",
    "# drop special characters: it will cause issues later\n",
    "\n",
    "features.columns=features.columns.str.replace(r'[$]', '')\n",
    "features.columns=features.columns.str.replace(r'[/]', '')\n",
    "features.columns=features.columns.str.replace(r'[,]', '')\n",
    "features.columns=features.columns.str.replace(r'[-]', '')\n",
    "# Extract features and labels\n",
    "labels = features['TARGET']\n",
    "features = features.drop('TARGET', axis = 1)\n",
    "\n",
    "# List of features for later use\n",
    "feature_list = list(features.columns)"
   ]
  },
  {
   "cell_type": "code",
   "execution_count": 22,
   "metadata": {},
   "outputs": [],
   "source": [
    "# Convert to numpy arrays\n",
    "import numpy as np\n",
    "\n",
    "# features = np.array(features)\n",
    "# labels = np.array(labels)\n",
    "\n",
    "# Training and Testing Sets\n",
    "from sklearn.model_selection import train_test_split\n",
    "\n",
    "train_features, test_features, train_labels, test_labels = train_test_split(features, labels, \n",
    "                                                                            test_size = 0.25, random_state = 2003)"
   ]
  },
  {
   "cell_type": "code",
   "execution_count": 23,
   "metadata": {},
   "outputs": [
    {
     "name": "stdout",
     "output_type": "stream",
     "text": [
      "Training Features Shape: (155325, 372)\n",
      "Training Labels Shape: (155325,)\n",
      "Testing Features Shape: (51776, 372)\n",
      "Testing Labels Shape: (51776,)\n"
     ]
    }
   ],
   "source": [
    "\n",
    "print('Training Features Shape:', train_features.shape)\n",
    "print('Training Labels Shape:', train_labels.shape)\n",
    "print('Testing Features Shape:', test_features.shape)\n",
    "print('Testing Labels Shape:', test_labels.shape)"
   ]
  },
  {
   "cell_type": "code",
   "execution_count": 24,
   "metadata": {},
   "outputs": [],
   "source": [
    "# function for replacing missing variables. \n",
    "import pandas as pd\n",
    "import numpy as np\n",
    "\n",
    "from sklearn.base import TransformerMixin\n",
    "\n",
    "class DataFrameImputer(TransformerMixin):\n",
    "\n",
    "    def __init__(self):\n",
    "        \"\"\"Impute missing values.\n",
    "\n",
    "        Columns of dtype object are imputed with the most frequent value \n",
    "        in column.\n",
    "\n",
    "        Columns of other types are imputed with mean of column.\n",
    "\n",
    "        \"\"\"\n",
    "    def fit(self, X, y=None):\n",
    "\n",
    "        self.fill = pd.Series([X[c].value_counts().index[0]\n",
    "            if X[c].dtype == np.dtype('O') else X[c].mean() for c in X],\n",
    "            index=X.columns)\n",
    "\n",
    "        return self\n",
    "\n",
    "    def transform(self, X, y=None):\n",
    "        return X.fillna(self.fill)\n",
    "\n",
    "X = pd.DataFrame(train_features)\n",
    "train_features = DataFrameImputer().fit_transform(X)\n",
    "T = pd.DataFrame(test_features)\n",
    "test_features = DataFrameImputer().fit_transform(T)"
   ]
  },
  {
   "cell_type": "code",
   "execution_count": 25,
   "metadata": {},
   "outputs": [
    {
     "data": {
      "text/plain": [
       "POSTED_SPEED_LIMIT         0\n",
       "NUM_UNITS                  0\n",
       "INJURIES_TOTAL             0\n",
       "INJURIES_FATAL             0\n",
       "INJURIES_INCAPACITATING    0\n",
       "                          ..\n",
       "CRASH_MONTH_8              0\n",
       "CRASH_MONTH_9              0\n",
       "YEAR_2017                  0\n",
       "YEAR_2018                  0\n",
       "YEAR_2019                  0\n",
       "Length: 372, dtype: int64"
      ]
     },
     "execution_count": 25,
     "metadata": {},
     "output_type": "execute_result"
    }
   ],
   "source": [
    "train_features.isnull().sum()"
   ]
  },
  {
   "cell_type": "code",
   "execution_count": 26,
   "metadata": {},
   "outputs": [
    {
     "data": {
      "text/plain": [
       "POSTED_SPEED_LIMIT         0\n",
       "NUM_UNITS                  0\n",
       "INJURIES_TOTAL             0\n",
       "INJURIES_FATAL             0\n",
       "INJURIES_INCAPACITATING    0\n",
       "                          ..\n",
       "CRASH_MONTH_8              0\n",
       "CRASH_MONTH_9              0\n",
       "YEAR_2017                  0\n",
       "YEAR_2018                  0\n",
       "YEAR_2019                  0\n",
       "Length: 372, dtype: int64"
      ]
     },
     "execution_count": 26,
     "metadata": {},
     "output_type": "execute_result"
    }
   ],
   "source": [
    "test_features.isnull().sum()"
   ]
  },
  {
   "cell_type": "code",
   "execution_count": 27,
   "metadata": {},
   "outputs": [
    {
     "data": {
      "text/plain": [
       "(51776, 372)"
      ]
     },
     "execution_count": 27,
     "metadata": {},
     "output_type": "execute_result"
    }
   ],
   "source": [
    "test_features.shape"
   ]
  },
  {
   "cell_type": "code",
   "execution_count": 334,
   "metadata": {},
   "outputs": [],
   "source": [
    "# save to csv\n",
    "train.to_csv('../../input/00_injury_onehot_corr90_dropped_replace_missing_special.csv')"
   ]
  },
  {
   "cell_type": "markdown",
   "metadata": {},
   "source": [
    "## Feature Selection through Feature Importances\n",
    "The next method we can employ for feature selection is to use the feature importances of a model. Tree-based models (and consequently ensembles of trees) can determine an \"importance\" for each feature by measuring the reduction in impurity for including the feature in the model. Moreover, we can use the feature importances to remove features that the model does not consider important.\n",
    "\n",
    "we can perform our own feature removal by selecting cumulative importance at 95% first. If this leaves too many features, then we can consider removing the features with the lowest importance. "
   ]
  },
  {
   "cell_type": "markdown",
   "metadata": {},
   "source": [
    "### Examine the Default Random Forest to Determine Parameters\n",
    "We will use these parameters as a starting point. I relied on the sklearn random forest documentation to determine which features to change and the available options."
   ]
  },
  {
   "cell_type": "code",
   "execution_count": 28,
   "metadata": {},
   "outputs": [
    {
     "name": "stdout",
     "output_type": "stream",
     "text": [
      "Parameters currently in use:\n",
      "\n",
      "{'bootstrap': True,\n",
      " 'ccp_alpha': 0.0,\n",
      " 'class_weight': 'balanced_subsample',\n",
      " 'criterion': 'gini',\n",
      " 'max_depth': None,\n",
      " 'max_features': 'auto',\n",
      " 'max_leaf_nodes': None,\n",
      " 'max_samples': None,\n",
      " 'min_impurity_decrease': 0.0,\n",
      " 'min_impurity_split': None,\n",
      " 'min_samples_leaf': 1,\n",
      " 'min_samples_split': 2,\n",
      " 'min_weight_fraction_leaf': 0.0,\n",
      " 'n_estimators': 1000,\n",
      " 'n_jobs': -1,\n",
      " 'oob_score': 'True',\n",
      " 'random_state': 2003,\n",
      " 'verbose': 0,\n",
      " 'warm_start': False}\n"
     ]
    }
   ],
   "source": [
    "base_clf = RandomForestClassifier(random_state = 2003, class_weight='balanced_subsample',\n",
    "                                  oob_score='True',n_estimators= 1000, n_jobs=-1)\n",
    "\n",
    "\n",
    "\n",
    "from pprint import pprint\n",
    "# Look at parameters used by our current forest\n",
    "print('Parameters currently in use:\\n')\n",
    "pprint(base_clf.get_params()) # print nicely"
   ]
  },
  {
   "cell_type": "code",
   "execution_count": 29,
   "metadata": {},
   "outputs": [
    {
     "data": {
      "text/plain": [
       "RandomForestClassifier(bootstrap=True, ccp_alpha=0.0,\n",
       "                       class_weight='balanced_subsample', criterion='gini',\n",
       "                       max_depth=None, max_features='auto', max_leaf_nodes=None,\n",
       "                       max_samples=None, min_impurity_decrease=0.0,\n",
       "                       min_impurity_split=None, min_samples_leaf=1,\n",
       "                       min_samples_split=2, min_weight_fraction_leaf=0.0,\n",
       "                       n_estimators=1000, n_jobs=-1, oob_score='True',\n",
       "                       random_state=2003, verbose=0, warm_start=False)"
      ]
     },
     "execution_count": 29,
     "metadata": {},
     "output_type": "execute_result"
    }
   ],
   "source": [
    "base_clf.fit(train_features, train_labels)"
   ]
  },
  {
   "cell_type": "markdown",
   "metadata": {},
   "source": [
    "We are setting the base model to beat"
   ]
  },
  {
   "cell_type": "code",
   "execution_count": 62,
   "metadata": {},
   "outputs": [],
   "source": [
    "train_gbm_predictions = base_clf.predict(train_features)\n",
    "train_gbm_probs = base_clf.predict_proba(train_features)[:, 1]\n",
    "\n",
    "gbm_predictions = base_clf.predict(test_features)\n",
    "gbm_probs = base_clf.predict_proba(test_features)[:, 1]"
   ]
  },
  {
   "cell_type": "code",
   "execution_count": 63,
   "metadata": {},
   "outputs": [
    {
     "name": "stdout",
     "output_type": "stream",
     "text": [
      "Train ROC AUC Score: 0.9999999999154747\n",
      "Test ROC AUC  Score: 0.7460010397221343\n"
     ]
    }
   ],
   "source": [
    "from sklearn.metrics import precision_score, recall_score, roc_auc_score, roc_curve\n",
    "\n",
    "train_auc = roc_auc_score(train_labels, train_gbm_probs)\n",
    "test_auc = roc_auc_score(test_labels, gbm_probs)\n",
    "\n",
    "print(f'Train ROC AUC Score: {train_auc}')\n",
    "print(f'Test ROC AUC  Score: {test_auc}')"
   ]
  },
  {
   "cell_type": "code",
   "execution_count": 30,
   "metadata": {},
   "outputs": [],
   "source": [
    "# evaluation for model\n",
    "from sklearn import metrics as mt\n",
    "def evaluate(model, test_features, test_labels):\n",
    "    predictions = model.predict(test_features)\n",
    "    oob_score = model.oob_score_\n",
    "    report= mt.classification_report(test_labels, predictions) \n",
    "    print('***** Model Performance. *****')\n",
    "    print('- Out of Bag score: {:0.4f}.'.format(oob_score))\n",
    "    print('- test_labels values:',test_labels.values[0:10]) # if it is array alreay. no need to call as .values\n",
    "    print('- predictions values:',predictions[0:10],'\\n')\n",
    "    print('<Accuracy> \\n{}'.format(report))\n",
    "    \n",
    "    return report"
   ]
  },
  {
   "cell_type": "code",
   "execution_count": 31,
   "metadata": {},
   "outputs": [
    {
     "name": "stdout",
     "output_type": "stream",
     "text": [
      "***** Model Performance. *****\n",
      "- Out of Bag score: 0.6726.\n",
      "- test_labels values: [1 0 0 0 0 1 1 0 0 0]\n",
      "- predictions values: [1 1 1 0 1 0 1 0 1 1] \n",
      "\n",
      "<Accuracy> \n",
      "              precision    recall  f1-score   support\n",
      "\n",
      "           0       0.64      0.59      0.61     22493\n",
      "           1       0.70      0.74      0.72     29283\n",
      "\n",
      "    accuracy                           0.68     51776\n",
      "   macro avg       0.67      0.66      0.67     51776\n",
      "weighted avg       0.67      0.68      0.67     51776\n",
      "\n"
     ]
    },
    {
     "data": {
      "text/plain": [
       "'              precision    recall  f1-score   support\\n\\n           0       0.64      0.59      0.61     22493\\n           1       0.70      0.74      0.72     29283\\n\\n    accuracy                           0.68     51776\\n   macro avg       0.67      0.66      0.67     51776\\nweighted avg       0.67      0.68      0.67     51776\\n'"
      ]
     },
     "execution_count": 31,
     "metadata": {},
     "output_type": "execute_result"
    }
   ],
   "source": [
    "evaluate(base_clf, test_features, test_labels)"
   ]
  },
  {
   "cell_type": "code",
   "execution_count": 32,
   "metadata": {},
   "outputs": [
    {
     "name": "stdout",
     "output_type": "stream",
     "text": [
      "Parameters currently in use:\n",
      "\n",
      "{'bootstrap': True,\n",
      " 'ccp_alpha': 0.0,\n",
      " 'class_weight': 'balanced',\n",
      " 'criterion': 'gini',\n",
      " 'max_depth': None,\n",
      " 'max_features': 'auto',\n",
      " 'max_leaf_nodes': None,\n",
      " 'max_samples': None,\n",
      " 'min_impurity_decrease': 0.0,\n",
      " 'min_impurity_split': None,\n",
      " 'min_samples_leaf': 1,\n",
      " 'min_samples_split': 2,\n",
      " 'min_weight_fraction_leaf': 0.0,\n",
      " 'n_estimators': 1000,\n",
      " 'n_jobs': -1,\n",
      " 'oob_score': 'True',\n",
      " 'random_state': 2003,\n",
      " 'verbose': 0,\n",
      " 'warm_start': False}\n"
     ]
    }
   ],
   "source": [
    "\n",
    "base_clf_1 = RandomForestClassifier(random_state = 2003, class_weight='balanced',\n",
    "                                  oob_score='True',n_estimators= 1000, n_jobs=-1)\n",
    "\n",
    "from pprint import pprint\n",
    "# Look at parameters used by our current forest\n",
    "print('Parameters currently in use:\\n')\n",
    "pprint(base_clf_1.get_params()) # print nicely"
   ]
  },
  {
   "cell_type": "code",
   "execution_count": 33,
   "metadata": {},
   "outputs": [
    {
     "data": {
      "text/plain": [
       "RandomForestClassifier(bootstrap=True, ccp_alpha=0.0, class_weight='balanced',\n",
       "                       criterion='gini', max_depth=None, max_features='auto',\n",
       "                       max_leaf_nodes=None, max_samples=None,\n",
       "                       min_impurity_decrease=0.0, min_impurity_split=None,\n",
       "                       min_samples_leaf=1, min_samples_split=2,\n",
       "                       min_weight_fraction_leaf=0.0, n_estimators=1000,\n",
       "                       n_jobs=-1, oob_score='True', random_state=2003,\n",
       "                       verbose=0, warm_start=False)"
      ]
     },
     "execution_count": 33,
     "metadata": {},
     "output_type": "execute_result"
    }
   ],
   "source": [
    "base_clf_1.fit(train_features, train_labels)"
   ]
  },
  {
   "cell_type": "code",
   "execution_count": 34,
   "metadata": {},
   "outputs": [
    {
     "name": "stdout",
     "output_type": "stream",
     "text": [
      "***** Model Performance. *****\n",
      "- Out of Bag score: 0.6736.\n",
      "- test_labels values: [1 0 0 0 0 1 1 0 0 0]\n",
      "- predictions values: [1 1 1 0 1 0 1 0 1 1] \n",
      "\n",
      "<Accuracy> \n",
      "              precision    recall  f1-score   support\n",
      "\n",
      "           0       0.64      0.57      0.61     22493\n",
      "           1       0.70      0.75      0.72     29283\n",
      "\n",
      "    accuracy                           0.68     51776\n",
      "   macro avg       0.67      0.66      0.66     51776\n",
      "weighted avg       0.67      0.68      0.67     51776\n",
      "\n"
     ]
    },
    {
     "data": {
      "text/plain": [
       "'              precision    recall  f1-score   support\\n\\n           0       0.64      0.57      0.61     22493\\n           1       0.70      0.75      0.72     29283\\n\\n    accuracy                           0.68     51776\\n   macro avg       0.67      0.66      0.66     51776\\nweighted avg       0.67      0.68      0.67     51776\\n'"
      ]
     },
     "execution_count": 34,
     "metadata": {},
     "output_type": "execute_result"
    }
   ],
   "source": [
    "evaluate(base_clf_1, test_features, test_labels)"
   ]
  },
  {
   "cell_type": "markdown",
   "metadata": {},
   "source": [
    "Recall socore of our target INJURY(target=1) is much less than NoInjury's one due to imbalanced dataset. We have used the parameter for 'Class_weight = balanced_subsample'."
   ]
  },
  {
   "cell_type": "markdown",
   "metadata": {},
   "source": [
    "## Feture importance"
   ]
  },
  {
   "cell_type": "code",
   "execution_count": 35,
   "metadata": {},
   "outputs": [],
   "source": [
    "fi_model = pd.DataFrame({'feature': feature_list,\n",
    "                   'importance': base_clf.feature_importances_}).sort_values('importance', ascending = False)"
   ]
  },
  {
   "cell_type": "code",
   "execution_count": 36,
   "metadata": {},
   "outputs": [
    {
     "data": {
      "text/html": [
       "<div>\n",
       "<style scoped>\n",
       "    .dataframe tbody tr th:only-of-type {\n",
       "        vertical-align: middle;\n",
       "    }\n",
       "\n",
       "    .dataframe tbody tr th {\n",
       "        vertical-align: top;\n",
       "    }\n",
       "\n",
       "    .dataframe thead th {\n",
       "        text-align: right;\n",
       "    }\n",
       "</style>\n",
       "<table border=\"1\" class=\"dataframe\">\n",
       "  <thead>\n",
       "    <tr style=\"text-align: right;\">\n",
       "      <th></th>\n",
       "      <th>feature</th>\n",
       "      <th>importance</th>\n",
       "    </tr>\n",
       "  </thead>\n",
       "  <tbody>\n",
       "    <tr>\n",
       "      <th>10</th>\n",
       "      <td>people_AGE_mean</td>\n",
       "      <td>0.036654</td>\n",
       "    </tr>\n",
       "    <tr>\n",
       "      <th>240</th>\n",
       "      <td>CRASH_TYPE_NO INJURY  DRIVE AWAY</td>\n",
       "      <td>0.021178</td>\n",
       "    </tr>\n",
       "    <tr>\n",
       "      <th>239</th>\n",
       "      <td>CRASH_TYPE_INJURY AND  OR TOW DUE TO CRASH</td>\n",
       "      <td>0.020875</td>\n",
       "    </tr>\n",
       "    <tr>\n",
       "      <th>0</th>\n",
       "      <td>POSTED_SPEED_LIMIT</td>\n",
       "      <td>0.017920</td>\n",
       "    </tr>\n",
       "    <tr>\n",
       "      <th>89</th>\n",
       "      <td>vehicle_VEHICLE_TYPE_PASSENGER_count</td>\n",
       "      <td>0.015084</td>\n",
       "    </tr>\n",
       "    <tr>\n",
       "      <th>...</th>\n",
       "      <td>...</td>\n",
       "      <td>...</td>\n",
       "    </tr>\n",
       "    <tr>\n",
       "      <th>180</th>\n",
       "      <td>LANE_CNT_19.0</td>\n",
       "      <td>0.000000</td>\n",
       "    </tr>\n",
       "    <tr>\n",
       "      <th>189</th>\n",
       "      <td>LANE_CNT_41.0</td>\n",
       "      <td>0.000000</td>\n",
       "    </tr>\n",
       "    <tr>\n",
       "      <th>16</th>\n",
       "      <td>SEX_U_count_norm</td>\n",
       "      <td>0.000000</td>\n",
       "    </tr>\n",
       "    <tr>\n",
       "      <th>15</th>\n",
       "      <td>SEX_U_count</td>\n",
       "      <td>0.000000</td>\n",
       "    </tr>\n",
       "    <tr>\n",
       "      <th>8</th>\n",
       "      <td>INJURIES_UNKNOWN</td>\n",
       "      <td>0.000000</td>\n",
       "    </tr>\n",
       "  </tbody>\n",
       "</table>\n",
       "<p>372 rows × 2 columns</p>\n",
       "</div>"
      ],
      "text/plain": [
       "                                        feature  importance\n",
       "10                              people_AGE_mean    0.036654\n",
       "240            CRASH_TYPE_NO INJURY  DRIVE AWAY    0.021178\n",
       "239  CRASH_TYPE_INJURY AND  OR TOW DUE TO CRASH    0.020875\n",
       "0                            POSTED_SPEED_LIMIT    0.017920\n",
       "89         vehicle_VEHICLE_TYPE_PASSENGER_count    0.015084\n",
       "..                                          ...         ...\n",
       "180                               LANE_CNT_19.0    0.000000\n",
       "189                               LANE_CNT_41.0    0.000000\n",
       "16                             SEX_U_count_norm    0.000000\n",
       "15                                  SEX_U_count    0.000000\n",
       "8                              INJURIES_UNKNOWN    0.000000\n",
       "\n",
       "[372 rows x 2 columns]"
      ]
     },
     "execution_count": 36,
     "metadata": {},
     "output_type": "execute_result"
    }
   ],
   "source": [
    "import matplotlib.pyplot as plt\n",
    "import numpy as np\n",
    "\n",
    "\n",
    "plt.style.use('fivethirtyeight')\n",
    "fi_model"
   ]
  },
  {
   "cell_type": "code",
   "execution_count": 37,
   "metadata": {},
   "outputs": [],
   "source": [
    "# feature_importance top 15\n",
    "def plot_feature_importances(df):\n",
    "    \"\"\"\n",
    "    Plot importances returned by a model. This can work with any measure of\n",
    "    feature importance provided that higher importance is better. \n",
    "    \n",
    "    Args:\n",
    "        df (dataframe): feature importances. Must have the features in a column\n",
    "        called `features` and the importances in a column called `importance\n",
    "        \n",
    "    Returns:\n",
    "        shows a plot of the 15 most importance features\n",
    "        \n",
    "        df (dataframe): feature importances sorted by importance (highest to lowest) \n",
    "        with a column for normalized importance\n",
    "        \"\"\"\n",
    "    \n",
    "    # Sort features according to importance\n",
    "    df = df.sort_values('importance', ascending = False).reset_index()\n",
    "    \n",
    "    # Normalize the feature importances to add up to one\n",
    "    df['importance_normalized'] = df['importance'] / df['importance'].sum()\n",
    "\n",
    "    # Make a horizontal bar chart of feature importances\n",
    "    plt.figure(figsize = (10, 6))\n",
    "    ax = plt.subplot()\n",
    "    \n",
    "    # Need to reverse the index to plot most important on top\n",
    "    ax.barh(list(reversed(list(df.index[:15]))), \n",
    "            df['importance_normalized'].head(15), \n",
    "            align = 'center', edgecolor = 'k')\n",
    "    \n",
    "    # Set the yticks and labels\n",
    "    ax.set_yticks(list(reversed(list(df.index[:15]))))\n",
    "    ax.set_yticklabels(df['feature'].head(15))\n",
    "    \n",
    "    # Plot labeling\n",
    "    plt.xlabel('Normalized Importance'); plt.title('Feature Importances')\n",
    "    plt.show()\n",
    "    \n",
    "    return df"
   ]
  },
  {
   "cell_type": "code",
   "execution_count": 38,
   "metadata": {},
   "outputs": [
    {
     "data": {
      "image/png": "[encoded data removed]",
      "text/plain": [
       "<Figure size 720x432 with 1 Axes>"
      ]
     },
     "metadata": {},
     "output_type": "display_data"
    },
    {
     "data": {
      "text/html": [
       "<div>\n",
       "<style scoped>\n",
       "    .dataframe tbody tr th:only-of-type {\n",
       "        vertical-align: middle;\n",
       "    }\n",
       "\n",
       "    .dataframe tbody tr th {\n",
       "        vertical-align: top;\n",
       "    }\n",
       "\n",
       "    .dataframe thead th {\n",
       "        text-align: right;\n",
       "    }\n",
       "</style>\n",
       "<table border=\"1\" class=\"dataframe\">\n",
       "  <thead>\n",
       "    <tr style=\"text-align: right;\">\n",
       "      <th></th>\n",
       "      <th>index</th>\n",
       "      <th>feature</th>\n",
       "      <th>importance</th>\n",
       "      <th>importance_normalized</th>\n",
       "    </tr>\n",
       "  </thead>\n",
       "  <tbody>\n",
       "    <tr>\n",
       "      <th>0</th>\n",
       "      <td>10</td>\n",
       "      <td>people_AGE_mean</td>\n",
       "      <td>0.036654</td>\n",
       "      <td>0.036654</td>\n",
       "    </tr>\n",
       "    <tr>\n",
       "      <th>1</th>\n",
       "      <td>240</td>\n",
       "      <td>CRASH_TYPE_NO INJURY  DRIVE AWAY</td>\n",
       "      <td>0.021178</td>\n",
       "      <td>0.021178</td>\n",
       "    </tr>\n",
       "    <tr>\n",
       "      <th>2</th>\n",
       "      <td>239</td>\n",
       "      <td>CRASH_TYPE_INJURY AND  OR TOW DUE TO CRASH</td>\n",
       "      <td>0.020875</td>\n",
       "      <td>0.020875</td>\n",
       "    </tr>\n",
       "    <tr>\n",
       "      <th>3</th>\n",
       "      <td>0</td>\n",
       "      <td>POSTED_SPEED_LIMIT</td>\n",
       "      <td>0.017920</td>\n",
       "      <td>0.017920</td>\n",
       "    </tr>\n",
       "    <tr>\n",
       "      <th>4</th>\n",
       "      <td>89</td>\n",
       "      <td>vehicle_VEHICLE_TYPE_PASSENGER_count</td>\n",
       "      <td>0.015084</td>\n",
       "      <td>0.015084</td>\n",
       "    </tr>\n",
       "    <tr>\n",
       "      <th>...</th>\n",
       "      <td>...</td>\n",
       "      <td>...</td>\n",
       "      <td>...</td>\n",
       "      <td>...</td>\n",
       "    </tr>\n",
       "    <tr>\n",
       "      <th>367</th>\n",
       "      <td>180</td>\n",
       "      <td>LANE_CNT_19.0</td>\n",
       "      <td>0.000000</td>\n",
       "      <td>0.000000</td>\n",
       "    </tr>\n",
       "    <tr>\n",
       "      <th>368</th>\n",
       "      <td>189</td>\n",
       "      <td>LANE_CNT_41.0</td>\n",
       "      <td>0.000000</td>\n",
       "      <td>0.000000</td>\n",
       "    </tr>\n",
       "    <tr>\n",
       "      <th>369</th>\n",
       "      <td>16</td>\n",
       "      <td>SEX_U_count_norm</td>\n",
       "      <td>0.000000</td>\n",
       "      <td>0.000000</td>\n",
       "    </tr>\n",
       "    <tr>\n",
       "      <th>370</th>\n",
       "      <td>15</td>\n",
       "      <td>SEX_U_count</td>\n",
       "      <td>0.000000</td>\n",
       "      <td>0.000000</td>\n",
       "    </tr>\n",
       "    <tr>\n",
       "      <th>371</th>\n",
       "      <td>8</td>\n",
       "      <td>INJURIES_UNKNOWN</td>\n",
       "      <td>0.000000</td>\n",
       "      <td>0.000000</td>\n",
       "    </tr>\n",
       "  </tbody>\n",
       "</table>\n",
       "<p>372 rows × 4 columns</p>\n",
       "</div>"
      ],
      "text/plain": [
       "     index                                     feature  importance  \\\n",
       "0       10                             people_AGE_mean    0.036654   \n",
       "1      240            CRASH_TYPE_NO INJURY  DRIVE AWAY    0.021178   \n",
       "2      239  CRASH_TYPE_INJURY AND  OR TOW DUE TO CRASH    0.020875   \n",
       "3        0                          POSTED_SPEED_LIMIT    0.017920   \n",
       "4       89        vehicle_VEHICLE_TYPE_PASSENGER_count    0.015084   \n",
       "..     ...                                         ...         ...   \n",
       "367    180                               LANE_CNT_19.0    0.000000   \n",
       "368    189                               LANE_CNT_41.0    0.000000   \n",
       "369     16                            SEX_U_count_norm    0.000000   \n",
       "370     15                                 SEX_U_count    0.000000   \n",
       "371      8                            INJURIES_UNKNOWN    0.000000   \n",
       "\n",
       "     importance_normalized  \n",
       "0                 0.036654  \n",
       "1                 0.021178  \n",
       "2                 0.020875  \n",
       "3                 0.017920  \n",
       "4                 0.015084  \n",
       "..                     ...  \n",
       "367               0.000000  \n",
       "368               0.000000  \n",
       "369               0.000000  \n",
       "370               0.000000  \n",
       "371               0.000000  \n",
       "\n",
       "[372 rows x 4 columns]"
      ]
     },
     "execution_count": 38,
     "metadata": {},
     "output_type": "execute_result"
    }
   ],
   "source": [
    "plot_feature_importances(fi_model)"
   ]
  },
  {
   "cell_type": "code",
   "execution_count": 39,
   "metadata": {},
   "outputs": [],
   "source": [
    "# Get numerical feature importances\n",
    "importances = list(base_clf.feature_importances_)\n",
    "feature_list = list(features)\n",
    "# List of tuples with variable and importance\n",
    "feature_importances = [(feature, round(importance, 2)) for feature, importance in zip(feature_list, importances)]\n",
    "\n",
    "# Sort the feature importances by most important first\n",
    "feature_importances = sorted(feature_importances, key = lambda x: x[1], reverse = True)\n",
    "\n",
    "# # Print out the feature and importances \n",
    "# f'Variable: {:20} Importance: {}.format(*pair)) for pair in feature_importances'"
   ]
  },
  {
   "cell_type": "markdown",
   "metadata": {},
   "source": [
    "### Limit Number of Features\n",
    "We will now reduce the number of features in use by the model to only those required to account for 95% of the importance. The same number of features must be used in the training and testing sets."
   ]
  },
  {
   "cell_type": "code",
   "execution_count": 40,
   "metadata": {},
   "outputs": [
    {
     "data": {
      "text/html": [
       "<div>\n",
       "<style scoped>\n",
       "    .dataframe tbody tr th:only-of-type {\n",
       "        vertical-align: middle;\n",
       "    }\n",
       "\n",
       "    .dataframe tbody tr th {\n",
       "        vertical-align: top;\n",
       "    }\n",
       "\n",
       "    .dataframe thead th {\n",
       "        text-align: right;\n",
       "    }\n",
       "</style>\n",
       "<table border=\"1\" class=\"dataframe\">\n",
       "  <thead>\n",
       "    <tr style=\"text-align: right;\">\n",
       "      <th></th>\n",
       "      <th>feature</th>\n",
       "      <th>importance</th>\n",
       "      <th>cumulative_importance</th>\n",
       "    </tr>\n",
       "  </thead>\n",
       "  <tbody>\n",
       "    <tr>\n",
       "      <th>10</th>\n",
       "      <td>people_AGE_mean</td>\n",
       "      <td>0.036654</td>\n",
       "      <td>0.036654</td>\n",
       "    </tr>\n",
       "    <tr>\n",
       "      <th>240</th>\n",
       "      <td>CRASH_TYPE_NO INJURY  DRIVE AWAY</td>\n",
       "      <td>0.021178</td>\n",
       "      <td>0.057832</td>\n",
       "    </tr>\n",
       "    <tr>\n",
       "      <th>239</th>\n",
       "      <td>CRASH_TYPE_INJURY AND  OR TOW DUE TO CRASH</td>\n",
       "      <td>0.020875</td>\n",
       "      <td>0.078708</td>\n",
       "    </tr>\n",
       "    <tr>\n",
       "      <th>0</th>\n",
       "      <td>POSTED_SPEED_LIMIT</td>\n",
       "      <td>0.017920</td>\n",
       "      <td>0.096627</td>\n",
       "    </tr>\n",
       "    <tr>\n",
       "      <th>89</th>\n",
       "      <td>vehicle_VEHICLE_TYPE_PASSENGER_count</td>\n",
       "      <td>0.015084</td>\n",
       "      <td>0.111712</td>\n",
       "    </tr>\n",
       "    <tr>\n",
       "      <th>...</th>\n",
       "      <td>...</td>\n",
       "      <td>...</td>\n",
       "      <td>...</td>\n",
       "    </tr>\n",
       "    <tr>\n",
       "      <th>180</th>\n",
       "      <td>LANE_CNT_19.0</td>\n",
       "      <td>0.000000</td>\n",
       "      <td>1.000000</td>\n",
       "    </tr>\n",
       "    <tr>\n",
       "      <th>189</th>\n",
       "      <td>LANE_CNT_41.0</td>\n",
       "      <td>0.000000</td>\n",
       "      <td>1.000000</td>\n",
       "    </tr>\n",
       "    <tr>\n",
       "      <th>16</th>\n",
       "      <td>SEX_U_count_norm</td>\n",
       "      <td>0.000000</td>\n",
       "      <td>1.000000</td>\n",
       "    </tr>\n",
       "    <tr>\n",
       "      <th>15</th>\n",
       "      <td>SEX_U_count</td>\n",
       "      <td>0.000000</td>\n",
       "      <td>1.000000</td>\n",
       "    </tr>\n",
       "    <tr>\n",
       "      <th>8</th>\n",
       "      <td>INJURIES_UNKNOWN</td>\n",
       "      <td>0.000000</td>\n",
       "      <td>1.000000</td>\n",
       "    </tr>\n",
       "  </tbody>\n",
       "</table>\n",
       "<p>372 rows × 3 columns</p>\n",
       "</div>"
      ],
      "text/plain": [
       "                                        feature  importance  \\\n",
       "10                              people_AGE_mean    0.036654   \n",
       "240            CRASH_TYPE_NO INJURY  DRIVE AWAY    0.021178   \n",
       "239  CRASH_TYPE_INJURY AND  OR TOW DUE TO CRASH    0.020875   \n",
       "0                            POSTED_SPEED_LIMIT    0.017920   \n",
       "89         vehicle_VEHICLE_TYPE_PASSENGER_count    0.015084   \n",
       "..                                          ...         ...   \n",
       "180                               LANE_CNT_19.0    0.000000   \n",
       "189                               LANE_CNT_41.0    0.000000   \n",
       "16                             SEX_U_count_norm    0.000000   \n",
       "15                                  SEX_U_count    0.000000   \n",
       "8                              INJURIES_UNKNOWN    0.000000   \n",
       "\n",
       "     cumulative_importance  \n",
       "10                0.036654  \n",
       "240               0.057832  \n",
       "239               0.078708  \n",
       "0                 0.096627  \n",
       "89                0.111712  \n",
       "..                     ...  \n",
       "180               1.000000  \n",
       "189               1.000000  \n",
       "16                1.000000  \n",
       "15                1.000000  \n",
       "8                 1.000000  \n",
       "\n",
       "[372 rows x 3 columns]"
      ]
     },
     "execution_count": 40,
     "metadata": {},
     "output_type": "execute_result"
    }
   ],
   "source": [
    "fi_model['cumulative_importance'] = np.cumsum(fi_model['importance'])\n",
    "fi_model"
   ]
  },
  {
   "cell_type": "code",
   "execution_count": 41,
   "metadata": {},
   "outputs": [
    {
     "name": "stdout",
     "output_type": "stream",
     "text": [
      "Number of features for 95% importance: 187\n"
     ]
    }
   ],
   "source": [
    "print('Number of features for 95% importance:', np.where(fi_model['cumulative_importance'] > 0.95)[0][0] + 1)"
   ]
  },
  {
   "cell_type": "code",
   "execution_count": 42,
   "metadata": {},
   "outputs": [
    {
     "data": {
      "text/plain": [
       "187"
      ]
     },
     "execution_count": 42,
     "metadata": {},
     "output_type": "execute_result"
    }
   ],
   "source": [
    "# check with nunique()\n",
    "fi_model[fi_model['cumulative_importance'] < 0.951]['feature'].nunique()"
   ]
  },
  {
   "cell_type": "code",
   "execution_count": 44,
   "metadata": {},
   "outputs": [
    {
     "data": {
      "text/html": [
       "<div>\n",
       "<style scoped>\n",
       "    .dataframe tbody tr th:only-of-type {\n",
       "        vertical-align: middle;\n",
       "    }\n",
       "\n",
       "    .dataframe tbody tr th {\n",
       "        vertical-align: top;\n",
       "    }\n",
       "\n",
       "    .dataframe thead th {\n",
       "        text-align: right;\n",
       "    }\n",
       "</style>\n",
       "<table border=\"1\" class=\"dataframe\">\n",
       "  <thead>\n",
       "    <tr style=\"text-align: right;\">\n",
       "      <th></th>\n",
       "      <th>feature</th>\n",
       "      <th>importance</th>\n",
       "      <th>cumulative_importance</th>\n",
       "    </tr>\n",
       "  </thead>\n",
       "  <tbody>\n",
       "    <tr>\n",
       "      <th>10</th>\n",
       "      <td>people_AGE_mean</td>\n",
       "      <td>0.036654</td>\n",
       "      <td>0.036654</td>\n",
       "    </tr>\n",
       "    <tr>\n",
       "      <th>240</th>\n",
       "      <td>CRASH_TYPE_NO INJURY  DRIVE AWAY</td>\n",
       "      <td>0.021178</td>\n",
       "      <td>0.057832</td>\n",
       "    </tr>\n",
       "    <tr>\n",
       "      <th>239</th>\n",
       "      <td>CRASH_TYPE_INJURY AND  OR TOW DUE TO CRASH</td>\n",
       "      <td>0.020875</td>\n",
       "      <td>0.078708</td>\n",
       "    </tr>\n",
       "    <tr>\n",
       "      <th>0</th>\n",
       "      <td>POSTED_SPEED_LIMIT</td>\n",
       "      <td>0.017920</td>\n",
       "      <td>0.096627</td>\n",
       "    </tr>\n",
       "    <tr>\n",
       "      <th>89</th>\n",
       "      <td>vehicle_VEHICLE_TYPE_PASSENGER_count</td>\n",
       "      <td>0.015084</td>\n",
       "      <td>0.111712</td>\n",
       "    </tr>\n",
       "    <tr>\n",
       "      <th>...</th>\n",
       "      <td>...</td>\n",
       "      <td>...</td>\n",
       "      <td>...</td>\n",
       "    </tr>\n",
       "    <tr>\n",
       "      <th>147</th>\n",
       "      <td>FIRST_CRASH_TYPE_SIDESWIPE OPPOSITE DIRECTION</td>\n",
       "      <td>0.001140</td>\n",
       "      <td>0.946398</td>\n",
       "    </tr>\n",
       "    <tr>\n",
       "      <th>47</th>\n",
       "      <td>vehicle_MANEUVER_LEAVING TRAFFIC LANE TO PARK_...</td>\n",
       "      <td>0.001124</td>\n",
       "      <td>0.947522</td>\n",
       "    </tr>\n",
       "    <tr>\n",
       "      <th>343</th>\n",
       "      <td>CRASH_HOUR_3</td>\n",
       "      <td>0.001075</td>\n",
       "      <td>0.948596</td>\n",
       "    </tr>\n",
       "    <tr>\n",
       "      <th>55</th>\n",
       "      <td>vehicle_MANEUVER_SLOWSTOP  LEFT TURN_count</td>\n",
       "      <td>0.001032</td>\n",
       "      <td>0.949628</td>\n",
       "    </tr>\n",
       "    <tr>\n",
       "      <th>268</th>\n",
       "      <td>PRIM_CONTRIBUTORY_CAUSE_OPERATING VEHICLE IN E...</td>\n",
       "      <td>0.001010</td>\n",
       "      <td>0.950638</td>\n",
       "    </tr>\n",
       "  </tbody>\n",
       "</table>\n",
       "<p>187 rows × 3 columns</p>\n",
       "</div>"
      ],
      "text/plain": [
       "                                               feature  importance  \\\n",
       "10                                     people_AGE_mean    0.036654   \n",
       "240                   CRASH_TYPE_NO INJURY  DRIVE AWAY    0.021178   \n",
       "239         CRASH_TYPE_INJURY AND  OR TOW DUE TO CRASH    0.020875   \n",
       "0                                   POSTED_SPEED_LIMIT    0.017920   \n",
       "89                vehicle_VEHICLE_TYPE_PASSENGER_count    0.015084   \n",
       "..                                                 ...         ...   \n",
       "147      FIRST_CRASH_TYPE_SIDESWIPE OPPOSITE DIRECTION    0.001140   \n",
       "47   vehicle_MANEUVER_LEAVING TRAFFIC LANE TO PARK_...    0.001124   \n",
       "343                                       CRASH_HOUR_3    0.001075   \n",
       "55          vehicle_MANEUVER_SLOWSTOP  LEFT TURN_count    0.001032   \n",
       "268  PRIM_CONTRIBUTORY_CAUSE_OPERATING VEHICLE IN E...    0.001010   \n",
       "\n",
       "     cumulative_importance  \n",
       "10                0.036654  \n",
       "240               0.057832  \n",
       "239               0.078708  \n",
       "0                 0.096627  \n",
       "89                0.111712  \n",
       "..                     ...  \n",
       "147               0.946398  \n",
       "47                0.947522  \n",
       "343               0.948596  \n",
       "55                0.949628  \n",
       "268               0.950638  \n",
       "\n",
       "[187 rows x 3 columns]"
      ]
     },
     "execution_count": 44,
     "metadata": {},
     "output_type": "execute_result"
    }
   ],
   "source": [
    "#check 0~171\n",
    "fi_model.iloc[0:187]"
   ]
  },
  {
   "cell_type": "code",
   "execution_count": 45,
   "metadata": {},
   "outputs": [
    {
     "data": {
      "text/plain": [
       "Int64Index([ 10, 240, 239,   0,  89,   9,  14,  60,  12,  23,\n",
       "            ...\n",
       "            168, 209, 278, 161,  35, 147,  47, 343,  55, 268],\n",
       "           dtype='int64', length=187)"
      ]
     },
     "execution_count": 45,
     "metadata": {},
     "output_type": "execute_result"
    }
   ],
   "source": [
    "fi_model.iloc[0:187].index"
   ]
  },
  {
   "cell_type": "code",
   "execution_count": 46,
   "metadata": {},
   "outputs": [],
   "source": [
    "important_indices = fi_model.iloc[0:187].index"
   ]
  },
  {
   "cell_type": "code",
   "execution_count": 47,
   "metadata": {},
   "outputs": [],
   "source": [
    "important_train_features = train_features.iloc[:,important_indices]\n",
    "important_test_features  = test_features.iloc[:,important_indices]"
   ]
  },
  {
   "cell_type": "markdown",
   "metadata": {},
   "source": [
    "## Random Forest Optimization through Random Search\n",
    "In order to maximize the performance of the random forest, we can perform a random search for better hyperparameters. This will randomly select combinations of hyperparameters from a grid, evaluate them using cross validation on the training data, and return the values that perform the best."
   ]
  },
  {
   "cell_type": "markdown",
   "metadata": {},
   "source": [
    "#### Random search with Cross Validation\n",
    "We will set the hyperparameters randomly."
   ]
  },
  {
   "cell_type": "code",
   "execution_count": 48,
   "metadata": {
    "scrolled": true
   },
   "outputs": [
    {
     "name": "stdout",
     "output_type": "stream",
     "text": [
      "{'bootstrap': [True],\n",
      " 'max_depth': [10, 20, 30, 40, 50, None],\n",
      " 'max_features': ['auto'],\n",
      " 'min_samples_leaf': [1, 2, 4],\n",
      " 'min_samples_split': [2, 5, 10],\n",
      " 'n_estimators': [200, 400, 600, 800, 1000]}\n"
     ]
    }
   ],
   "source": [
    "\n",
    "from sklearn.model_selection import RandomizedSearchCV\n",
    "\n",
    "# Number of trees in random forest\n",
    "n_estimators = [int(x) for x in np.linspace(start = 100, stop = 500, num =5 )]\n",
    "# Number of features to consider at every split\n",
    "max_features = ['auto']\n",
    "# Maximum number of levels in tree\n",
    "max_depth = [int(x) for x in np.linspace(10, 50, num = 5)]\n",
    "max_depth.append(None)\n",
    "# Minimum number of samples required to split a node\n",
    "min_samples_split = [2, 5, 10]\n",
    "# Minimum number of samples required at each leaf node\n",
    "min_samples_leaf = [1, 2, 4]\n",
    "# Method of selecting samples for training each tree\n",
    "bootstrap = [True]\n",
    "# Method of selecting samples\n",
    "class_weight = ['balanced_subsample']\n",
    "# oob score\n",
    "oob_score=[True]\n",
    "# Create the random grid\n",
    "random_grid = {'n_estimators': n_estimators,\n",
    "               'max_features': max_features,\n",
    "               'max_depth': max_depth,\n",
    "               'min_samples_split': min_samples_split,\n",
    "               'min_samples_leaf': min_samples_leaf,\n",
    "               'bootstrap': bootstrap,\n",
    "               'class_weight': class_weight,\n",
    "               'oob_score' : oob_score\n",
    "              }\n",
    "\n",
    "pprint(random_grid)"
   ]
  },
  {
   "cell_type": "markdown",
   "metadata": {},
   "source": [
    "The most important arguments in RandomizedSearchCV are n_iter, which controls the number of different combinations to try, and cv which is the number of folds to use for cross validation (we use 100 and 3 respectively). More iterations will cover a wider search space and more cv folds reduces the chances of overfitting, but raising each will increase the run time. Machine learning is a field of trade-offs, and performance vs time is one of the most fundamental.\n",
    "\n",
    "This code will work but it takes too much time so we move on the GridSearch technique which is expected similar performance."
   ]
  },
  {
   "cell_type": "code",
   "execution_count": 1,
   "metadata": {},
   "outputs": [],
   "source": [
    "# # First create the base model to tune\n",
    "# rf = RandomForestClassifier(random_state = 2003, class_weight='balanced_subsample',\n",
    "#                                   oob_score='True')\n",
    "# # Random search of parameters, using 3 fold cross validation, \n",
    "# # search across 100 different combinations, and use all available cores\n",
    "# rf_random = RandomizedSearchCV(estimator=rf, param_distributions=random_grid,\n",
    "#                               n_iter = 100, scoring='roc_auc', \n",
    "#                               cv = 3, verbose=2, random_state=2003, n_jobs=-1,\n",
    "#                               return_train_score=True)\n",
    "\n",
    "# # Fit the random search model\n",
    "# rf_random.fit(important_train_features, train_labels)\n",
    "\n",
    "# # we will use the same parameter set of previous notebook(INJURY_RF) to save time. "
   ]
  },
  {
   "cell_type": "code",
   "execution_count": null,
   "metadata": {},
   "outputs": [],
   "source": [
    "#rf_random.best_params_"
   ]
  },
  {
   "cell_type": "code",
   "execution_count": 2,
   "metadata": {},
   "outputs": [],
   "source": [
    "# #parameters from previous notebook \n",
    "# rf_random.best_params_  = \n",
    "# {'n_estimators': 500,\n",
    "#  'min_samples_split': 5,\n",
    "#  'min_samples_leaf': 1,\n",
    "#  'max_features': 'auto',\n",
    "#  'max_depth': 40,\n",
    "#  'bootstrap': True}"
   ]
  },
  {
   "cell_type": "code",
   "execution_count": 50,
   "metadata": {},
   "outputs": [],
   "source": [
    "best_random = RandomForestClassifier(random_state = 2003, class_weight='balanced_subsample',\n",
    "                                     n_estimators =  500,\n",
    "                                     min_samples_split= 5,\n",
    "                                     min_samples_leaf = 1,\n",
    "                                     max_features = 'auto',\n",
    "                                     max_depth= 40,\n",
    "                                     bootstrap= True,\n",
    "                                     oob_score='True', n_jobs=-1)\n"
   ]
  },
  {
   "cell_type": "code",
   "execution_count": 51,
   "metadata": {},
   "outputs": [
    {
     "data": {
      "text/plain": [
       "RandomForestClassifier(bootstrap=True, ccp_alpha=0.0,\n",
       "                       class_weight='balanced_subsample', criterion='gini',\n",
       "                       max_depth=40, max_features='auto', max_leaf_nodes=None,\n",
       "                       max_samples=None, min_impurity_decrease=0.0,\n",
       "                       min_impurity_split=None, min_samples_leaf=1,\n",
       "                       min_samples_split=5, min_weight_fraction_leaf=0.0,\n",
       "                       n_estimators=500, n_jobs=-1, oob_score='True',\n",
       "                       random_state=2003, verbose=0, warm_start=False)"
      ]
     },
     "execution_count": 51,
     "metadata": {},
     "output_type": "execute_result"
    }
   ],
   "source": [
    "best_random.fit(important_train_features, train_labels)"
   ]
  },
  {
   "cell_type": "code",
   "execution_count": 52,
   "metadata": {},
   "outputs": [
    {
     "name": "stdout",
     "output_type": "stream",
     "text": [
      "***** Model Performance. *****\n",
      "- Out of Bag score: 0.6692.\n",
      "- test_labels values: [1 0 0 0 0 1 1 0 0 0]\n",
      "- predictions values: [1 1 1 0 1 0 0 0 1 1] \n",
      "\n",
      "<Accuracy> \n",
      "              precision    recall  f1-score   support\n",
      "\n",
      "           0       0.61      0.67      0.64     22493\n",
      "           1       0.73      0.67      0.70     29283\n",
      "\n",
      "    accuracy                           0.67     51776\n",
      "   macro avg       0.67      0.67      0.67     51776\n",
      "weighted avg       0.68      0.67      0.67     51776\n",
      "\n"
     ]
    },
    {
     "data": {
      "text/plain": [
       "'              precision    recall  f1-score   support\\n\\n           0       0.61      0.67      0.64     22493\\n           1       0.73      0.67      0.70     29283\\n\\n    accuracy                           0.67     51776\\n   macro avg       0.67      0.67      0.67     51776\\nweighted avg       0.68      0.67      0.67     51776\\n'"
      ]
     },
     "execution_count": 52,
     "metadata": {},
     "output_type": "execute_result"
    }
   ],
   "source": [
    "random_performance = evaluate(best_random, important_test_features,test_labels)\n",
    "random_performance"
   ]
  },
  {
   "cell_type": "markdown",
   "metadata": {},
   "source": [
    "# Random Forest Results\n",
    "\n",
    "We will use important features only."
   ]
  },
  {
   "cell_type": "code",
   "execution_count": 53,
   "metadata": {},
   "outputs": [],
   "source": [
    "train_rf_predictions = best_random.predict(important_train_features)\n",
    "train_rf_probs = best_random.predict_proba(important_train_features)[:, 1]\n",
    "\n",
    "rf_predictions = best_random.predict(important_test_features)\n",
    "rf_probs = best_random.predict_proba(important_test_features)[:, 1]"
   ]
  },
  {
   "cell_type": "code",
   "execution_count": 54,
   "metadata": {},
   "outputs": [
    {
     "name": "stdout",
     "output_type": "stream",
     "text": [
      "Train ROC AUC Score: 0.9997029445505198\n",
      "Test ROC AUC  Score: 0.7440032245101835\n"
     ]
    }
   ],
   "source": [
    "from sklearn.metrics import precision_score, recall_score, roc_auc_score, roc_curve\n",
    "\n",
    "print(f'Train ROC AUC Score: {roc_auc_score(train_labels, train_rf_probs)}')\n",
    "print(f'Test ROC AUC  Score: {roc_auc_score(test_labels, rf_probs)}')"
   ]
  },
  {
   "cell_type": "code",
   "execution_count": 55,
   "metadata": {},
   "outputs": [],
   "source": [
    "def evaluate_model(predictions, probs, train_predictions, train_probs):\n",
    "    \"\"\"Compare machine learning model to baseline performance.\n",
    "    Computes statistics and shows ROC curve.\"\"\"\n",
    "    \n",
    "    baseline = {}\n",
    "    \n",
    "    baseline['recall'] = recall_score(test_labels, [1 for _ in range(len(test_labels))])\n",
    "    baseline['precision'] = precision_score(test_labels, [1 for _ in range(len(test_labels))])\n",
    "    baseline['roc'] = 0.5\n",
    "    \n",
    "    results = {}\n",
    "    \n",
    "    results['recall'] = recall_score(test_labels, predictions)\n",
    "    results['precision'] = precision_score(test_labels, predictions)\n",
    "    results['roc'] = roc_auc_score(test_labels, probs)\n",
    "    \n",
    "    train_results = {}\n",
    "    train_results['recall'] = recall_score(train_labels, train_predictions)\n",
    "    train_results['precision'] = precision_score(train_labels, train_predictions)\n",
    "    train_results['roc'] = roc_auc_score(train_labels, train_probs)\n",
    "    \n",
    "    for metric in ['recall', 'precision', 'roc']:\n",
    "        print(f'{metric.capitalize()} Baseline: {round(baseline[metric], 2)} Test: {round(results[metric], 2)} Train: {round(train_results[metric], 2)}')\n",
    "    \n",
    "    # Calculate false positive rates and true positive rates\n",
    "    base_fpr, base_tpr, _ = roc_curve(test_labels, [1 for _ in range(len(test_labels))])\n",
    "    model_fpr, model_tpr, _ = roc_curve(test_labels, probs)\n",
    "\n",
    "    plt.figure(figsize = (8, 6))\n",
    "    plt.rcParams['font.size'] = 16\n",
    "    \n",
    "    # Plot both curves\n",
    "    plt.plot(base_fpr, base_tpr, 'b', label = 'baseline')\n",
    "    plt.plot(model_fpr, model_tpr, 'r', label = 'model')\n",
    "    plt.legend();\n",
    "    plt.xlabel('False Positive Rate'); plt.ylabel('True Positive Rate'); plt.title('ROC Curves');"
   ]
  },
  {
   "cell_type": "code",
   "execution_count": 56,
   "metadata": {},
   "outputs": [
    {
     "data": {
      "text/plain": [
       "0.7440032245101835"
      ]
     },
     "execution_count": 56,
     "metadata": {},
     "output_type": "execute_result"
    }
   ],
   "source": [
    "roc_auc_score(test_labels, rf_probs)"
   ]
  },
  {
   "cell_type": "code",
   "execution_count": 57,
   "metadata": {},
   "outputs": [
    {
     "name": "stdout",
     "output_type": "stream",
     "text": [
      "Recall Baseline: 1.0 Test: 0.67 Train: 0.99\n",
      "Precision Baseline: 0.57 Test: 0.73 Train: 0.99\n",
      "Roc Baseline: 0.5 Test: 0.74 Train: 1.0\n"
     ]
    },
    {
     "data": {
      "image/png": "[encoded data removed]",
      "text/plain": [
       "<Figure size 576x432 with 1 Axes>"
      ]
     },
     "metadata": {},
     "output_type": "display_data"
    }
   ],
   "source": [
    "evaluate_model(rf_predictions, rf_probs, train_rf_predictions, train_rf_probs)\n"
   ]
  },
  {
   "cell_type": "markdown",
   "metadata": {},
   "source": [
    "## confusion matrix"
   ]
  },
  {
   "cell_type": "code",
   "execution_count": 58,
   "metadata": {},
   "outputs": [],
   "source": [
    "\n",
    "from sklearn.metrics import confusion_matrix\n",
    "import itertools\n",
    "\n",
    "def plot_confusion_matrix(cm, classes,\n",
    "                          normalize=False,\n",
    "                          title='Confusion matrix',\n",
    "                          cmap=plt.cm.Oranges):\n",
    "    \"\"\"\n",
    "    This function prints and plots the confusion matrix.\n",
    "    Normalization can be applied by setting `normalize=True`.\n",
    "    Source: http://scikit-learn.org/stable/auto_examples/model_selection/plot_confusion_matrix.html\n",
    "    \"\"\"\n",
    "    if normalize:\n",
    "        cm = cm.astype('float') / cm.sum(axis=1)[:, np.newaxis]\n",
    "        print(\"Normalized confusion matrix\")\n",
    "    else:\n",
    "        print('Confusion matrix, without normalization')\n",
    "\n",
    "    print(cm)\n",
    "\n",
    "    plt.figure(figsize = (10, 10))\n",
    "    plt.imshow(cm, interpolation='nearest', cmap=cmap)\n",
    "    plt.title(title, size = 24)\n",
    "    plt.colorbar(aspect=4)\n",
    "    tick_marks = np.arange(len(classes))\n",
    "    plt.xticks(tick_marks, classes, rotation=45, size = 14)\n",
    "    plt.yticks(tick_marks, classes, size = 14)\n",
    "\n",
    "    fmt = '.2f' if normalize else 'd'\n",
    "    thresh = cm.max() / 2.\n",
    "    \n",
    "    # Labeling the plot\n",
    "    for i, j in itertools.product(range(cm.shape[0]), range(cm.shape[1])):\n",
    "        plt.text(j, i, format(cm[i, j], fmt), fontsize = 20,\n",
    "                 horizontalalignment=\"center\",\n",
    "                 color=\"white\" if cm[i, j] > thresh else \"black\")\n",
    "        \n",
    "    plt.grid(None)\n",
    "    plt.tight_layout()\n",
    "    plt.ylabel('True label', size = 18)\n",
    "    plt.xlabel('Predicted label', size = 18)"
   ]
  },
  {
   "cell_type": "code",
   "execution_count": 61,
   "metadata": {},
   "outputs": [
    {
     "name": "stdout",
     "output_type": "stream",
     "text": [
      "Confusion matrix, without normalization\n",
      "[[15024  7469]\n",
      " [ 9530 19753]]\n"
     ]
    },
    {
     "data": {
      "image/png": "[encoded data removed]",
      "text/plain": [
       "<Figure size 720x720 with 2 Axes>"
      ]
     },
     "metadata": {},
     "output_type": "display_data"
    }
   ],
   "source": [
    "cm = confusion_matrix(test_labels, rf_predictions)\n",
    "plot_confusion_matrix(cm, classes = ['Damage less than \\$1,500', 'Damage more than \\$1,500'],\n",
    "                      title = 'Confusion Matrix')"
   ]
  },
  {
   "cell_type": "code",
   "execution_count": 60,
   "metadata": {},
   "outputs": [
    {
     "data": {
      "text/plain": [
       "array([[15024,  7469],\n",
       "       [ 9530, 19753]], dtype=int64)"
      ]
     },
     "execution_count": 60,
     "metadata": {},
     "output_type": "execute_result"
    }
   ],
   "source": [
    "confusion_matrix(test_labels, rf_predictions)"
   ]
  }
 ],
 "metadata": {
  "kernelspec": {
   "display_name": "Python 3",
   "language": "python",
   "name": "python3"
  },
  "language_info": {
   "codemirror_mode": {
    "name": "ipython",
    "version": 3
   },
   "file_extension": ".py",
   "mimetype": "text/x-python",
   "name": "python",
   "nbconvert_exporter": "python",
   "pygments_lexer": "ipython3",
   "version": "3.7.3"
  }
 },
 "nbformat": 4,
 "nbformat_minor": 4
}
