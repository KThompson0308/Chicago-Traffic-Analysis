{
 "cells": [
  {
   "cell_type": "markdown",
   "metadata": {},
   "source": [
    "# Feature selection with Random Forest\n",
    "\n",
    "We are using the feature selection from feature importance of basic RF clf. \n",
    "https://www.kaggle.com/willkoehrsen/introduction-to-feature-selection"
   ]
  },
  {
   "cell_type": "code",
   "execution_count": 1,
   "metadata": {},
   "outputs": [],
   "source": [
    "# pandas and numpy for data manipulation\n",
    "import pandas as pd\n",
    "import numpy as np\n",
    "\n",
    "# featuretools for automated feature engineering\n",
    "import featuretools as ft\n",
    "\n",
    "# matplotlit and seaborn for visualizations\n",
    "import matplotlib.pyplot as plt\n",
    "plt.rcParams['font.size'] = 22\n",
    "import seaborn as sns\n",
    "\n",
    "# Suppress warnings from pandas\n",
    "import warnings\n",
    "warnings.filterwarnings('ignore')\n",
    "\n",
    "# modeling \n",
    "from sklearn.ensemble import RandomForestClassifier\n",
    "\n",
    "# utilities\n",
    "from sklearn.model_selection import train_test_split\n",
    "from sklearn.model_selection import KFold\n",
    "from sklearn.metrics import roc_auc_score\n",
    "from sklearn.preprocessing import LabelEncoder\n",
    "\n",
    "# memory management\n",
    "import gc\n",
    "\n",
    "# others\n",
    "import os\n"
   ]
  },
  {
   "cell_type": "code",
   "execution_count": 2,
   "metadata": {},
   "outputs": [
    {
     "name": "stdout",
     "output_type": "stream",
     "text": [
      "['00_injury_onehot_corr90_dropped_replace_missing.csv', '00_injury_train_people_vehicle_corrs_removed.csv', '00_injury_train_people_vehicle_corrs_removed.zip', '00_injury_train_people_vehicle_missing_70.csv', 'cumsum.csv', 'injury_onehot_corr90_dropped.csv', 'injury_train_people_vehicle_corrs_removed.csv', 'injury_train_people_vehicle_corrs_removed.zip', 'injury_train_people_vehicle_raw.csv', 'Traffic_Crashes_-_Crashes.csv', 'Traffic_Crashes_-_People.csv', 'Traffic_Crashes_-_Vehicles.csv', 'train_control_damage.csv', 'train_new.csv', 'train_people_vehicle_corrs_removed.csv', 'train_people_vehicle_raw.csv']\n"
     ]
    }
   ],
   "source": [
    "print(os.listdir(\"../input\"))"
   ]
  },
  {
   "cell_type": "code",
   "execution_count": 3,
   "metadata": {},
   "outputs": [
    {
     "name": "stdout",
     "output_type": "stream",
     "text": [
      "<class 'pandas.core.frame.DataFrame'>\n",
      "RangeIndex: 207101 entries, 0 to 207100\n",
      "Columns: 122 entries, RD_NO to vehicle_VEHICLE_TYPE_VAN/MINI-VAN_count\n",
      "dtypes: float64(94), int64(3), object(25)\n",
      "memory usage: 192.8+ MB\n"
     ]
    },
    {
     "data": {
      "text/plain": [
       "(207101, 122)"
      ]
     },
     "execution_count": 3,
     "metadata": {},
     "output_type": "execute_result"
    }
   ],
   "source": [
    "#read in data\n",
    "categoricals = ['CRASH_DATE_EST_I', 'TRAFFIC_CONTROL_DEVICE', 'DEVICE_CONDITION',\n",
    "                'WEATHER_CONDITION', 'LIGHTING_CONDITION', 'TRAFFICWAY_TYPE',\n",
    "                'FIRST_CRASH_TYPE', 'TRAFFICWAY_TYPE', 'ROADWAY_SURFACE_COND',\n",
    "                'ROAD_DEFECT', 'REPORT_TYPE', 'CRASH_TYPE', 'INTERSECTION_RELATED_I',\n",
    "                'NOT_RIGHT_OF_WAY_I', 'HIT_AND_RUN_I', 'DAMAGE', 'PRIM_CONTRIBUTORY_CAUSE',\n",
    "                'SEC_CONTRIBUTORY_CAUSE', 'STREET_DIRECTION', 'STREET_NAME', 'PHOTOS_TAKEN_I',\n",
    "                'STATEMENTS_TAKEN_I', 'DOORING_I', 'WORK_ZONE_I', 'WORK_ZONE_TYPE', 'WORKERS_PRESENT_I',\n",
    "                'MOST_SEVERE_INJURY', 'BEAT_OF_OCCURRENCE','CRASH_HOUR','CRASH_MONTH','CRASH_DAY_OF_WEEK','YEAR']\n",
    "dtypes = dict.fromkeys(categoricals, 'object')\n",
    "\n",
    "\n",
    "train = pd.read_csv('../input/00_injury_train_people_vehicle_corrs_removed.csv', dtype = dtypes)\n",
    "train.info()\n",
    "train.shape"
   ]
  },
  {
   "cell_type": "markdown",
   "metadata": {},
   "source": [
    "There are 207,101 rows and 122 features in the dataset"
   ]
  },
  {
   "cell_type": "code",
   "execution_count": 4,
   "metadata": {},
   "outputs": [],
   "source": [
    "# save the ids and target\n",
    "train_labels = train['TARGET']\n",
    "train_ids = train['RD_NO']"
   ]
  },
  {
   "cell_type": "markdown",
   "metadata": {},
   "source": [
    "we are dropping some variables with date and IDs and location information which are not important for modeling."
   ]
  },
  {
   "cell_type": "code",
   "execution_count": 5,
   "metadata": {},
   "outputs": [
    {
     "data": {
      "text/plain": [
       "(207101, 113)"
      ]
     },
     "execution_count": 5,
     "metadata": {},
     "output_type": "execute_result"
    }
   ],
   "source": [
    "# drop variables\n",
    "drop_columns =  ['RD_NO','CRASH_DATE', 'DATE_POLICE_NOTIFIED', 'STREET_NAME','STREET_NO','BEAT_OF_OCCURRENCE','LATITUDE','LONGITUDE','LOCATION']\n",
    "train = train.drop(columns=drop_columns)\n",
    "train.shape"
   ]
  },
  {
   "cell_type": "code",
   "execution_count": 6,
   "metadata": {},
   "outputs": [
    {
     "data": {
      "text/plain": [
       "(207101, 113)"
      ]
     },
     "execution_count": 6,
     "metadata": {},
     "output_type": "execute_result"
    }
   ],
   "source": [
    "train.shape"
   ]
  },
  {
   "cell_type": "markdown",
   "metadata": {},
   "source": [
    "Our data set is composed of categorical variables the most. it will take some time to run the model due to the size of features. "
   ]
  },
  {
   "cell_type": "markdown",
   "metadata": {},
   "source": [
    "## Remove Collinear Variables\n",
    "\n",
    "Since we haved added some numrical features from other tables. We are checing collinearity.\n",
    "Collinear variables can decrease the model's availablility to learn, decrease model interpretability, and decrease generalization performance on the test set. Clearly, these are three things we want to increase, so removing collinear variables is a useful step. We will establish an admittedly arbitrary threshold for removing collinear variables, and then remove one out of any pair of variables that is above that threshold."
   ]
  },
  {
   "cell_type": "code",
   "execution_count": 7,
   "metadata": {},
   "outputs": [
    {
     "data": {
      "text/html": [
       "<div>\n",
       "<style scoped>\n",
       "    .dataframe tbody tr th:only-of-type {\n",
       "        vertical-align: middle;\n",
       "    }\n",
       "\n",
       "    .dataframe tbody tr th {\n",
       "        vertical-align: top;\n",
       "    }\n",
       "\n",
       "    .dataframe thead th {\n",
       "        text-align: right;\n",
       "    }\n",
       "</style>\n",
       "<table border=\"1\" class=\"dataframe\">\n",
       "  <thead>\n",
       "    <tr style=\"text-align: right;\">\n",
       "      <th></th>\n",
       "      <th>POSTED_SPEED_LIMIT</th>\n",
       "      <th>NUM_UNITS</th>\n",
       "      <th>people_counts</th>\n",
       "      <th>TARGET</th>\n",
       "      <th>people_AGE_count</th>\n",
       "      <th>people_AGE_mean</th>\n",
       "      <th>SEX_F_count</th>\n",
       "      <th>SEX_F_count_norm</th>\n",
       "      <th>SEX_M_count</th>\n",
       "      <th>SEX_M_count_norm</th>\n",
       "      <th>...</th>\n",
       "      <th>vehicle_VEHICLE_TYPE_OTHER VEHICLE WITH TRAILER_count</th>\n",
       "      <th>vehicle_VEHICLE_TYPE_PASSENGER_count</th>\n",
       "      <th>vehicle_VEHICLE_TYPE_PICKUP_count</th>\n",
       "      <th>vehicle_VEHICLE_TYPE_SNOWMOBILE_count</th>\n",
       "      <th>vehicle_VEHICLE_TYPE_SPORT UTILITY VEHICLE (SUV)_count</th>\n",
       "      <th>vehicle_VEHICLE_TYPE_TRACTOR W/ SEMI-TRAILER_count</th>\n",
       "      <th>vehicle_VEHICLE_TYPE_TRACTOR W/O SEMI-TRAILER_count</th>\n",
       "      <th>vehicle_VEHICLE_TYPE_TRUCK - SINGLE UNIT_count</th>\n",
       "      <th>vehicle_VEHICLE_TYPE_UNKNOWN/NA_count</th>\n",
       "      <th>vehicle_VEHICLE_TYPE_VAN/MINI-VAN_count</th>\n",
       "    </tr>\n",
       "  </thead>\n",
       "  <tbody>\n",
       "    <tr>\n",
       "      <th>POSTED_SPEED_LIMIT</th>\n",
       "      <td>1.000000</td>\n",
       "      <td>0.049491</td>\n",
       "      <td>0.118641</td>\n",
       "      <td>0.103594</td>\n",
       "      <td>0.136088</td>\n",
       "      <td>0.039065</td>\n",
       "      <td>0.065305</td>\n",
       "      <td>0.026112</td>\n",
       "      <td>0.115151</td>\n",
       "      <td>0.065009</td>\n",
       "      <td>...</td>\n",
       "      <td>0.002673</td>\n",
       "      <td>0.072215</td>\n",
       "      <td>0.009332</td>\n",
       "      <td>0.001294</td>\n",
       "      <td>0.007552</td>\n",
       "      <td>0.008286</td>\n",
       "      <td>0.003318</td>\n",
       "      <td>0.016044</td>\n",
       "      <td>0.061501</td>\n",
       "      <td>0.009958</td>\n",
       "    </tr>\n",
       "    <tr>\n",
       "      <th>NUM_UNITS</th>\n",
       "      <td>0.049491</td>\n",
       "      <td>1.000000</td>\n",
       "      <td>0.213388</td>\n",
       "      <td>0.104067</td>\n",
       "      <td>0.178914</td>\n",
       "      <td>0.033915</td>\n",
       "      <td>0.117653</td>\n",
       "      <td>0.017728</td>\n",
       "      <td>0.139384</td>\n",
       "      <td>0.017419</td>\n",
       "      <td>...</td>\n",
       "      <td>0.000756</td>\n",
       "      <td>0.398321</td>\n",
       "      <td>0.060508</td>\n",
       "      <td>0.000295</td>\n",
       "      <td>0.108460</td>\n",
       "      <td>0.040797</td>\n",
       "      <td>0.006118</td>\n",
       "      <td>0.011399</td>\n",
       "      <td>0.056225</td>\n",
       "      <td>0.075619</td>\n",
       "    </tr>\n",
       "    <tr>\n",
       "      <th>people_counts</th>\n",
       "      <td>0.118641</td>\n",
       "      <td>0.213388</td>\n",
       "      <td>1.000000</td>\n",
       "      <td>0.123914</td>\n",
       "      <td>0.732453</td>\n",
       "      <td>0.149559</td>\n",
       "      <td>0.615640</td>\n",
       "      <td>0.182377</td>\n",
       "      <td>0.586406</td>\n",
       "      <td>0.053648</td>\n",
       "      <td>...</td>\n",
       "      <td>0.005240</td>\n",
       "      <td>0.143978</td>\n",
       "      <td>0.003001</td>\n",
       "      <td>0.003878</td>\n",
       "      <td>0.069928</td>\n",
       "      <td>0.031596</td>\n",
       "      <td>0.004289</td>\n",
       "      <td>0.026141</td>\n",
       "      <td>0.187885</td>\n",
       "      <td>0.038532</td>\n",
       "    </tr>\n",
       "    <tr>\n",
       "      <th>TARGET</th>\n",
       "      <td>0.103594</td>\n",
       "      <td>0.104067</td>\n",
       "      <td>0.123914</td>\n",
       "      <td>1.000000</td>\n",
       "      <td>0.212941</td>\n",
       "      <td>0.094599</td>\n",
       "      <td>0.081108</td>\n",
       "      <td>0.028287</td>\n",
       "      <td>0.108621</td>\n",
       "      <td>0.056674</td>\n",
       "      <td>...</td>\n",
       "      <td>0.010524</td>\n",
       "      <td>0.073465</td>\n",
       "      <td>0.006498</td>\n",
       "      <td>0.002789</td>\n",
       "      <td>0.012298</td>\n",
       "      <td>0.017096</td>\n",
       "      <td>0.002676</td>\n",
       "      <td>0.033919</td>\n",
       "      <td>0.119476</td>\n",
       "      <td>0.000366</td>\n",
       "    </tr>\n",
       "    <tr>\n",
       "      <th>people_AGE_count</th>\n",
       "      <td>0.136088</td>\n",
       "      <td>0.178914</td>\n",
       "      <td>0.732453</td>\n",
       "      <td>0.212941</td>\n",
       "      <td>1.000000</td>\n",
       "      <td>0.172456</td>\n",
       "      <td>0.528030</td>\n",
       "      <td>0.232781</td>\n",
       "      <td>0.532504</td>\n",
       "      <td>0.171365</td>\n",
       "      <td>...</td>\n",
       "      <td>0.008511</td>\n",
       "      <td>0.195517</td>\n",
       "      <td>0.015933</td>\n",
       "      <td>0.003306</td>\n",
       "      <td>0.063535</td>\n",
       "      <td>0.001863</td>\n",
       "      <td>0.007087</td>\n",
       "      <td>0.004612</td>\n",
       "      <td>0.338849</td>\n",
       "      <td>0.034794</td>\n",
       "    </tr>\n",
       "  </tbody>\n",
       "</table>\n",
       "<p>5 rows × 94 columns</p>\n",
       "</div>"
      ],
      "text/plain": [
       "                    POSTED_SPEED_LIMIT  NUM_UNITS  people_counts    TARGET  \\\n",
       "POSTED_SPEED_LIMIT            1.000000   0.049491       0.118641  0.103594   \n",
       "NUM_UNITS                     0.049491   1.000000       0.213388  0.104067   \n",
       "people_counts                 0.118641   0.213388       1.000000  0.123914   \n",
       "TARGET                        0.103594   0.104067       0.123914  1.000000   \n",
       "people_AGE_count              0.136088   0.178914       0.732453  0.212941   \n",
       "\n",
       "                    people_AGE_count  people_AGE_mean  SEX_F_count  \\\n",
       "POSTED_SPEED_LIMIT          0.136088         0.039065     0.065305   \n",
       "NUM_UNITS                   0.178914         0.033915     0.117653   \n",
       "people_counts               0.732453         0.149559     0.615640   \n",
       "TARGET                      0.212941         0.094599     0.081108   \n",
       "people_AGE_count            1.000000         0.172456     0.528030   \n",
       "\n",
       "                    SEX_F_count_norm  SEX_M_count  SEX_M_count_norm  ...  \\\n",
       "POSTED_SPEED_LIMIT          0.026112     0.115151          0.065009  ...   \n",
       "NUM_UNITS                   0.017728     0.139384          0.017419  ...   \n",
       "people_counts               0.182377     0.586406          0.053648  ...   \n",
       "TARGET                      0.028287     0.108621          0.056674  ...   \n",
       "people_AGE_count            0.232781     0.532504          0.171365  ...   \n",
       "\n",
       "                    vehicle_VEHICLE_TYPE_OTHER VEHICLE WITH TRAILER_count  \\\n",
       "POSTED_SPEED_LIMIT                                           0.002673       \n",
       "NUM_UNITS                                                    0.000756       \n",
       "people_counts                                                0.005240       \n",
       "TARGET                                                       0.010524       \n",
       "people_AGE_count                                             0.008511       \n",
       "\n",
       "                    vehicle_VEHICLE_TYPE_PASSENGER_count  \\\n",
       "POSTED_SPEED_LIMIT                              0.072215   \n",
       "NUM_UNITS                                       0.398321   \n",
       "people_counts                                   0.143978   \n",
       "TARGET                                          0.073465   \n",
       "people_AGE_count                                0.195517   \n",
       "\n",
       "                    vehicle_VEHICLE_TYPE_PICKUP_count  \\\n",
       "POSTED_SPEED_LIMIT                           0.009332   \n",
       "NUM_UNITS                                    0.060508   \n",
       "people_counts                                0.003001   \n",
       "TARGET                                       0.006498   \n",
       "people_AGE_count                             0.015933   \n",
       "\n",
       "                    vehicle_VEHICLE_TYPE_SNOWMOBILE_count  \\\n",
       "POSTED_SPEED_LIMIT                               0.001294   \n",
       "NUM_UNITS                                        0.000295   \n",
       "people_counts                                    0.003878   \n",
       "TARGET                                           0.002789   \n",
       "people_AGE_count                                 0.003306   \n",
       "\n",
       "                    vehicle_VEHICLE_TYPE_SPORT UTILITY VEHICLE (SUV)_count  \\\n",
       "POSTED_SPEED_LIMIT                                           0.007552        \n",
       "NUM_UNITS                                                    0.108460        \n",
       "people_counts                                                0.069928        \n",
       "TARGET                                                       0.012298        \n",
       "people_AGE_count                                             0.063535        \n",
       "\n",
       "                    vehicle_VEHICLE_TYPE_TRACTOR W/ SEMI-TRAILER_count  \\\n",
       "POSTED_SPEED_LIMIT                                           0.008286    \n",
       "NUM_UNITS                                                    0.040797    \n",
       "people_counts                                                0.031596    \n",
       "TARGET                                                       0.017096    \n",
       "people_AGE_count                                             0.001863    \n",
       "\n",
       "                    vehicle_VEHICLE_TYPE_TRACTOR W/O SEMI-TRAILER_count  \\\n",
       "POSTED_SPEED_LIMIT                                           0.003318     \n",
       "NUM_UNITS                                                    0.006118     \n",
       "people_counts                                                0.004289     \n",
       "TARGET                                                       0.002676     \n",
       "people_AGE_count                                             0.007087     \n",
       "\n",
       "                    vehicle_VEHICLE_TYPE_TRUCK - SINGLE UNIT_count  \\\n",
       "POSTED_SPEED_LIMIT                                        0.016044   \n",
       "NUM_UNITS                                                 0.011399   \n",
       "people_counts                                             0.026141   \n",
       "TARGET                                                    0.033919   \n",
       "people_AGE_count                                          0.004612   \n",
       "\n",
       "                    vehicle_VEHICLE_TYPE_UNKNOWN/NA_count  \\\n",
       "POSTED_SPEED_LIMIT                               0.061501   \n",
       "NUM_UNITS                                        0.056225   \n",
       "people_counts                                    0.187885   \n",
       "TARGET                                           0.119476   \n",
       "people_AGE_count                                 0.338849   \n",
       "\n",
       "                    vehicle_VEHICLE_TYPE_VAN/MINI-VAN_count  \n",
       "POSTED_SPEED_LIMIT                                 0.009958  \n",
       "NUM_UNITS                                          0.075619  \n",
       "people_counts                                      0.038532  \n",
       "TARGET                                             0.000366  \n",
       "people_AGE_count                                   0.034794  \n",
       "\n",
       "[5 rows x 94 columns]"
      ]
     },
     "execution_count": 7,
     "metadata": {},
     "output_type": "execute_result"
    }
   ],
   "source": [
    "# Threshold for removing correlated variables\n",
    "threshold = 0.9\n",
    "\n",
    "# Absolute value correlation matrix\n",
    "corr_matrix = train.corr().abs()\n",
    "corr_matrix.head()"
   ]
  },
  {
   "cell_type": "code",
   "execution_count": 8,
   "metadata": {},
   "outputs": [
    {
     "data": {
      "text/html": [
       "<div>\n",
       "<style scoped>\n",
       "    .dataframe tbody tr th:only-of-type {\n",
       "        vertical-align: middle;\n",
       "    }\n",
       "\n",
       "    .dataframe tbody tr th {\n",
       "        vertical-align: top;\n",
       "    }\n",
       "\n",
       "    .dataframe thead th {\n",
       "        text-align: right;\n",
       "    }\n",
       "</style>\n",
       "<table border=\"1\" class=\"dataframe\">\n",
       "  <thead>\n",
       "    <tr style=\"text-align: right;\">\n",
       "      <th></th>\n",
       "      <th>POSTED_SPEED_LIMIT</th>\n",
       "      <th>NUM_UNITS</th>\n",
       "      <th>people_counts</th>\n",
       "      <th>TARGET</th>\n",
       "      <th>people_AGE_count</th>\n",
       "      <th>people_AGE_mean</th>\n",
       "      <th>SEX_F_count</th>\n",
       "      <th>SEX_F_count_norm</th>\n",
       "      <th>SEX_M_count</th>\n",
       "      <th>SEX_M_count_norm</th>\n",
       "      <th>...</th>\n",
       "      <th>vehicle_VEHICLE_TYPE_OTHER VEHICLE WITH TRAILER_count</th>\n",
       "      <th>vehicle_VEHICLE_TYPE_PASSENGER_count</th>\n",
       "      <th>vehicle_VEHICLE_TYPE_PICKUP_count</th>\n",
       "      <th>vehicle_VEHICLE_TYPE_SNOWMOBILE_count</th>\n",
       "      <th>vehicle_VEHICLE_TYPE_SPORT UTILITY VEHICLE (SUV)_count</th>\n",
       "      <th>vehicle_VEHICLE_TYPE_TRACTOR W/ SEMI-TRAILER_count</th>\n",
       "      <th>vehicle_VEHICLE_TYPE_TRACTOR W/O SEMI-TRAILER_count</th>\n",
       "      <th>vehicle_VEHICLE_TYPE_TRUCK - SINGLE UNIT_count</th>\n",
       "      <th>vehicle_VEHICLE_TYPE_UNKNOWN/NA_count</th>\n",
       "      <th>vehicle_VEHICLE_TYPE_VAN/MINI-VAN_count</th>\n",
       "    </tr>\n",
       "  </thead>\n",
       "  <tbody>\n",
       "    <tr>\n",
       "      <th>POSTED_SPEED_LIMIT</th>\n",
       "      <td>NaN</td>\n",
       "      <td>0.049491</td>\n",
       "      <td>0.118641</td>\n",
       "      <td>0.103594</td>\n",
       "      <td>0.136088</td>\n",
       "      <td>0.039065</td>\n",
       "      <td>0.065305</td>\n",
       "      <td>0.026112</td>\n",
       "      <td>0.115151</td>\n",
       "      <td>0.065009</td>\n",
       "      <td>...</td>\n",
       "      <td>0.002673</td>\n",
       "      <td>0.072215</td>\n",
       "      <td>0.009332</td>\n",
       "      <td>0.001294</td>\n",
       "      <td>0.007552</td>\n",
       "      <td>0.008286</td>\n",
       "      <td>0.003318</td>\n",
       "      <td>0.016044</td>\n",
       "      <td>0.061501</td>\n",
       "      <td>0.009958</td>\n",
       "    </tr>\n",
       "    <tr>\n",
       "      <th>NUM_UNITS</th>\n",
       "      <td>NaN</td>\n",
       "      <td>NaN</td>\n",
       "      <td>0.213388</td>\n",
       "      <td>0.104067</td>\n",
       "      <td>0.178914</td>\n",
       "      <td>0.033915</td>\n",
       "      <td>0.117653</td>\n",
       "      <td>0.017728</td>\n",
       "      <td>0.139384</td>\n",
       "      <td>0.017419</td>\n",
       "      <td>...</td>\n",
       "      <td>0.000756</td>\n",
       "      <td>0.398321</td>\n",
       "      <td>0.060508</td>\n",
       "      <td>0.000295</td>\n",
       "      <td>0.108460</td>\n",
       "      <td>0.040797</td>\n",
       "      <td>0.006118</td>\n",
       "      <td>0.011399</td>\n",
       "      <td>0.056225</td>\n",
       "      <td>0.075619</td>\n",
       "    </tr>\n",
       "    <tr>\n",
       "      <th>people_counts</th>\n",
       "      <td>NaN</td>\n",
       "      <td>NaN</td>\n",
       "      <td>NaN</td>\n",
       "      <td>0.123914</td>\n",
       "      <td>0.732453</td>\n",
       "      <td>0.149559</td>\n",
       "      <td>0.615640</td>\n",
       "      <td>0.182377</td>\n",
       "      <td>0.586406</td>\n",
       "      <td>0.053648</td>\n",
       "      <td>...</td>\n",
       "      <td>0.005240</td>\n",
       "      <td>0.143978</td>\n",
       "      <td>0.003001</td>\n",
       "      <td>0.003878</td>\n",
       "      <td>0.069928</td>\n",
       "      <td>0.031596</td>\n",
       "      <td>0.004289</td>\n",
       "      <td>0.026141</td>\n",
       "      <td>0.187885</td>\n",
       "      <td>0.038532</td>\n",
       "    </tr>\n",
       "    <tr>\n",
       "      <th>TARGET</th>\n",
       "      <td>NaN</td>\n",
       "      <td>NaN</td>\n",
       "      <td>NaN</td>\n",
       "      <td>NaN</td>\n",
       "      <td>0.212941</td>\n",
       "      <td>0.094599</td>\n",
       "      <td>0.081108</td>\n",
       "      <td>0.028287</td>\n",
       "      <td>0.108621</td>\n",
       "      <td>0.056674</td>\n",
       "      <td>...</td>\n",
       "      <td>0.010524</td>\n",
       "      <td>0.073465</td>\n",
       "      <td>0.006498</td>\n",
       "      <td>0.002789</td>\n",
       "      <td>0.012298</td>\n",
       "      <td>0.017096</td>\n",
       "      <td>0.002676</td>\n",
       "      <td>0.033919</td>\n",
       "      <td>0.119476</td>\n",
       "      <td>0.000366</td>\n",
       "    </tr>\n",
       "    <tr>\n",
       "      <th>people_AGE_count</th>\n",
       "      <td>NaN</td>\n",
       "      <td>NaN</td>\n",
       "      <td>NaN</td>\n",
       "      <td>NaN</td>\n",
       "      <td>NaN</td>\n",
       "      <td>0.172456</td>\n",
       "      <td>0.528030</td>\n",
       "      <td>0.232781</td>\n",
       "      <td>0.532504</td>\n",
       "      <td>0.171365</td>\n",
       "      <td>...</td>\n",
       "      <td>0.008511</td>\n",
       "      <td>0.195517</td>\n",
       "      <td>0.015933</td>\n",
       "      <td>0.003306</td>\n",
       "      <td>0.063535</td>\n",
       "      <td>0.001863</td>\n",
       "      <td>0.007087</td>\n",
       "      <td>0.004612</td>\n",
       "      <td>0.338849</td>\n",
       "      <td>0.034794</td>\n",
       "    </tr>\n",
       "  </tbody>\n",
       "</table>\n",
       "<p>5 rows × 94 columns</p>\n",
       "</div>"
      ],
      "text/plain": [
       "                    POSTED_SPEED_LIMIT  NUM_UNITS  people_counts    TARGET  \\\n",
       "POSTED_SPEED_LIMIT                 NaN   0.049491       0.118641  0.103594   \n",
       "NUM_UNITS                          NaN        NaN       0.213388  0.104067   \n",
       "people_counts                      NaN        NaN            NaN  0.123914   \n",
       "TARGET                             NaN        NaN            NaN       NaN   \n",
       "people_AGE_count                   NaN        NaN            NaN       NaN   \n",
       "\n",
       "                    people_AGE_count  people_AGE_mean  SEX_F_count  \\\n",
       "POSTED_SPEED_LIMIT          0.136088         0.039065     0.065305   \n",
       "NUM_UNITS                   0.178914         0.033915     0.117653   \n",
       "people_counts               0.732453         0.149559     0.615640   \n",
       "TARGET                      0.212941         0.094599     0.081108   \n",
       "people_AGE_count                 NaN         0.172456     0.528030   \n",
       "\n",
       "                    SEX_F_count_norm  SEX_M_count  SEX_M_count_norm  ...  \\\n",
       "POSTED_SPEED_LIMIT          0.026112     0.115151          0.065009  ...   \n",
       "NUM_UNITS                   0.017728     0.139384          0.017419  ...   \n",
       "people_counts               0.182377     0.586406          0.053648  ...   \n",
       "TARGET                      0.028287     0.108621          0.056674  ...   \n",
       "people_AGE_count            0.232781     0.532504          0.171365  ...   \n",
       "\n",
       "                    vehicle_VEHICLE_TYPE_OTHER VEHICLE WITH TRAILER_count  \\\n",
       "POSTED_SPEED_LIMIT                                           0.002673       \n",
       "NUM_UNITS                                                    0.000756       \n",
       "people_counts                                                0.005240       \n",
       "TARGET                                                       0.010524       \n",
       "people_AGE_count                                             0.008511       \n",
       "\n",
       "                    vehicle_VEHICLE_TYPE_PASSENGER_count  \\\n",
       "POSTED_SPEED_LIMIT                              0.072215   \n",
       "NUM_UNITS                                       0.398321   \n",
       "people_counts                                   0.143978   \n",
       "TARGET                                          0.073465   \n",
       "people_AGE_count                                0.195517   \n",
       "\n",
       "                    vehicle_VEHICLE_TYPE_PICKUP_count  \\\n",
       "POSTED_SPEED_LIMIT                           0.009332   \n",
       "NUM_UNITS                                    0.060508   \n",
       "people_counts                                0.003001   \n",
       "TARGET                                       0.006498   \n",
       "people_AGE_count                             0.015933   \n",
       "\n",
       "                    vehicle_VEHICLE_TYPE_SNOWMOBILE_count  \\\n",
       "POSTED_SPEED_LIMIT                               0.001294   \n",
       "NUM_UNITS                                        0.000295   \n",
       "people_counts                                    0.003878   \n",
       "TARGET                                           0.002789   \n",
       "people_AGE_count                                 0.003306   \n",
       "\n",
       "                    vehicle_VEHICLE_TYPE_SPORT UTILITY VEHICLE (SUV)_count  \\\n",
       "POSTED_SPEED_LIMIT                                           0.007552        \n",
       "NUM_UNITS                                                    0.108460        \n",
       "people_counts                                                0.069928        \n",
       "TARGET                                                       0.012298        \n",
       "people_AGE_count                                             0.063535        \n",
       "\n",
       "                    vehicle_VEHICLE_TYPE_TRACTOR W/ SEMI-TRAILER_count  \\\n",
       "POSTED_SPEED_LIMIT                                           0.008286    \n",
       "NUM_UNITS                                                    0.040797    \n",
       "people_counts                                                0.031596    \n",
       "TARGET                                                       0.017096    \n",
       "people_AGE_count                                             0.001863    \n",
       "\n",
       "                    vehicle_VEHICLE_TYPE_TRACTOR W/O SEMI-TRAILER_count  \\\n",
       "POSTED_SPEED_LIMIT                                           0.003318     \n",
       "NUM_UNITS                                                    0.006118     \n",
       "people_counts                                                0.004289     \n",
       "TARGET                                                       0.002676     \n",
       "people_AGE_count                                             0.007087     \n",
       "\n",
       "                    vehicle_VEHICLE_TYPE_TRUCK - SINGLE UNIT_count  \\\n",
       "POSTED_SPEED_LIMIT                                        0.016044   \n",
       "NUM_UNITS                                                 0.011399   \n",
       "people_counts                                             0.026141   \n",
       "TARGET                                                    0.033919   \n",
       "people_AGE_count                                          0.004612   \n",
       "\n",
       "                    vehicle_VEHICLE_TYPE_UNKNOWN/NA_count  \\\n",
       "POSTED_SPEED_LIMIT                               0.061501   \n",
       "NUM_UNITS                                        0.056225   \n",
       "people_counts                                    0.187885   \n",
       "TARGET                                           0.119476   \n",
       "people_AGE_count                                 0.338849   \n",
       "\n",
       "                    vehicle_VEHICLE_TYPE_VAN/MINI-VAN_count  \n",
       "POSTED_SPEED_LIMIT                                 0.009958  \n",
       "NUM_UNITS                                          0.075619  \n",
       "people_counts                                      0.038532  \n",
       "TARGET                                             0.000366  \n",
       "people_AGE_count                                   0.034794  \n",
       "\n",
       "[5 rows x 94 columns]"
      ]
     },
     "execution_count": 8,
     "metadata": {},
     "output_type": "execute_result"
    }
   ],
   "source": [
    "# Upper triangle of correlations\n",
    "upper = corr_matrix.where(np.triu(np.ones(corr_matrix.shape), k=1).astype(np.bool))\n",
    "upper.head()"
   ]
  },
  {
   "cell_type": "code",
   "execution_count": 9,
   "metadata": {},
   "outputs": [
    {
     "name": "stdout",
     "output_type": "stream",
     "text": [
      "There are 1 columns to remove.\n"
     ]
    }
   ],
   "source": [
    "# Select columns with correlations above threshold\n",
    "to_drop = [column for column in upper.columns if any(upper[column] > threshold)]\n",
    "\n",
    "print('There are %d columns to remove.' % (len(to_drop)))"
   ]
  },
  {
   "cell_type": "code",
   "execution_count": 10,
   "metadata": {},
   "outputs": [
    {
     "data": {
      "text/plain": [
       "['SAFETY_EQUIPMENT_USAGE UNKNOWN_count_norm']"
      ]
     },
     "execution_count": 10,
     "metadata": {},
     "output_type": "execute_result"
    }
   ],
   "source": [
    "to_drop"
   ]
  },
  {
   "cell_type": "code",
   "execution_count": 11,
   "metadata": {},
   "outputs": [
    {
     "name": "stdout",
     "output_type": "stream",
     "text": [
      "Training shape:  (207101, 112)\n"
     ]
    }
   ],
   "source": [
    "# Drop Correlated Variables\n",
    "train = train.drop(columns = to_drop)\n",
    "\n",
    "print('Training shape: ', train.shape)"
   ]
  },
  {
   "cell_type": "markdown",
   "metadata": {},
   "source": [
    "## Remove Missing Values\n",
    "There is no right way to choose the threshold for missing values.\n",
    "In this implementation, if any columns have greater than 70% missing values, they will be removed, which has been done on feature engineering process"
   ]
  },
  {
   "cell_type": "code",
   "execution_count": 12,
   "metadata": {},
   "outputs": [
    {
     "data": {
      "text/plain": [
       "LANE_CNT                                           0.338627\n",
       "people_AGE_mean                                    0.176271\n",
       "REPORT_TYPE                                        0.022805\n",
       "SAFETY_EQUIPMENT_CHILD RESTRAINT NOT USED_count    0.015649\n",
       "SAFETY_EQUIPMENT_NONE PRESENT_count                0.015649\n",
       "dtype: float64"
      ]
     },
     "execution_count": 12,
     "metadata": {},
     "output_type": "execute_result"
    }
   ],
   "source": [
    "# Train missing values (in percent)\n",
    "train_missing = (train.isnull().sum() / len(train)).sort_values(ascending = False)\n",
    "train_missing.head()"
   ]
  },
  {
   "cell_type": "code",
   "execution_count": 13,
   "metadata": {},
   "outputs": [],
   "source": [
    "# Identify missing values above threshold\n",
    "train_missing = train_missing.index[train_missing > 0.75]\n",
    "missing = list(set(train_missing))"
   ]
  },
  {
   "cell_type": "code",
   "execution_count": 14,
   "metadata": {},
   "outputs": [
    {
     "data": {
      "text/plain": [
       "'There are 0 columns with more than 75% missing values'"
      ]
     },
     "execution_count": 14,
     "metadata": {},
     "output_type": "execute_result"
    }
   ],
   "source": [
    "f'There are {len(missing)} columns with more than 75% missing values'"
   ]
  },
  {
   "cell_type": "code",
   "execution_count": 15,
   "metadata": {},
   "outputs": [
    {
     "data": {
      "text/plain": [
       "POSTED_SPEED_LIMIT                                       0\n",
       "TRAFFIC_CONTROL_DEVICE                                   0\n",
       "DEVICE_CONDITION                                         0\n",
       "WEATHER_CONDITION                                        0\n",
       "LIGHTING_CONDITION                                       0\n",
       "                                                      ... \n",
       "vehicle_VEHICLE_TYPE_TRACTOR W/ SEMI-TRAILER_count     391\n",
       "vehicle_VEHICLE_TYPE_TRACTOR W/O SEMI-TRAILER_count    391\n",
       "vehicle_VEHICLE_TYPE_TRUCK - SINGLE UNIT_count         391\n",
       "vehicle_VEHICLE_TYPE_UNKNOWN/NA_count                  391\n",
       "vehicle_VEHICLE_TYPE_VAN/MINI-VAN_count                391\n",
       "Length: 112, dtype: int64"
      ]
     },
     "execution_count": 15,
     "metadata": {},
     "output_type": "execute_result"
    }
   ],
   "source": [
    "train.isnull().sum()"
   ]
  },
  {
   "cell_type": "markdown",
   "metadata": {},
   "source": [
    "There are some variables with NaN value. Random Forest cannot handle the missing data, We are going to replace NaN value with median or most frequent values."
   ]
  },
  {
   "cell_type": "code",
   "execution_count": 256,
   "metadata": {},
   "outputs": [],
   "source": [
    "# One Hot Encoding\n",
    "features = pd.get_dummies(train)\n",
    "\n",
    "# Extract features and labels\n",
    "labels = features['TARGET']\n",
    "features = features.drop('TARGET', axis = 1)\n",
    "\n",
    "# List of features for later use\n",
    "feature_list = list(features.columns)"
   ]
  },
  {
   "cell_type": "code",
   "execution_count": 257,
   "metadata": {},
   "outputs": [],
   "source": [
    "# Convert to numpy arrays\n",
    "import numpy as np\n",
    "\n",
    "# features = np.array(features)\n",
    "# labels = np.array(labels)\n",
    "\n",
    "# Training and Testing Sets\n",
    "from sklearn.model_selection import train_test_split\n",
    "\n",
    "train_features, test_features, train_labels, test_labels = train_test_split(features, labels, \n",
    "                                                                            test_size = 0.25, random_state = 2003)"
   ]
  },
  {
   "cell_type": "code",
   "execution_count": 258,
   "metadata": {},
   "outputs": [
    {
     "name": "stdout",
     "output_type": "stream",
     "text": [
      "Training Features Shape: (155325, 362)\n",
      "Training Labels Shape: (155325,)\n",
      "Testing Features Shape: (51776, 362)\n",
      "Testing Labels Shape: (51776,)\n"
     ]
    }
   ],
   "source": [
    "\n",
    "print('Training Features Shape:', train_features.shape)\n",
    "print('Training Labels Shape:', train_labels.shape)\n",
    "print('Testing Features Shape:', test_features.shape)\n",
    "print('Testing Labels Shape:', test_labels.shape)"
   ]
  },
  {
   "cell_type": "code",
   "execution_count": 259,
   "metadata": {},
   "outputs": [],
   "source": [
    "# function for replacing missing variables. \n",
    "import pandas as pd\n",
    "import numpy as np\n",
    "\n",
    "from sklearn.base import TransformerMixin\n",
    "\n",
    "class DataFrameImputer(TransformerMixin):\n",
    "\n",
    "    def __init__(self):\n",
    "        \"\"\"Impute missing values.\n",
    "\n",
    "        Columns of dtype object are imputed with the most frequent value \n",
    "        in column.\n",
    "\n",
    "        Columns of other types are imputed with mean of column.\n",
    "\n",
    "        \"\"\"\n",
    "    def fit(self, X, y=None):\n",
    "\n",
    "        self.fill = pd.Series([X[c].value_counts().index[0]\n",
    "            if X[c].dtype == np.dtype('O') else X[c].mean() for c in X],\n",
    "            index=X.columns)\n",
    "\n",
    "        return self\n",
    "\n",
    "    def transform(self, X, y=None):\n",
    "        return X.fillna(self.fill)\n",
    "\n",
    "X = pd.DataFrame(train_features)\n",
    "train_features = DataFrameImputer().fit_transform(X)\n",
    "T = pd.DataFrame(test_features)\n",
    "test_features = DataFrameImputer().fit_transform(T)"
   ]
  },
  {
   "cell_type": "code",
   "execution_count": 260,
   "metadata": {},
   "outputs": [
    {
     "data": {
      "text/plain": [
       "POSTED_SPEED_LIMIT    0\n",
       "NUM_UNITS             0\n",
       "people_counts         0\n",
       "people_AGE_count      0\n",
       "people_AGE_mean       0\n",
       "                     ..\n",
       "CRASH_MONTH_8         0\n",
       "CRASH_MONTH_9         0\n",
       "YEAR_2017             0\n",
       "YEAR_2018             0\n",
       "YEAR_2019             0\n",
       "Length: 362, dtype: int64"
      ]
     },
     "execution_count": 260,
     "metadata": {},
     "output_type": "execute_result"
    }
   ],
   "source": [
    "train_features.isnull().sum()"
   ]
  },
  {
   "cell_type": "code",
   "execution_count": 261,
   "metadata": {},
   "outputs": [
    {
     "data": {
      "text/plain": [
       "POSTED_SPEED_LIMIT    0\n",
       "NUM_UNITS             0\n",
       "people_counts         0\n",
       "people_AGE_count      0\n",
       "people_AGE_mean       0\n",
       "                     ..\n",
       "CRASH_MONTH_8         0\n",
       "CRASH_MONTH_9         0\n",
       "YEAR_2017             0\n",
       "YEAR_2018             0\n",
       "YEAR_2019             0\n",
       "Length: 362, dtype: int64"
      ]
     },
     "execution_count": 261,
     "metadata": {},
     "output_type": "execute_result"
    }
   ],
   "source": [
    "test_features.isnull().sum()"
   ]
  },
  {
   "cell_type": "code",
   "execution_count": 21,
   "metadata": {},
   "outputs": [
    {
     "data": {
      "text/plain": [
       "(51776, 362)"
      ]
     },
     "execution_count": 21,
     "metadata": {},
     "output_type": "execute_result"
    }
   ],
   "source": [
    "test_features.shape"
   ]
  },
  {
   "cell_type": "code",
   "execution_count": 22,
   "metadata": {},
   "outputs": [],
   "source": [
    "# save to csv\n",
    "train.to_csv('../input/00_injury_onehot_corr90_dropped_replace_missing.csv')"
   ]
  },
  {
   "cell_type": "markdown",
   "metadata": {},
   "source": [
    "## Feature Selection through Feature Importances\n",
    "The next method we can employ for feature selection is to use the feature importances of a model. Tree-based models (and consequently ensembles of trees) can determine an \"importance\" for each feature by measuring the reduction in impurity for including the feature in the model. Moreover, we can use the feature importances to remove features that the model does not consider important.\n",
    "\n",
    "we can perform our own feature removal by selecting cumulative importance at 95% first. If this leaves too many features, then we can consider removing the features with the lowest importance. "
   ]
  },
  {
   "cell_type": "markdown",
   "metadata": {},
   "source": [
    "### Examine the Default Random Forest to Determine Parameters\n",
    "We will use these parameters as a starting point. I relied on the sklearn random forest documentation to determine which features to change and the available options."
   ]
  },
  {
   "cell_type": "code",
   "execution_count": 23,
   "metadata": {},
   "outputs": [
    {
     "name": "stdout",
     "output_type": "stream",
     "text": [
      "Parameters currently in use:\n",
      "\n",
      "{'bootstrap': True,\n",
      " 'ccp_alpha': 0.0,\n",
      " 'class_weight': 'balanced_subsample',\n",
      " 'criterion': 'gini',\n",
      " 'max_depth': None,\n",
      " 'max_features': 'auto',\n",
      " 'max_leaf_nodes': None,\n",
      " 'max_samples': None,\n",
      " 'min_impurity_decrease': 0.0,\n",
      " 'min_impurity_split': None,\n",
      " 'min_samples_leaf': 1,\n",
      " 'min_samples_split': 2,\n",
      " 'min_weight_fraction_leaf': 0.0,\n",
      " 'n_estimators': 1000,\n",
      " 'n_jobs': -1,\n",
      " 'oob_score': 'True',\n",
      " 'random_state': 2003,\n",
      " 'verbose': 0,\n",
      " 'warm_start': False}\n"
     ]
    }
   ],
   "source": [
    "base_clf = RandomForestClassifier(random_state = 2003, class_weight='balanced_subsample',\n",
    "                                  oob_score='True',n_estimators= 1000, n_jobs=-1)\n",
    "\n",
    "\n",
    "\n",
    "from pprint import pprint\n",
    "# Look at parameters used by our current forest\n",
    "print('Parameters currently in use:\\n')\n",
    "pprint(base_clf.get_params()) # print nicely"
   ]
  },
  {
   "cell_type": "code",
   "execution_count": 24,
   "metadata": {},
   "outputs": [
    {
     "data": {
      "text/plain": [
       "RandomForestClassifier(bootstrap=True, ccp_alpha=0.0,\n",
       "                       class_weight='balanced_subsample', criterion='gini',\n",
       "                       max_depth=None, max_features='auto', max_leaf_nodes=None,\n",
       "                       max_samples=None, min_impurity_decrease=0.0,\n",
       "                       min_impurity_split=None, min_samples_leaf=1,\n",
       "                       min_samples_split=2, min_weight_fraction_leaf=0.0,\n",
       "                       n_estimators=1000, n_jobs=-1, oob_score='True',\n",
       "                       random_state=2003, verbose=0, warm_start=False)"
      ]
     },
     "execution_count": 24,
     "metadata": {},
     "output_type": "execute_result"
    }
   ],
   "source": [
    "base_clf.fit(train_features, train_labels)"
   ]
  },
  {
   "cell_type": "code",
   "execution_count": 264,
   "metadata": {},
   "outputs": [],
   "source": [
    "# evaluation for model\n",
    "from sklearn import metrics as mt\n",
    "def evaluate(model, test_features, test_labels):\n",
    "    predictions = model.predict(test_features)\n",
    "    oob_score = model.oob_score_\n",
    "    report= mt.classification_report(test_labels, predictions) \n",
    "    print('***** Model Performance. *****')\n",
    "    print('- Out of Bag eror: {:0.4f}.'.format(oob_score))\n",
    "    print('- test_labels values:',test_labels.values[0:10]) # if it is array alreay. no need to call as .values\n",
    "    print('- predictions values:',predictions[0:10],'\\n')\n",
    "    print('<Accuracy> \\n{}'.format(report))\n",
    "    \n",
    "    return report"
   ]
  },
  {
   "cell_type": "code",
   "execution_count": 265,
   "metadata": {},
   "outputs": [
    {
     "name": "stdout",
     "output_type": "stream",
     "text": [
      "***** Model Performance. *****\n",
      "- Out of Bag eror: 0.8757.\n",
      "- test_labels values: [0 0 0 0 0 0 0 0 1 0]\n",
      "- predictions values: [0 0 0 0 0 0 1 0 0 0] \n",
      "\n",
      "<Accuracy> \n",
      "              precision    recall  f1-score   support\n",
      "\n",
      "           0       0.89      0.94      0.92     39041\n",
      "           1       0.79      0.65      0.71     12735\n",
      "\n",
      "    accuracy                           0.87     51776\n",
      "   macro avg       0.84      0.80      0.82     51776\n",
      "weighted avg       0.87      0.87      0.87     51776\n",
      "\n"
     ]
    },
    {
     "data": {
      "text/plain": [
       "'              precision    recall  f1-score   support\\n\\n           0       0.89      0.94      0.92     39041\\n           1       0.79      0.65      0.71     12735\\n\\n    accuracy                           0.87     51776\\n   macro avg       0.84      0.80      0.82     51776\\nweighted avg       0.87      0.87      0.87     51776\\n'"
      ]
     },
     "execution_count": 265,
     "metadata": {},
     "output_type": "execute_result"
    }
   ],
   "source": [
    "evaluate(base_clf, test_features, test_labels)"
   ]
  },
  {
   "cell_type": "code",
   "execution_count": 33,
   "metadata": {},
   "outputs": [
    {
     "name": "stdout",
     "output_type": "stream",
     "text": [
      "Parameters currently in use:\n",
      "\n",
      "{'bootstrap': True,\n",
      " 'ccp_alpha': 0.0,\n",
      " 'class_weight': 'balanced',\n",
      " 'criterion': 'gini',\n",
      " 'max_depth': None,\n",
      " 'max_features': 'auto',\n",
      " 'max_leaf_nodes': None,\n",
      " 'max_samples': None,\n",
      " 'min_impurity_decrease': 0.0,\n",
      " 'min_impurity_split': None,\n",
      " 'min_samples_leaf': 1,\n",
      " 'min_samples_split': 2,\n",
      " 'min_weight_fraction_leaf': 0.0,\n",
      " 'n_estimators': 1000,\n",
      " 'n_jobs': -1,\n",
      " 'oob_score': 'True',\n",
      " 'random_state': 2003,\n",
      " 'verbose': 0,\n",
      " 'warm_start': False}\n"
     ]
    }
   ],
   "source": [
    "\n",
    "base_clf_1 = RandomForestClassifier(random_state = 2003, class_weight='balanced',\n",
    "                                  oob_score='True',n_estimators= 1000, n_jobs=-1)\n",
    "\n",
    "from pprint import pprint\n",
    "# Look at parameters used by our current forest\n",
    "print('Parameters currently in use:\\n')\n",
    "pprint(base_clf_1.get_params()) # print nicely"
   ]
  },
  {
   "cell_type": "code",
   "execution_count": 34,
   "metadata": {},
   "outputs": [
    {
     "data": {
      "text/plain": [
       "RandomForestClassifier(bootstrap=True, ccp_alpha=0.0, class_weight='balanced',\n",
       "                       criterion='gini', max_depth=None, max_features='auto',\n",
       "                       max_leaf_nodes=None, max_samples=None,\n",
       "                       min_impurity_decrease=0.0, min_impurity_split=None,\n",
       "                       min_samples_leaf=1, min_samples_split=2,\n",
       "                       min_weight_fraction_leaf=0.0, n_estimators=1000,\n",
       "                       n_jobs=-1, oob_score='True', random_state=2003,\n",
       "                       verbose=0, warm_start=False)"
      ]
     },
     "execution_count": 34,
     "metadata": {},
     "output_type": "execute_result"
    }
   ],
   "source": [
    "base_clf_1.fit(train_features, train_labels)"
   ]
  },
  {
   "cell_type": "code",
   "execution_count": 289,
   "metadata": {},
   "outputs": [
    {
     "name": "stdout",
     "output_type": "stream",
     "text": [
      "***** Model Performance. *****\n",
      "- Out of Bag eror: 0.8754.\n",
      "- test_labels values: [0 0 0 0 0 0 0 0 1 0]\n",
      "- predictions values: [0 0 0 0 0 0 1 0 0 0] \n",
      "\n",
      "<Accuracy> \n",
      "              precision    recall  f1-score   support\n",
      "\n",
      "           0       0.89      0.94      0.92     39041\n",
      "           1       0.79      0.66      0.72     12735\n",
      "\n",
      "    accuracy                           0.87     51776\n",
      "   macro avg       0.84      0.80      0.82     51776\n",
      "weighted avg       0.87      0.87      0.87     51776\n",
      "\n"
     ]
    },
    {
     "data": {
      "text/plain": [
       "'              precision    recall  f1-score   support\\n\\n           0       0.89      0.94      0.92     39041\\n           1       0.79      0.66      0.72     12735\\n\\n    accuracy                           0.87     51776\\n   macro avg       0.84      0.80      0.82     51776\\nweighted avg       0.87      0.87      0.87     51776\\n'"
      ]
     },
     "execution_count": 289,
     "metadata": {},
     "output_type": "execute_result"
    }
   ],
   "source": [
    "evaluate(base_clf_1, test_features, test_labels)"
   ]
  },
  {
   "cell_type": "markdown",
   "metadata": {},
   "source": [
    "Recall socore of our target INJURY(target=1) is much less than NoInjury's one due to imbalanced dataset. We have used the parameter for 'Class_weight = balanced_subsample'."
   ]
  },
  {
   "cell_type": "markdown",
   "metadata": {},
   "source": [
    "## Feture importance"
   ]
  },
  {
   "cell_type": "code",
   "execution_count": 266,
   "metadata": {},
   "outputs": [],
   "source": [
    "fi_model = pd.DataFrame({'feature': feature_list,\n",
    "                   'importance': base_clf.feature_importances_}).sort_values('importance', ascending = False)"
   ]
  },
  {
   "cell_type": "code",
   "execution_count": 267,
   "metadata": {},
   "outputs": [
    {
     "data": {
      "text/html": [
       "<div>\n",
       "<style scoped>\n",
       "    .dataframe tbody tr th:only-of-type {\n",
       "        vertical-align: middle;\n",
       "    }\n",
       "\n",
       "    .dataframe tbody tr th {\n",
       "        vertical-align: top;\n",
       "    }\n",
       "\n",
       "    .dataframe thead th {\n",
       "        text-align: right;\n",
       "    }\n",
       "</style>\n",
       "<table border=\"1\" class=\"dataframe\">\n",
       "  <thead>\n",
       "    <tr style=\"text-align: right;\">\n",
       "      <th></th>\n",
       "      <th>feature</th>\n",
       "      <th>importance</th>\n",
       "    </tr>\n",
       "  </thead>\n",
       "  <tbody>\n",
       "    <tr>\n",
       "      <th>231</th>\n",
       "      <td>REPORT_TYPE_NOT ON SCENE (DESK REPORT)</td>\n",
       "      <td>0.114001</td>\n",
       "    </tr>\n",
       "    <tr>\n",
       "      <th>232</th>\n",
       "      <td>REPORT_TYPE_ON SCENE</td>\n",
       "      <td>0.105775</td>\n",
       "    </tr>\n",
       "    <tr>\n",
       "      <th>235</th>\n",
       "      <td>DAMAGE_OVER $1,500</td>\n",
       "      <td>0.028420</td>\n",
       "    </tr>\n",
       "    <tr>\n",
       "      <th>4</th>\n",
       "      <td>people_AGE_mean</td>\n",
       "      <td>0.023724</td>\n",
       "    </tr>\n",
       "    <tr>\n",
       "      <th>14</th>\n",
       "      <td>AIRBAG_DEPLOYED_DEPLOYED, FRONT_count</td>\n",
       "      <td>0.021464</td>\n",
       "    </tr>\n",
       "    <tr>\n",
       "      <th>...</th>\n",
       "      <td>...</td>\n",
       "      <td>...</td>\n",
       "    </tr>\n",
       "    <tr>\n",
       "      <th>9</th>\n",
       "      <td>SEX_U_count</td>\n",
       "      <td>0.000000</td>\n",
       "    </tr>\n",
       "    <tr>\n",
       "      <th>174</th>\n",
       "      <td>LANE_CNT_19.0</td>\n",
       "      <td>0.000000</td>\n",
       "    </tr>\n",
       "    <tr>\n",
       "      <th>188</th>\n",
       "      <td>LANE_CNT_100.0</td>\n",
       "      <td>0.000000</td>\n",
       "    </tr>\n",
       "    <tr>\n",
       "      <th>209</th>\n",
       "      <td>LANE_CNT_902</td>\n",
       "      <td>0.000000</td>\n",
       "    </tr>\n",
       "    <tr>\n",
       "      <th>193</th>\n",
       "      <td>LANE_CNT_1,191,625</td>\n",
       "      <td>0.000000</td>\n",
       "    </tr>\n",
       "  </tbody>\n",
       "</table>\n",
       "<p>362 rows × 2 columns</p>\n",
       "</div>"
      ],
      "text/plain": [
       "                                    feature  importance\n",
       "231  REPORT_TYPE_NOT ON SCENE (DESK REPORT)    0.114001\n",
       "232                    REPORT_TYPE_ON SCENE    0.105775\n",
       "235                      DAMAGE_OVER $1,500    0.028420\n",
       "4                           people_AGE_mean    0.023724\n",
       "14    AIRBAG_DEPLOYED_DEPLOYED, FRONT_count    0.021464\n",
       "..                                      ...         ...\n",
       "9                               SEX_U_count    0.000000\n",
       "174                           LANE_CNT_19.0    0.000000\n",
       "188                          LANE_CNT_100.0    0.000000\n",
       "209                            LANE_CNT_902    0.000000\n",
       "193                      LANE_CNT_1,191,625    0.000000\n",
       "\n",
       "[362 rows x 2 columns]"
      ]
     },
     "execution_count": 267,
     "metadata": {},
     "output_type": "execute_result"
    }
   ],
   "source": [
    "import matplotlib.pyplot as plt\n",
    "import numpy as np\n",
    "\n",
    "\n",
    "plt.style.use('fivethirtyeight')\n",
    "fi_model"
   ]
  },
  {
   "cell_type": "code",
   "execution_count": 268,
   "metadata": {},
   "outputs": [],
   "source": [
    "# feature_importance top 15\n",
    "def plot_feature_importances(df):\n",
    "    \"\"\"\n",
    "    Plot importances returned by a model. This can work with any measure of\n",
    "    feature importance provided that higher importance is better. \n",
    "    \n",
    "    Args:\n",
    "        df (dataframe): feature importances. Must have the features in a column\n",
    "        called `features` and the importances in a column called `importance\n",
    "        \n",
    "    Returns:\n",
    "        shows a plot of the 15 most importance features\n",
    "        \n",
    "        df (dataframe): feature importances sorted by importance (highest to lowest) \n",
    "        with a column for normalized importance\n",
    "        \"\"\"\n",
    "    \n",
    "    # Sort features according to importance\n",
    "    df = df.sort_values('importance', ascending = False).reset_index()\n",
    "    \n",
    "    # Normalize the feature importances to add up to one\n",
    "    df['importance_normalized'] = df['importance'] / df['importance'].sum()\n",
    "\n",
    "    # Make a horizontal bar chart of feature importances\n",
    "    plt.figure(figsize = (10, 6))\n",
    "    ax = plt.subplot()\n",
    "    \n",
    "    # Need to reverse the index to plot most important on top\n",
    "    ax.barh(list(reversed(list(df.index[:15]))), \n",
    "            df['importance_normalized'].head(15), \n",
    "            align = 'center', edgecolor = 'k')\n",
    "    \n",
    "    # Set the yticks and labels\n",
    "    ax.set_yticks(list(reversed(list(df.index[:15]))))\n",
    "    ax.set_yticklabels(df['feature'].head(15))\n",
    "    \n",
    "    # Plot labeling\n",
    "    plt.xlabel('Normalized Importance'); plt.title('Feature Importances')\n",
    "    plt.show()\n",
    "    \n",
    "    return df"
   ]
  },
  {
   "cell_type": "code",
   "execution_count": 269,
   "metadata": {},
   "outputs": [
    {
     "data": {
      "image/png": "[encoded data removed]",
      "text/plain": [
       "<Figure size 720x432 with 1 Axes>"
      ]
     },
     "metadata": {},
     "output_type": "display_data"
    },
    {
     "data": {
      "text/html": [
       "<div>\n",
       "<style scoped>\n",
       "    .dataframe tbody tr th:only-of-type {\n",
       "        vertical-align: middle;\n",
       "    }\n",
       "\n",
       "    .dataframe tbody tr th {\n",
       "        vertical-align: top;\n",
       "    }\n",
       "\n",
       "    .dataframe thead th {\n",
       "        text-align: right;\n",
       "    }\n",
       "</style>\n",
       "<table border=\"1\" class=\"dataframe\">\n",
       "  <thead>\n",
       "    <tr style=\"text-align: right;\">\n",
       "      <th></th>\n",
       "      <th>index</th>\n",
       "      <th>feature</th>\n",
       "      <th>importance</th>\n",
       "      <th>importance_normalized</th>\n",
       "    </tr>\n",
       "  </thead>\n",
       "  <tbody>\n",
       "    <tr>\n",
       "      <th>0</th>\n",
       "      <td>231</td>\n",
       "      <td>REPORT_TYPE_NOT ON SCENE (DESK REPORT)</td>\n",
       "      <td>0.114001</td>\n",
       "      <td>0.114001</td>\n",
       "    </tr>\n",
       "    <tr>\n",
       "      <th>1</th>\n",
       "      <td>232</td>\n",
       "      <td>REPORT_TYPE_ON SCENE</td>\n",
       "      <td>0.105775</td>\n",
       "      <td>0.105775</td>\n",
       "    </tr>\n",
       "    <tr>\n",
       "      <th>2</th>\n",
       "      <td>235</td>\n",
       "      <td>DAMAGE_OVER $1,500</td>\n",
       "      <td>0.028420</td>\n",
       "      <td>0.028420</td>\n",
       "    </tr>\n",
       "    <tr>\n",
       "      <th>3</th>\n",
       "      <td>4</td>\n",
       "      <td>people_AGE_mean</td>\n",
       "      <td>0.023724</td>\n",
       "      <td>0.023724</td>\n",
       "    </tr>\n",
       "    <tr>\n",
       "      <th>4</th>\n",
       "      <td>14</td>\n",
       "      <td>AIRBAG_DEPLOYED_DEPLOYED, FRONT_count</td>\n",
       "      <td>0.021464</td>\n",
       "      <td>0.021464</td>\n",
       "    </tr>\n",
       "    <tr>\n",
       "      <th>...</th>\n",
       "      <td>...</td>\n",
       "      <td>...</td>\n",
       "      <td>...</td>\n",
       "      <td>...</td>\n",
       "    </tr>\n",
       "    <tr>\n",
       "      <th>357</th>\n",
       "      <td>9</td>\n",
       "      <td>SEX_U_count</td>\n",
       "      <td>0.000000</td>\n",
       "      <td>0.000000</td>\n",
       "    </tr>\n",
       "    <tr>\n",
       "      <th>358</th>\n",
       "      <td>174</td>\n",
       "      <td>LANE_CNT_19.0</td>\n",
       "      <td>0.000000</td>\n",
       "      <td>0.000000</td>\n",
       "    </tr>\n",
       "    <tr>\n",
       "      <th>359</th>\n",
       "      <td>188</td>\n",
       "      <td>LANE_CNT_100.0</td>\n",
       "      <td>0.000000</td>\n",
       "      <td>0.000000</td>\n",
       "    </tr>\n",
       "    <tr>\n",
       "      <th>360</th>\n",
       "      <td>209</td>\n",
       "      <td>LANE_CNT_902</td>\n",
       "      <td>0.000000</td>\n",
       "      <td>0.000000</td>\n",
       "    </tr>\n",
       "    <tr>\n",
       "      <th>361</th>\n",
       "      <td>193</td>\n",
       "      <td>LANE_CNT_1,191,625</td>\n",
       "      <td>0.000000</td>\n",
       "      <td>0.000000</td>\n",
       "    </tr>\n",
       "  </tbody>\n",
       "</table>\n",
       "<p>362 rows × 4 columns</p>\n",
       "</div>"
      ],
      "text/plain": [
       "     index                                 feature  importance  \\\n",
       "0      231  REPORT_TYPE_NOT ON SCENE (DESK REPORT)    0.114001   \n",
       "1      232                    REPORT_TYPE_ON SCENE    0.105775   \n",
       "2      235                      DAMAGE_OVER $1,500    0.028420   \n",
       "3        4                         people_AGE_mean    0.023724   \n",
       "4       14   AIRBAG_DEPLOYED_DEPLOYED, FRONT_count    0.021464   \n",
       "..     ...                                     ...         ...   \n",
       "357      9                             SEX_U_count    0.000000   \n",
       "358    174                           LANE_CNT_19.0    0.000000   \n",
       "359    188                          LANE_CNT_100.0    0.000000   \n",
       "360    209                            LANE_CNT_902    0.000000   \n",
       "361    193                      LANE_CNT_1,191,625    0.000000   \n",
       "\n",
       "     importance_normalized  \n",
       "0                 0.114001  \n",
       "1                 0.105775  \n",
       "2                 0.028420  \n",
       "3                 0.023724  \n",
       "4                 0.021464  \n",
       "..                     ...  \n",
       "357               0.000000  \n",
       "358               0.000000  \n",
       "359               0.000000  \n",
       "360               0.000000  \n",
       "361               0.000000  \n",
       "\n",
       "[362 rows x 4 columns]"
      ]
     },
     "execution_count": 269,
     "metadata": {},
     "output_type": "execute_result"
    }
   ],
   "source": [
    "plot_feature_importances(fi_model)"
   ]
  },
  {
   "cell_type": "code",
   "execution_count": 248,
   "metadata": {},
   "outputs": [],
   "source": [
    "# Get numerical feature importances\n",
    "importances = list(base_clf.feature_importances_)\n",
    "feature_list = list(features)\n",
    "# List of tuples with variable and importance\n",
    "feature_importances = [(feature, round(importance, 2)) for feature, importance in zip(feature_list, importances)]\n",
    "\n",
    "# Sort the feature importances by most important first\n",
    "feature_importances = sorted(feature_importances, key = lambda x: x[1], reverse = True)\n",
    "\n",
    "# # Print out the feature and importances \n",
    "# f'Variable: {:20} Importance: {}.format(*pair)) for pair in feature_importances'"
   ]
  },
  {
   "cell_type": "markdown",
   "metadata": {},
   "source": [
    "### Limit Number of Features\n",
    "We will now reduce the number of features in use by the model to only those required to account for 95% of the importance. The same number of features must be used in the training and testing sets."
   ]
  },
  {
   "cell_type": "code",
   "execution_count": 270,
   "metadata": {},
   "outputs": [
    {
     "data": {
      "text/html": [
       "<div>\n",
       "<style scoped>\n",
       "    .dataframe tbody tr th:only-of-type {\n",
       "        vertical-align: middle;\n",
       "    }\n",
       "\n",
       "    .dataframe tbody tr th {\n",
       "        vertical-align: top;\n",
       "    }\n",
       "\n",
       "    .dataframe thead th {\n",
       "        text-align: right;\n",
       "    }\n",
       "</style>\n",
       "<table border=\"1\" class=\"dataframe\">\n",
       "  <thead>\n",
       "    <tr style=\"text-align: right;\">\n",
       "      <th></th>\n",
       "      <th>feature</th>\n",
       "      <th>importance</th>\n",
       "      <th>cumulative_importance</th>\n",
       "    </tr>\n",
       "  </thead>\n",
       "  <tbody>\n",
       "    <tr>\n",
       "      <th>231</th>\n",
       "      <td>REPORT_TYPE_NOT ON SCENE (DESK REPORT)</td>\n",
       "      <td>0.114001</td>\n",
       "      <td>0.114001</td>\n",
       "    </tr>\n",
       "    <tr>\n",
       "      <th>232</th>\n",
       "      <td>REPORT_TYPE_ON SCENE</td>\n",
       "      <td>0.105775</td>\n",
       "      <td>0.219777</td>\n",
       "    </tr>\n",
       "    <tr>\n",
       "      <th>235</th>\n",
       "      <td>DAMAGE_OVER $1,500</td>\n",
       "      <td>0.028420</td>\n",
       "      <td>0.248197</td>\n",
       "    </tr>\n",
       "    <tr>\n",
       "      <th>4</th>\n",
       "      <td>people_AGE_mean</td>\n",
       "      <td>0.023724</td>\n",
       "      <td>0.271921</td>\n",
       "    </tr>\n",
       "    <tr>\n",
       "      <th>14</th>\n",
       "      <td>AIRBAG_DEPLOYED_DEPLOYED, FRONT_count</td>\n",
       "      <td>0.021464</td>\n",
       "      <td>0.293385</td>\n",
       "    </tr>\n",
       "    <tr>\n",
       "      <th>...</th>\n",
       "      <td>...</td>\n",
       "      <td>...</td>\n",
       "      <td>...</td>\n",
       "    </tr>\n",
       "    <tr>\n",
       "      <th>9</th>\n",
       "      <td>SEX_U_count</td>\n",
       "      <td>0.000000</td>\n",
       "      <td>1.000000</td>\n",
       "    </tr>\n",
       "    <tr>\n",
       "      <th>174</th>\n",
       "      <td>LANE_CNT_19.0</td>\n",
       "      <td>0.000000</td>\n",
       "      <td>1.000000</td>\n",
       "    </tr>\n",
       "    <tr>\n",
       "      <th>188</th>\n",
       "      <td>LANE_CNT_100.0</td>\n",
       "      <td>0.000000</td>\n",
       "      <td>1.000000</td>\n",
       "    </tr>\n",
       "    <tr>\n",
       "      <th>209</th>\n",
       "      <td>LANE_CNT_902</td>\n",
       "      <td>0.000000</td>\n",
       "      <td>1.000000</td>\n",
       "    </tr>\n",
       "    <tr>\n",
       "      <th>193</th>\n",
       "      <td>LANE_CNT_1,191,625</td>\n",
       "      <td>0.000000</td>\n",
       "      <td>1.000000</td>\n",
       "    </tr>\n",
       "  </tbody>\n",
       "</table>\n",
       "<p>362 rows × 3 columns</p>\n",
       "</div>"
      ],
      "text/plain": [
       "                                    feature  importance  cumulative_importance\n",
       "231  REPORT_TYPE_NOT ON SCENE (DESK REPORT)    0.114001               0.114001\n",
       "232                    REPORT_TYPE_ON SCENE    0.105775               0.219777\n",
       "235                      DAMAGE_OVER $1,500    0.028420               0.248197\n",
       "4                           people_AGE_mean    0.023724               0.271921\n",
       "14    AIRBAG_DEPLOYED_DEPLOYED, FRONT_count    0.021464               0.293385\n",
       "..                                      ...         ...                    ...\n",
       "9                               SEX_U_count    0.000000               1.000000\n",
       "174                           LANE_CNT_19.0    0.000000               1.000000\n",
       "188                          LANE_CNT_100.0    0.000000               1.000000\n",
       "209                            LANE_CNT_902    0.000000               1.000000\n",
       "193                      LANE_CNT_1,191,625    0.000000               1.000000\n",
       "\n",
       "[362 rows x 3 columns]"
      ]
     },
     "execution_count": 270,
     "metadata": {},
     "output_type": "execute_result"
    }
   ],
   "source": [
    "fi_model['cumulative_importance'] = np.cumsum(fi_model['importance'])\n",
    "fi_model"
   ]
  },
  {
   "cell_type": "code",
   "execution_count": 271,
   "metadata": {},
   "outputs": [
    {
     "name": "stdout",
     "output_type": "stream",
     "text": [
      "Number of features for 95% importance: 171\n"
     ]
    }
   ],
   "source": [
    "print('Number of features for 95% importance:', np.where(fi_model['cumulative_importance'] > 0.95)[0][0] + 1)"
   ]
  },
  {
   "cell_type": "code",
   "execution_count": 272,
   "metadata": {},
   "outputs": [
    {
     "data": {
      "text/html": [
       "<div>\n",
       "<style scoped>\n",
       "    .dataframe tbody tr th:only-of-type {\n",
       "        vertical-align: middle;\n",
       "    }\n",
       "\n",
       "    .dataframe tbody tr th {\n",
       "        vertical-align: top;\n",
       "    }\n",
       "\n",
       "    .dataframe thead th {\n",
       "        text-align: right;\n",
       "    }\n",
       "</style>\n",
       "<table border=\"1\" class=\"dataframe\">\n",
       "  <thead>\n",
       "    <tr style=\"text-align: right;\">\n",
       "      <th></th>\n",
       "      <th>feature</th>\n",
       "      <th>importance</th>\n",
       "      <th>cumulative_importance</th>\n",
       "    </tr>\n",
       "  </thead>\n",
       "  <tbody>\n",
       "    <tr>\n",
       "      <th>231</th>\n",
       "      <td>REPORT_TYPE_NOT ON SCENE (DESK REPORT)</td>\n",
       "      <td>0.114001</td>\n",
       "      <td>0.114001</td>\n",
       "    </tr>\n",
       "    <tr>\n",
       "      <th>232</th>\n",
       "      <td>REPORT_TYPE_ON SCENE</td>\n",
       "      <td>0.105775</td>\n",
       "      <td>0.219777</td>\n",
       "    </tr>\n",
       "    <tr>\n",
       "      <th>235</th>\n",
       "      <td>DAMAGE_OVER $1,500</td>\n",
       "      <td>0.028420</td>\n",
       "      <td>0.248197</td>\n",
       "    </tr>\n",
       "    <tr>\n",
       "      <th>4</th>\n",
       "      <td>people_AGE_mean</td>\n",
       "      <td>0.023724</td>\n",
       "      <td>0.271921</td>\n",
       "    </tr>\n",
       "    <tr>\n",
       "      <th>14</th>\n",
       "      <td>AIRBAG_DEPLOYED_DEPLOYED, FRONT_count</td>\n",
       "      <td>0.021464</td>\n",
       "      <td>0.293385</td>\n",
       "    </tr>\n",
       "    <tr>\n",
       "      <th>...</th>\n",
       "      <td>...</td>\n",
       "      <td>...</td>\n",
       "      <td>...</td>\n",
       "    </tr>\n",
       "    <tr>\n",
       "      <th>263</th>\n",
       "      <td>PRIM_CONTRIBUTORY_CAUSE_OPERATING VEHICLE IN E...</td>\n",
       "      <td>0.000942</td>\n",
       "      <td>0.947087</td>\n",
       "    </tr>\n",
       "    <tr>\n",
       "      <th>105</th>\n",
       "      <td>TRAFFIC_CONTROL_DEVICE_UNKNOWN</td>\n",
       "      <td>0.000935</td>\n",
       "      <td>0.948022</td>\n",
       "    </tr>\n",
       "    <tr>\n",
       "      <th>328</th>\n",
       "      <td>CRASH_HOUR_2</td>\n",
       "      <td>0.000928</td>\n",
       "      <td>0.948951</td>\n",
       "    </tr>\n",
       "    <tr>\n",
       "      <th>162</th>\n",
       "      <td>LANE_CNT_6.0</td>\n",
       "      <td>0.000908</td>\n",
       "      <td>0.949858</td>\n",
       "    </tr>\n",
       "    <tr>\n",
       "      <th>156</th>\n",
       "      <td>LANE_CNT_0.0</td>\n",
       "      <td>0.000902</td>\n",
       "      <td>0.950760</td>\n",
       "    </tr>\n",
       "  </tbody>\n",
       "</table>\n",
       "<p>171 rows × 3 columns</p>\n",
       "</div>"
      ],
      "text/plain": [
       "                                               feature  importance  \\\n",
       "231             REPORT_TYPE_NOT ON SCENE (DESK REPORT)    0.114001   \n",
       "232                               REPORT_TYPE_ON SCENE    0.105775   \n",
       "235                                 DAMAGE_OVER $1,500    0.028420   \n",
       "4                                      people_AGE_mean    0.023724   \n",
       "14               AIRBAG_DEPLOYED_DEPLOYED, FRONT_count    0.021464   \n",
       "..                                                 ...         ...   \n",
       "263  PRIM_CONTRIBUTORY_CAUSE_OPERATING VEHICLE IN E...    0.000942   \n",
       "105                     TRAFFIC_CONTROL_DEVICE_UNKNOWN    0.000935   \n",
       "328                                       CRASH_HOUR_2    0.000928   \n",
       "162                                       LANE_CNT_6.0    0.000908   \n",
       "156                                       LANE_CNT_0.0    0.000902   \n",
       "\n",
       "     cumulative_importance  \n",
       "231               0.114001  \n",
       "232               0.219777  \n",
       "235               0.248197  \n",
       "4                 0.271921  \n",
       "14                0.293385  \n",
       "..                     ...  \n",
       "263               0.947087  \n",
       "105               0.948022  \n",
       "328               0.948951  \n",
       "162               0.949858  \n",
       "156               0.950760  \n",
       "\n",
       "[171 rows x 3 columns]"
      ]
     },
     "execution_count": 272,
     "metadata": {},
     "output_type": "execute_result"
    }
   ],
   "source": [
    "#check 0~171\n",
    "fi_model.iloc[0:171]"
   ]
  },
  {
   "cell_type": "code",
   "execution_count": 273,
   "metadata": {},
   "outputs": [
    {
     "data": {
      "text/plain": [
       "Int64Index([231, 232, 235,   4,  14, 234,   3, 139,  18,   1,\n",
       "            ...\n",
       "            126, 317, 335,  40, 271, 263, 105, 328, 162, 156],\n",
       "           dtype='int64', length=171)"
      ]
     },
     "execution_count": 273,
     "metadata": {},
     "output_type": "execute_result"
    }
   ],
   "source": [
    "fi_model.iloc[0:171].index"
   ]
  },
  {
   "cell_type": "code",
   "execution_count": 274,
   "metadata": {},
   "outputs": [],
   "source": [
    "important_indices = fi_model.iloc[0:171].index"
   ]
  },
  {
   "cell_type": "code",
   "execution_count": 279,
   "metadata": {},
   "outputs": [],
   "source": [
    "important_train_features = train_features.iloc[:,important_indices]\n",
    "important_test_features  = test_features.iloc[:,important_indices]"
   ]
  },
  {
   "cell_type": "markdown",
   "metadata": {},
   "source": [
    "## Random Forest Optimization through Random Search\n",
    "In order to maximize the performance of the random forest, we can perform a random search for better hyperparameters. This will randomly select combinations of hyperparameters from a grid, evaluate them using cross validation on the training data, and return the values that perform the best."
   ]
  },
  {
   "cell_type": "markdown",
   "metadata": {},
   "source": [
    "#### Random search with Cross Validation\n",
    "We will set the hyperparameters randomly."
   ]
  },
  {
   "cell_type": "code",
   "execution_count": 206,
   "metadata": {
    "scrolled": true
   },
   "outputs": [
    {
     "name": "stdout",
     "output_type": "stream",
     "text": [
      "{'bootstrap': [True],\n",
      " 'max_depth': [10, 20, 30, 40, 50, None],\n",
      " 'max_features': ['auto'],\n",
      " 'min_samples_leaf': [1, 2, 4],\n",
      " 'min_samples_split': [2, 5, 10],\n",
      " 'n_estimators': [200, 400, 600, 800, 1000]}\n"
     ]
    }
   ],
   "source": [
    "\n",
    "from sklearn.model_selection import RandomizedSearchCV\n",
    "\n",
    "# Number of trees in random forest\n",
    "n_estimators = [int(x) for x in np.linspace(start = 200, stop = 1000, num =5 )]\n",
    "# Number of features to consider at every split\n",
    "max_features = ['auto']\n",
    "# Maximum number of levels in tree\n",
    "max_depth = [int(x) for x in np.linspace(10, 50, num = 5)]\n",
    "max_depth.append(None)\n",
    "# Minimum number of samples required to split a node\n",
    "min_samples_split = [2, 5, 10]\n",
    "# Minimum number of samples required at each leaf node\n",
    "min_samples_leaf = [1, 2, 4]\n",
    "# Method of selecting samples for training each tree\n",
    "bootstrap = [True]\n",
    "\n",
    "# Create the random grid\n",
    "random_grid = {'n_estimators': n_estimators,\n",
    "               'max_features': max_features,\n",
    "               'max_depth': max_depth,\n",
    "               'min_samples_split': min_samples_split,\n",
    "               'min_samples_leaf': min_samples_leaf,\n",
    "               'bootstrap': bootstrap}\n",
    "\n",
    "pprint(random_grid)"
   ]
  },
  {
   "cell_type": "markdown",
   "metadata": {},
   "source": [
    "The most important arguments in RandomizedSearchCV are n_iter, which controls the number of different combinations to try, and cv which is the number of folds to use for cross validation (we use 100 and 3 respectively). More iterations will cover a wider search space and more cv folds reduces the chances of overfitting, but raising each will increase the run time. Machine learning is a field of trade-offs, and performance vs time is one of the most fundamental."
   ]
  },
  {
   "cell_type": "code",
   "execution_count": null,
   "metadata": {},
   "outputs": [],
   "source": [
    "# Here is the code for finding RandomizedSearchCV but it never finishes with the computer. we will move on to GridSearch\n",
    "# Use the random grid to search for best hyperparameters\n",
    "# First create the base model to tune\n",
    "rf = RandomForestClassifier(random_state = 2003, class_weight='balanced_subsample',\n",
    "                                  oob_score='True')\n",
    "# Random search of parameters, using 3 fold cross validation, \n",
    "# search across 100 different combinations, and use all available cores\n",
    "rf_random = RandomizedSearchCV(estimator=rf, param_distributions=random_grid,\n",
    "                              n_iter = 100, scoring='roc_auc', \n",
    "                              cv = 3, verbose=2, random_state=2003, n_jobs=-1,\n",
    "                              return_train_score=True)\n",
    "\n",
    "# Fit the random search model\n",
    "rf_random.fit(important_train_features, train_labels)"
   ]
  },
  {
   "cell_type": "code",
   "execution_count": null,
   "metadata": {},
   "outputs": [],
   "source": [
    "rf_random.best_params_"
   ]
  },
  {
   "cell_type": "code",
   "execution_count": null,
   "metadata": {},
   "outputs": [],
   "source": [
    "rf_random.scorer_"
   ]
  },
  {
   "cell_type": "code",
   "execution_count": 207,
   "metadata": {},
   "outputs": [
    {
     "data": {
      "text/plain": [
       "0.75"
      ]
     },
     "execution_count": 207,
     "metadata": {},
     "output_type": "execute_result"
    }
   ],
   "source": [
    "from sklearn.metrics import roc_auc_score\n",
    "y_true = np.array([0, 0, 1, 1])\n",
    "y_scores = np.array([0.1, 0.4, 0.35, 0.8])\n",
    "roc_auc_score(y_true, y_scores)"
   ]
  },
  {
   "cell_type": "markdown",
   "metadata": {},
   "source": [
    "## Grid Search\n",
    "We can now perform grid search building on the result from the random search. We will test a range of hyperparameters around the best values returned by random search."
   ]
  },
  {
   "cell_type": "code",
   "execution_count": 278,
   "metadata": {},
   "outputs": [],
   "source": [
    "from sklearn.model_selection import GridSearchCV\n",
    "\n",
    "# Create the parameter grid based on the results of random search \n",
    "param_grid = {\n",
    "    'bootstrap': [True],\n",
    "    'max_depth': [20,40,60,80],\n",
    "    'max_features': [2, 3],\n",
    "    'min_samples_leaf': [3, 4, 5],\n",
    "    'min_samples_split': [8, 10, 12],\n",
    "    'n_estimators': [200, 300,500, 1000]\n",
    "}\n",
    "\n",
    "# Create a base model\n",
    "rf = RandomForestClassifier(random_state = 2003, class_weight='balanced',\n",
    "                                  oob_score='True',n_estimators= 1000, n_jobs=-1)\n",
    "\n",
    "\n",
    "\n",
    "# Instantiate the grid search model\n",
    "grid_search = GridSearchCV(estimator = rf, param_grid = param_grid, \n",
    "                          cv = 3, n_jobs = -1, verbose = 2, return_train_score=True)"
   ]
  },
  {
   "cell_type": "code",
   "execution_count": 280,
   "metadata": {},
   "outputs": [
    {
     "name": "stdout",
     "output_type": "stream",
     "text": [
      "Fitting 3 folds for each of 288 candidates, totalling 864 fits\n"
     ]
    },
    {
     "name": "stderr",
     "output_type": "stream",
     "text": [
      "[Parallel(n_jobs=-1)]: Using backend LokyBackend with 16 concurrent workers.\n",
      "[Parallel(n_jobs=-1)]: Done   9 tasks      | elapsed:  3.7min\n",
      "[Parallel(n_jobs=-1)]: Done 130 tasks      | elapsed: 34.0min\n",
      "[Parallel(n_jobs=-1)]: Done 333 tasks      | elapsed: 91.7min\n",
      "[Parallel(n_jobs=-1)]: Done 616 tasks      | elapsed: 177.3min\n",
      "[Parallel(n_jobs=-1)]: Done 864 out of 864 | elapsed: 249.0min finished\n"
     ]
    }
   ],
   "source": [
    "# Fit the grid search to the important_train_features\n",
    "grid_search.fit(important_train_features, train_labels);"
   ]
  },
  {
   "cell_type": "code",
   "execution_count": 281,
   "metadata": {},
   "outputs": [
    {
     "data": {
      "text/plain": [
       "{'bootstrap': True,\n",
       " 'max_depth': 40,\n",
       " 'max_features': 3,\n",
       " 'min_samples_leaf': 3,\n",
       " 'min_samples_split': 8,\n",
       " 'n_estimators': 500}"
      ]
     },
     "execution_count": 281,
     "metadata": {},
     "output_type": "execute_result"
    }
   ],
   "source": [
    "grid_search.best_params_"
   ]
  },
  {
   "cell_type": "code",
   "execution_count": 282,
   "metadata": {},
   "outputs": [],
   "source": [
    "best_grid = grid_search.best_estimator_"
   ]
  },
  {
   "cell_type": "code",
   "execution_count": 284,
   "metadata": {},
   "outputs": [
    {
     "name": "stdout",
     "output_type": "stream",
     "text": [
      "***** Model Performance. *****\n",
      "- Out of Bag eror: 0.8583.\n",
      "- test_labels values: [0 0 0 0 0 0 0 0 1 0]\n",
      "- predictions values: [0 0 0 0 0 0 1 0 0 0] \n",
      "\n",
      "<Accuracy> \n",
      "              precision    recall  f1-score   support\n",
      "\n",
      "           0       0.93      0.88      0.90     39041\n",
      "           1       0.68      0.80      0.73     12735\n",
      "\n",
      "    accuracy                           0.86     51776\n",
      "   macro avg       0.80      0.84      0.82     51776\n",
      "weighted avg       0.87      0.86      0.86     51776\n",
      "\n"
     ]
    },
    {
     "data": {
      "text/plain": [
       "'              precision    recall  f1-score   support\\n\\n           0       0.93      0.88      0.90     39041\\n           1       0.68      0.80      0.73     12735\\n\\n    accuracy                           0.86     51776\\n   macro avg       0.80      0.84      0.82     51776\\nweighted avg       0.87      0.86      0.86     51776\\n'"
      ]
     },
     "execution_count": 284,
     "metadata": {},
     "output_type": "execute_result"
    }
   ],
   "source": [
    "grid_performance = evaluate(best_grid, important_test_features,test_labels)\n",
    "grid_performance"
   ]
  },
  {
   "cell_type": "markdown",
   "metadata": {},
   "source": [
    "# Random Forest Results"
   ]
  },
  {
   "cell_type": "code",
   "execution_count": 291,
   "metadata": {},
   "outputs": [],
   "source": [
    "train_rf_predictions = best_grid.predict(important_train_features)\n",
    "train_rf_probs = best_grid.predict_proba(important_train_features)[:, 1]\n",
    "\n",
    "rf_predictions = best_grid.predict(important_test_features)\n",
    "rf_probs = best_grid.predict_proba(important_test_features)[:, 1]"
   ]
  },
  {
   "cell_type": "code",
   "execution_count": 298,
   "metadata": {},
   "outputs": [
    {
     "name": "stdout",
     "output_type": "stream",
     "text": [
      "Train ROC AUC Score: 0.9618386446925643\n",
      "Test ROC AUC  Score: 0.9089810378943132\n"
     ]
    }
   ],
   "source": [
    "from sklearn.metrics import precision_score, recall_score, roc_auc_score, roc_curve\n",
    "\n",
    "print(f'Train ROC AUC Score: {roc_auc_score(train_labels, train_rf_probs)}')\n",
    "print(f'Test ROC AUC  Score: {roc_auc_score(test_labels, rf_probs)}')"
   ]
  },
  {
   "cell_type": "code",
   "execution_count": 299,
   "metadata": {},
   "outputs": [],
   "source": [
    "def evaluate_model(predictions, probs, train_predictions, train_probs):\n",
    "    \"\"\"Compare machine learning model to baseline performance.\n",
    "    Computes statistics and shows ROC curve.\"\"\"\n",
    "    \n",
    "    baseline = {}\n",
    "    \n",
    "    baseline['recall'] = recall_score(test_labels, [1 for _ in range(len(test_labels))])\n",
    "    baseline['precision'] = precision_score(test_labels, [1 for _ in range(len(test_labels))])\n",
    "    baseline['roc'] = 0.5\n",
    "    \n",
    "    results = {}\n",
    "    \n",
    "    results['recall'] = recall_score(test_labels, predictions)\n",
    "    results['precision'] = precision_score(test_labels, predictions)\n",
    "    results['roc'] = roc_auc_score(test_labels, probs)\n",
    "    \n",
    "    train_results = {}\n",
    "    train_results['recall'] = recall_score(train_labels, train_predictions)\n",
    "    train_results['precision'] = precision_score(train_labels, train_predictions)\n",
    "    train_results['roc'] = roc_auc_score(train_labels, train_probs)\n",
    "    \n",
    "    for metric in ['recall', 'precision', 'roc']:\n",
    "        print(f'{metric.capitalize()} Baseline: {round(baseline[metric], 2)} Test: {round(results[metric], 2)} Train: {round(train_results[metric], 2)}')\n",
    "    \n",
    "    # Calculate false positive rates and true positive rates\n",
    "    base_fpr, base_tpr, _ = roc_curve(test_labels, [1 for _ in range(len(test_labels))])\n",
    "    model_fpr, model_tpr, _ = roc_curve(test_labels, probs)\n",
    "\n",
    "    plt.figure(figsize = (8, 6))\n",
    "    plt.rcParams['font.size'] = 16\n",
    "    \n",
    "    # Plot both curves\n",
    "    plt.plot(base_fpr, base_tpr, 'b', label = 'baseline')\n",
    "    plt.plot(model_fpr, model_tpr, 'r', label = 'model')\n",
    "    plt.legend();\n",
    "    plt.xlabel('False Positive Rate'); plt.ylabel('True Positive Rate'); plt.title('ROC Curves');"
   ]
  },
  {
   "cell_type": "code",
   "execution_count": 311,
   "metadata": {},
   "outputs": [
    {
     "data": {
      "text/plain": [
       "0.9089810378943132"
      ]
     },
     "execution_count": 311,
     "metadata": {},
     "output_type": "execute_result"
    }
   ],
   "source": [
    "roc_auc_score(test_labels, rf_probs)"
   ]
  },
  {
   "cell_type": "code",
   "execution_count": 300,
   "metadata": {},
   "outputs": [
    {
     "name": "stdout",
     "output_type": "stream",
     "text": [
      "Recall Baseline: 1.0 Test: 0.8 Train: 0.88\n",
      "Precision Baseline: 0.25 Test: 0.68 Train: 0.74\n",
      "Roc Baseline: 0.5 Test: 0.91 Train: 0.96\n"
     ]
    },
    {
     "data": {
      "image/png": "[encoded data removed]",
      "text/plain": [
       "<Figure size 576x432 with 1 Axes>"
      ]
     },
     "metadata": {},
     "output_type": "display_data"
    }
   ],
   "source": [
    "evaluate_model(rf_predictions, rf_probs, train_rf_predictions, train_rf_probs)\n"
   ]
  },
  {
   "cell_type": "markdown",
   "metadata": {},
   "source": [
    "## confusion matrix"
   ]
  },
  {
   "cell_type": "code",
   "execution_count": 301,
   "metadata": {},
   "outputs": [],
   "source": [
    "\n",
    "from sklearn.metrics import confusion_matrix\n",
    "import itertools\n",
    "\n",
    "def plot_confusion_matrix(cm, classes,\n",
    "                          normalize=False,\n",
    "                          title='Confusion matrix',\n",
    "                          cmap=plt.cm.Oranges):\n",
    "    \"\"\"\n",
    "    This function prints and plots the confusion matrix.\n",
    "    Normalization can be applied by setting `normalize=True`.\n",
    "    Source: http://scikit-learn.org/stable/auto_examples/model_selection/plot_confusion_matrix.html\n",
    "    \"\"\"\n",
    "    if normalize:\n",
    "        cm = cm.astype('float') / cm.sum(axis=1)[:, np.newaxis]\n",
    "        print(\"Normalized confusion matrix\")\n",
    "    else:\n",
    "        print('Confusion matrix, without normalization')\n",
    "\n",
    "    print(cm)\n",
    "\n",
    "    plt.figure(figsize = (10, 10))\n",
    "    plt.imshow(cm, interpolation='nearest', cmap=cmap)\n",
    "    plt.title(title, size = 24)\n",
    "    plt.colorbar(aspect=4)\n",
    "    tick_marks = np.arange(len(classes))\n",
    "    plt.xticks(tick_marks, classes, rotation=45, size = 14)\n",
    "    plt.yticks(tick_marks, classes, size = 14)\n",
    "\n",
    "    fmt = '.2f' if normalize else 'd'\n",
    "    thresh = cm.max() / 2.\n",
    "    \n",
    "    # Labeling the plot\n",
    "    for i, j in itertools.product(range(cm.shape[0]), range(cm.shape[1])):\n",
    "        plt.text(j, i, format(cm[i, j], fmt), fontsize = 20,\n",
    "                 horizontalalignment=\"center\",\n",
    "                 color=\"white\" if cm[i, j] > thresh else \"black\")\n",
    "        \n",
    "    plt.grid(None)\n",
    "    plt.tight_layout()\n",
    "    plt.ylabel('True label', size = 18)\n",
    "    plt.xlabel('Predicted label', size = 18)"
   ]
  },
  {
   "cell_type": "code",
   "execution_count": 308,
   "metadata": {},
   "outputs": [
    {
     "name": "stdout",
     "output_type": "stream",
     "text": [
      "Confusion matrix, without normalization\n",
      "[[34248  4793]\n",
      " [ 2597 10138]]\n"
     ]
    },
    {
     "data": {
      "image/png": "[encoded data removed]",
      "text/plain": [
       "<Figure size 720x720 with 2 Axes>"
      ]
     },
     "metadata": {},
     "output_type": "display_data"
    }
   ],
   "source": [
    "cm = confusion_matrix(test_labels, rf_predictions)\n",
    "plot_confusion_matrix(cm, classes = ['No Injury', 'Injury'],\n",
    "                      title = 'Injury / No injury matrix')"
   ]
  },
  {
   "cell_type": "code",
   "execution_count": 306,
   "metadata": {},
   "outputs": [
    {
     "data": {
      "text/plain": [
       "array([[34248,  4793],\n",
       "       [ 2597, 10138]], dtype=int64)"
      ]
     },
     "execution_count": 306,
     "metadata": {},
     "output_type": "execute_result"
    }
   ],
   "source": [
    "confusion_matrix(test_labels, rf_predictions)"
   ]
  }
 ],
 "metadata": {
  "kernelspec": {
   "display_name": "Python 3",
   "language": "python",
   "name": "python3"
  },
  "language_info": {
   "codemirror_mode": {
    "name": "ipython",
    "version": 3
   },
   "file_extension": ".py",
   "mimetype": "text/x-python",
   "name": "python",
   "nbconvert_exporter": "python",
   "pygments_lexer": "ipython3",
   "version": "3.7.3"
  }
 },
 "nbformat": 4,
 "nbformat_minor": 4
}
